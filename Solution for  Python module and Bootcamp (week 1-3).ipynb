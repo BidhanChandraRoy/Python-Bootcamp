{
 "cells": [
  {
   "cell_type": "markdown",
   "id": "4b28f713",
   "metadata": {},
   "source": [
    "# 📝<font color=red>Bootcamp Solution</font>"
   ]
  },
  {
   "cell_type": "markdown",
   "id": "50b3c01d",
   "metadata": {},
   "source": [
    "## <font color=BLUE>A. Basic of Python</font>\n",
    "###  Integer, Float, Boolean, String"
   ]
  },
  {
   "cell_type": "code",
   "execution_count": 3,
   "id": "a4bc46eb",
   "metadata": {},
   "outputs": [
    {
     "name": "stdout",
     "output_type": "stream",
     "text": [
      "Hello, World!\n",
      "Good Morning\n",
      "bidhan\n"
     ]
    }
   ],
   "source": [
    "print('Hello, World!')\n",
    "print('Good Morning')\n",
    "name = 'bidhan'\n",
    "print(name)"
   ]
  },
  {
   "cell_type": "code",
   "execution_count": 4,
   "id": "cfac8320",
   "metadata": {},
   "outputs": [
    {
     "name": "stdout",
     "output_type": "stream",
     "text": [
      "3.0\n"
     ]
    }
   ],
   "source": [
    "# 1.\n",
    "x = 3.5\n",
    "print(float(int(x)))"
   ]
  },
  {
   "cell_type": "code",
   "execution_count": 5,
   "id": "efb3cec0",
   "metadata": {},
   "outputs": [
    {
     "ename": "NameError",
     "evalue": "name 'Varma' is not defined",
     "output_type": "error",
     "traceback": [
      "\u001b[1;31m---------------------------------------------------------------------------\u001b[0m",
      "\u001b[1;31mNameError\u001b[0m                                 Traceback (most recent call last)",
      "Input \u001b[1;32mIn [5]\u001b[0m, in \u001b[0;36m<cell line: 2>\u001b[1;34m()\u001b[0m\n\u001b[0;32m      1\u001b[0m \u001b[38;5;66;03m# 2.\u001b[39;00m\n\u001b[1;32m----> 2\u001b[0m name \u001b[38;5;241m=\u001b[39m \u001b[43mVarma\u001b[49m\n\u001b[0;32m      3\u001b[0m \u001b[38;5;28mprint\u001b[39m(\u001b[38;5;28mtype\u001b[39m(name))\n",
      "\u001b[1;31mNameError\u001b[0m: name 'Varma' is not defined"
     ]
    }
   ],
   "source": [
    "# 2.\n",
    "name = Varma\n",
    "print(type(name))"
   ]
  },
  {
   "cell_type": "code",
   "execution_count": 6,
   "id": "3c46aa5c",
   "metadata": {},
   "outputs": [
    {
     "ename": "NameError",
     "evalue": "name 'X' is not defined",
     "output_type": "error",
     "traceback": [
      "\u001b[1;31m---------------------------------------------------------------------------\u001b[0m",
      "\u001b[1;31mNameError\u001b[0m                                 Traceback (most recent call last)",
      "Input \u001b[1;32mIn [6]\u001b[0m, in \u001b[0;36m<cell line: 5>\u001b[1;34m()\u001b[0m\n\u001b[0;32m      3\u001b[0m y \u001b[38;5;241m=\u001b[39m \u001b[38;5;241m2.5\u001b[39m\n\u001b[0;32m      4\u001b[0m z \u001b[38;5;241m=\u001b[39m \u001b[38;5;241m5\u001b[39m\n\u001b[1;32m----> 5\u001b[0m \u001b[38;5;28mprint\u001b[39m(\u001b[43mX\u001b[49m \u001b[38;5;241m+\u001b[39m y \u001b[38;5;241m/\u001b[39m z)\n",
      "\u001b[1;31mNameError\u001b[0m: name 'X' is not defined"
     ]
    }
   ],
   "source": [
    "# 3.\n",
    "x = 3\n",
    "y = 2.5\n",
    "z = 5\n",
    "print(X + y / z)"
   ]
  },
  {
   "cell_type": "code",
   "execution_count": 7,
   "id": "6c2fc7bb",
   "metadata": {},
   "outputs": [
    {
     "data": {
      "text/plain": [
       "-2"
      ]
     },
     "execution_count": 7,
     "metadata": {},
     "output_type": "execute_result"
    }
   ],
   "source": [
    "# 4.\n",
    "4 % (1 + 9)**2 - 60 // (7 + 2)"
   ]
  },
  {
   "cell_type": "code",
   "execution_count": 8,
   "id": "c49934ca",
   "metadata": {},
   "outputs": [
    {
     "name": "stdout",
     "output_type": "stream",
     "text": [
      "<class 'int'>\n",
      "<class 'str'>\n",
      "<class 'str'>\n",
      "<class 'list'>\n"
     ]
    }
   ],
   "source": [
    "# 5.\n",
    "a = (123)\n",
    "b = '123'\n",
    "c = 'Mike'\n",
    "d = [111]\n",
    "\n",
    "print(type(a))\n",
    "print(type(b))\n",
    "print(type(c))\n",
    "print(type(d))"
   ]
  },
  {
   "cell_type": "code",
   "execution_count": 9,
   "id": "d81ba157",
   "metadata": {},
   "outputs": [
    {
     "name": "stdout",
     "output_type": "stream",
     "text": [
      "Python\n",
      "Pytho\n",
      "\n",
      "Python\n"
     ]
    }
   ],
   "source": [
    "# 6. \n",
    "word = \"I love Python programming\"\n",
    "\n",
    "print(word[7:13])\n",
    "print(word[7:12])\n",
    "print(word[-12:-18])\n",
    "print(word[-18:-12])"
   ]
  },
  {
   "cell_type": "code",
   "execution_count": 10,
   "id": "ffaf6452",
   "metadata": {},
   "outputs": [
    {
     "data": {
      "text/plain": [
       "'e'"
      ]
     },
     "execution_count": 10,
     "metadata": {},
     "output_type": "execute_result"
    }
   ],
   "source": [
    "# 7. \n",
    "x = 'len'\n",
    "x[len(x * 2) - 5]"
   ]
  },
  {
   "cell_type": "markdown",
   "id": "29d68379",
   "metadata": {},
   "source": [
    "#8.\n",
    "String Problem\n",
    "\n",
    "Description\n",
    "\n",
    "In a certain encrypted message which has information about the location(area, city), the characters are jumbled such that first character of the first word is followed by the first character of the second word, then it is followed by second character of the first word and so on\n",
    "\n",
    "\n",
    "\n",
    "In other words, let’s say the location is bandra,mumbai\n",
    "\n",
    "\n",
    "\n",
    "The encrypted message says ‘bmaunmdbraai’.\n",
    "\n",
    "\n",
    "\n",
    "Sample Input:\n",
    "\n",
    "bmaunmdbraai\n",
    "\n",
    "\n",
    "\n",
    "Sample Output:\n",
    "\n",
    "bandra,mumbai\n",
    "\n",
    "\n",
    "\n",
    "Let’s say the size or length of the two words wouldn’t match then the smaller word is appended with # and then encrypted in the above format.\n",
    "\n",
    "\n",
    "\n",
    "With this in mind write a code to identify the right location and print it as place,city."
   ]
  },
  {
   "cell_type": "code",
   "execution_count": 11,
   "id": "7be7b1d1",
   "metadata": {},
   "outputs": [
    {
     "name": "stdout",
     "output_type": "stream",
     "text": [
      "bmaunmdbraai\n",
      "bandra,mumbai\n"
     ]
    }
   ],
   "source": [
    "import ast,sys\n",
    "input_str =input()\n",
    "message1 = input_str[::2].strip('#')\n",
    "message2 = input_str[1::2].strip('#')\n",
    "print(message1, message2, sep=',')"
   ]
  },
  {
   "cell_type": "markdown",
   "id": "5a1c251b",
   "metadata": {},
   "source": [
    " or"
   ]
  },
  {
   "cell_type": "code",
   "execution_count": 12,
   "id": "1ed164da",
   "metadata": {},
   "outputs": [
    {
     "name": "stdout",
     "output_type": "stream",
     "text": [
      "bmaunmdbraai#k\n",
      "bandra,mumbaik\n"
     ]
    }
   ],
   "source": [
    "import ast,sys\n",
    "input_str = input()\n",
    "message1 = input_str[0:-1:2]\n",
    "message2 = input_str[1:len(input_str):2]\n",
    "print(message1.strip('#') + \",\" + message2.strip('#'))\n"
   ]
  },
  {
   "cell_type": "markdown",
   "id": "68988102",
   "metadata": {},
   "source": [
    "## Practice Question of Basic Python"
   ]
  },
  {
   "cell_type": "code",
   "execution_count": 13,
   "id": "92ed0633",
   "metadata": {},
   "outputs": [
    {
     "name": "stdout",
     "output_type": "stream",
     "text": [
      "Welcome to the practice exercise\n"
     ]
    }
   ],
   "source": [
    "# 9. Question 1: Let us start by printing the word \"Welcome to the practice exercise\" in python.\n",
    "\n",
    "# Print the statement:\n",
    "print('Welcome to the practice exercise')"
   ]
  },
  {
   "cell_type": "code",
   "execution_count": 14,
   "id": "6555e5ca",
   "metadata": {},
   "outputs": [
    {
     "name": "stdout",
     "output_type": "stream",
     "text": [
      " Hello, my dear friend !!!\n"
     ]
    }
   ],
   "source": [
    "# 10. Question 2: Create a string variable and print the string.\n",
    "\n",
    "# Create a string variable:\n",
    "string = \" Hello, my dear friend !!!\"\n",
    "# Print the string:\n",
    "print(string)"
   ]
  },
  {
   "cell_type": "code",
   "execution_count": 15,
   "id": "ea4e6aa9",
   "metadata": {},
   "outputs": [
    {
     "name": "stdout",
     "output_type": "stream",
     "text": [
      "Enter ur name:Bidhan Chandra Roy\n",
      "Bidhan Chandra Roy\n"
     ]
    }
   ],
   "source": [
    "# 11. Question 3: Create a string by taking user input and print the string.\n",
    "name = input('Enter ur name:')\n",
    "# Print the string:\n",
    "print(name)"
   ]
  },
  {
   "cell_type": "code",
   "execution_count": 16,
   "id": "966e9366",
   "metadata": {},
   "outputs": [
    {
     "name": "stdout",
     "output_type": "stream",
     "text": [
      "  1\n",
      " 234\n",
      "56789\n"
     ]
    }
   ],
   "source": [
    "# 12. Question 4: Print the pattern given below: image.png\n",
    "\n",
    "# Print the pattern shown in the question above:\n",
    "print('  1',' 234','56789',sep='\\n')"
   ]
  },
  {
   "cell_type": "code",
   "execution_count": 17,
   "id": "a90651c9",
   "metadata": {},
   "outputs": [
    {
     "name": "stdout",
     "output_type": "stream",
     "text": [
      "###############\n"
     ]
    }
   ],
   "source": [
    "# 13. Question 5: Print the '#' symbol 15 times without having to type it for 15 times.\n",
    "\n",
    "# Print the pattern shown in the question above:\n",
    "print('#'*15)"
   ]
  },
  {
   "cell_type": "code",
   "execution_count": 18,
   "id": "d256dccc",
   "metadata": {},
   "outputs": [
    {
     "name": "stdout",
     "output_type": "stream",
     "text": [
      "enter the date:28-06-2022\n"
     ]
    },
    {
     "data": {
      "text/plain": [
       "'28-06-2022'"
      ]
     },
     "execution_count": 18,
     "metadata": {},
     "output_type": "execute_result"
    }
   ],
   "source": [
    "# 14. Question 6: Take the user input to print the current date\n",
    "\n",
    "date= input('enter the date:')\n",
    "\n",
    "# Print the date:\n",
    "date"
   ]
  },
  {
   "cell_type": "code",
   "execution_count": 19,
   "id": "c6b9a81e",
   "metadata": {},
   "outputs": [
    {
     "data": {
      "text/plain": [
       "'1.8'"
      ]
     },
     "execution_count": 19,
     "metadata": {},
     "output_type": "execute_result"
    }
   ],
   "source": [
    "# 15. Question 7: Type cast the interger 1.8 into a string and print the result.\n",
    "\n",
    "# Store the interger as a varaible:\n",
    "x=1.8\n",
    "# Typecast the integer:\n",
    "y=str(x)\n",
    "# Print the result:\n",
    "y"
   ]
  },
  {
   "cell_type": "code",
   "execution_count": 20,
   "id": "c75271ae",
   "metadata": {},
   "outputs": [
    {
     "name": "stdout",
     "output_type": "stream",
     "text": [
      "num1:25\n",
      "num2:25\n",
      "625\n"
     ]
    }
   ],
   "source": [
    "# 16. Question 8: Find the product of two numbers input by the user.\n",
    "\n",
    "# Take input of the first number and store it in a variable:\n",
    "x=int(input(\"num1:\"))\n",
    "# Take input of the second number and store it in a variable:\n",
    "y=int(input(\"num2:\"))\n",
    "# You will need to typecast the input strings into integers\n",
    "# Calculate the product:\n",
    "z=x*y\n",
    "# Print the result:\n",
    "print(z)"
   ]
  },
  {
   "cell_type": "code",
   "execution_count": 21,
   "id": "fbbe6d63",
   "metadata": {},
   "outputs": [
    {
     "name": "stdout",
     "output_type": "stream",
     "text": [
      "2\n"
     ]
    }
   ],
   "source": [
    "# 17. Question 9: Calculate the remainder of the number 6 when divided by the number 4.\n",
    "\n",
    "# Find the modulus and print the result:\n",
    "r=6%4\n",
    "print(r)"
   ]
  },
  {
   "cell_type": "code",
   "execution_count": 22,
   "id": "0ce654f8",
   "metadata": {},
   "outputs": [
    {
     "name": "stdout",
     "output_type": "stream",
     "text": [
      "I can't study any longer\n"
     ]
    }
   ],
   "source": [
    "# 18. Question 10: Solve the error in code below and print the correct result.\n",
    "\n",
    "# Given:\n",
    "# print('I can't study any longer')\n",
    "\n",
    "# Corrected solution:\n",
    "print('I can\\'t study any longer')"
   ]
  },
  {
   "cell_type": "code",
   "execution_count": 23,
   "id": "281fd6a0",
   "metadata": {},
   "outputs": [
    {
     "name": "stdout",
     "output_type": "stream",
     "text": [
      "Hello\n",
      "\n",
      "Good Morning\n"
     ]
    }
   ],
   "source": [
    "# 19. Question 11: Print the following statement using only 1 print statement:\n",
    "\n",
    "#Hello\n",
    "\n",
    "#Good Morning\n",
    "\n",
    "# Print the required statement:\\\n",
    "print('Hello\\n\\nGood Morning')\n"
   ]
  },
  {
   "cell_type": "code",
   "execution_count": 24,
   "id": "68f8ccdf",
   "metadata": {},
   "outputs": [
    {
     "name": "stdout",
     "output_type": "stream",
     "text": [
      "Welcome to upgrad coding practice session.\n"
     ]
    }
   ],
   "source": [
    "# 20. Question 12: Concatenate the given strings and print the result:\n",
    "\n",
    "# Given below are the two strings:\n",
    "string1= 'Welcome to upgrad'\n",
    "string2= 'coding practice session.'\n",
    "\n",
    "# Concatenate and print the result:\n",
    "print(string1+' ' +string2)"
   ]
  },
  {
   "cell_type": "code",
   "execution_count": 25,
   "id": "f0bd0bb5",
   "metadata": {},
   "outputs": [
    {
     "data": {
      "text/plain": [
       "54"
      ]
     },
     "execution_count": 25,
     "metadata": {},
     "output_type": "execute_result"
    }
   ],
   "source": [
    "#  21. Question 13: Find the length of string given below and print the result.\n",
    "\n",
    "# Given below is the string:\n",
    "string='Hi, I hope you are having a great learning experience.'\n",
    "# Calculate and print the length:\n",
    "len(string)"
   ]
  },
  {
   "cell_type": "code",
   "execution_count": 26,
   "id": "39a083e8",
   "metadata": {},
   "outputs": [
    {
     "name": "stdout",
     "output_type": "stream",
     "text": [
      "eg\n"
     ]
    }
   ],
   "source": [
    "# 22. Question 14: Create a string of length=10. Obtain the fifth and seventh character of the string. Concatenate the characters and form a new string. Print the new string.\n",
    "\n",
    "# Create a string of length 10:\n",
    "string='abcdefghij'\n",
    "\n",
    "# You can verify the length:\n",
    "len(string)\n",
    "\n",
    "# Obtain the fifth letter and store it into a new string:\n",
    "string[4]\n",
    "\n",
    "# Obtain the seventh letter and store it into a new string:\n",
    "string[6]\n",
    "# Concatenate the two strings:\n",
    "a=string[4]+string[6]\n",
    "\n",
    "# Print the result:\n",
    "print(a)"
   ]
  },
  {
   "cell_type": "code",
   "execution_count": 27,
   "id": "c197037f",
   "metadata": {},
   "outputs": [
    {
     "name": "stdout",
     "output_type": "stream",
     "text": [
      "Is\n"
     ]
    }
   ],
   "source": [
    "# 23. Question 15: Given below is a string. Perform the following operations and print the results:\n",
    "\n",
    "# Remove the extra spaces from the string and print the new string.\n",
    "# Find the length of new string\n",
    "# Remove the last 5 characters of the new string\n",
    "# Find the 15th character of the new string\n",
    "# Compute the result of concatenation of the first and last letter of the new string.\n",
    "# Given below is the string:\n",
    "\n",
    "line= '     I hope you enjoyed this practice session.'\n",
    "\n",
    "# Removing extra spaces:\n",
    "s=line.lstrip(' ')\n",
    "# Print the result:\n",
    "s\n",
    "# Calculate the length:\n",
    "len(s)\n",
    "# Slice the string to remove the last 5 characters:\n",
    "p=s[:-5]\n",
    "# Print the result:\n",
    "p\n",
    "# Print the 15th character of the string:\n",
    "s[14]\n",
    "# Print the concatenation of first and last character of resulting string:\n",
    "q=p[0]+p[-1]\n",
    "print(q)"
   ]
  },
  {
   "cell_type": "markdown",
   "id": "ac1f5337",
   "metadata": {},
   "source": [
    "## Practice Excercise I"
   ]
  },
  {
   "cell_type": "code",
   "execution_count": 28,
   "id": "0277dbc5",
   "metadata": {},
   "outputs": [
    {
     "data": {
      "text/plain": [
       "193"
      ]
     },
     "execution_count": 28,
     "metadata": {},
     "output_type": "execute_result"
    }
   ],
   "source": [
    "# 24. Consider the string given below and answer the following questions \n",
    "string = \"OQYWFClFhFGAvIWYwGKpmZhnJiyzTslSIhSwvOsqJMEphzmifTkyqOMNpnOtXZxmCfgDYqbaBHAUvIWhMnvwZnEMVDvmEfLrDoQnAZgQEgXQVnmSYkfedpAdhrtpOgORpYLRZYGWdhWYuqQssCUXtTzKRDAhpjUheOzUroZNzWFtZOVwIapzUYtbSbjYNErzQ\"\n",
    "#Calculate the number of characters in the string\n",
    "\n",
    "len(string)"
   ]
  },
  {
   "cell_type": "code",
   "execution_count": 29,
   "id": "3ce825a4",
   "metadata": {},
   "outputs": [
    {
     "name": "stdout",
     "output_type": "stream",
     "text": [
      "2\n"
     ]
    }
   ],
   "source": [
    "# 25. Count the number of occurences of 'a' in the string\n",
    "\n",
    "print(string.count('a'))"
   ]
  },
  {
   "cell_type": "code",
   "execution_count": 30,
   "id": "c0a0f537",
   "metadata": {},
   "outputs": [
    {
     "name": "stdout",
     "output_type": "stream",
     "text": [
      "False\n"
     ]
    }
   ],
   "source": [
    "# 26. Identify whether the string starts with 'if'\n",
    "\n",
    "print(string.startswith('if'))"
   ]
  },
  {
   "cell_type": "code",
   "execution_count": 31,
   "id": "f40c1ad1",
   "metadata": {},
   "outputs": [
    {
     "name": "stdout",
     "output_type": "stream",
     "text": [
      "mCfgDYqbaBHAUvIWhMnvwZnEMV\n"
     ]
    }
   ],
   "source": [
    "# 27. Return the substring starting at index 63 and ending at index 88 [Both the indexes are inclusive]\n",
    "\n",
    "print(string[63:89])"
   ]
  },
  {
   "cell_type": "code",
   "execution_count": 32,
   "id": "051570a1",
   "metadata": {},
   "outputs": [
    {
     "name": "stdout",
     "output_type": "stream",
     "text": [
      "z\n"
     ]
    }
   ],
   "source": [
    "# 28. Identify the character at index 45\n",
    "\n",
    "print(string[45])"
   ]
  },
  {
   "cell_type": "markdown",
   "id": "afb4dbbc",
   "metadata": {},
   "source": [
    "## <font color= blue>(Week-1) Bootcamp Practice Questions </font>\n",
    "### <font color= blue> Practice Questions I </font>"
   ]
  },
  {
   "cell_type": "code",
   "execution_count": 33,
   "id": "6666be2e",
   "metadata": {},
   "outputs": [
    {
     "name": "stdout",
     "output_type": "stream",
     "text": [
      "<class 'str'>\n"
     ]
    }
   ],
   "source": [
    "# 28. What will be the output of the following code snippet?\n",
    "\n",
    "number='159'\n",
    "\n",
    "print(type(number))"
   ]
  },
  {
   "cell_type": "code",
   "execution_count": 34,
   "id": "eb6a9b6a",
   "metadata": {},
   "outputs": [
    {
     "name": "stdout",
     "output_type": "stream",
     "text": [
      "34.0\n"
     ]
    }
   ],
   "source": [
    "# 29. What will be the output of the following code snippet?\n",
    "\n",
    "number=34.721\n",
    "print(float(int(number)))"
   ]
  },
  {
   "cell_type": "code",
   "execution_count": 35,
   "id": "c4c54f70",
   "metadata": {},
   "outputs": [
    {
     "ename": "NameError",
     "evalue": "name 'Alex' is not defined",
     "output_type": "error",
     "traceback": [
      "\u001b[1;31m---------------------------------------------------------------------------\u001b[0m",
      "\u001b[1;31mNameError\u001b[0m                                 Traceback (most recent call last)",
      "Input \u001b[1;32mIn [35]\u001b[0m, in \u001b[0;36m<cell line: 3>\u001b[1;34m()\u001b[0m\n\u001b[0;32m      1\u001b[0m \u001b[38;5;66;03m# 30. What will be the output of the following code snippet?\u001b[39;00m\n\u001b[1;32m----> 3\u001b[0m name \u001b[38;5;241m=\u001b[39m \u001b[43mAlex\u001b[49m\n\u001b[0;32m      4\u001b[0m \u001b[38;5;28mprint\u001b[39m(\u001b[38;5;28mtype\u001b[39m(name))\n",
      "\u001b[1;31mNameError\u001b[0m: name 'Alex' is not defined"
     ]
    }
   ],
   "source": [
    "# 30. What will be the output of the following code snippet?\n",
    "\n",
    "name = Alex\n",
    "print(type(name))"
   ]
  },
  {
   "cell_type": "code",
   "execution_count": 36,
   "id": "e8f0df9c",
   "metadata": {},
   "outputs": [
    {
     "name": "stdout",
     "output_type": "stream",
     "text": [
      "0.0\n"
     ]
    }
   ],
   "source": [
    "# 31. What will be the output of the following code snippet?\n",
    "\n",
    "a = 8.9\n",
    "b = 2\n",
    "c = 5\n",
    "print(a//b//c)"
   ]
  },
  {
   "cell_type": "code",
   "execution_count": 37,
   "id": "5380288f",
   "metadata": {},
   "outputs": [
    {
     "data": {
      "text/plain": [
       "-8.0"
      ]
     },
     "execution_count": 37,
     "metadata": {},
     "output_type": "execute_result"
    }
   ],
   "source": [
    "# 32. hat is the output of the following expression?\n",
    "\n",
    "4 // 8 + ( 2.5 + 7.5 ) - 6 * 3"
   ]
  },
  {
   "cell_type": "code",
   "execution_count": 38,
   "id": "599b4640",
   "metadata": {},
   "outputs": [
    {
     "data": {
      "text/plain": [
       "-9"
      ]
     },
     "execution_count": 38,
     "metadata": {},
     "output_type": "execute_result"
    }
   ],
   "source": [
    "# 33. What will be the output of the following expression?\n",
    "\n",
    "5 % ( 2 + 12 ) ** 3 - 60 // ( 7 + 1 ) * 2"
   ]
  },
  {
   "cell_type": "code",
   "execution_count": 39,
   "id": "7168acfb",
   "metadata": {},
   "outputs": [
    {
     "name": "stdout",
     "output_type": "stream",
     "text": [
      "to cod\n"
     ]
    }
   ],
   "source": [
    "# 34. What will be the output of the following code snippet?\n",
    "\n",
    "string_1 = \"I love to code in python\"\n",
    "print( string_1[7:13])"
   ]
  },
  {
   "cell_type": "code",
   "execution_count": 40,
   "id": "79fcc4ad",
   "metadata": {},
   "outputs": [
    {
     "name": "stdout",
     "output_type": "stream",
     "text": [
      "split\n",
      " split\n",
      "['split']\n"
     ]
    }
   ],
   "source": [
    "# 35. What is the code to extract “split” from the given string?\n",
    "\n",
    "sentence = 'This sentence needs to be split into words'\n",
    "\n",
    "print(sentence[-16:-11])\n",
    "print(sentence[-17:-11])\n",
    "print([sentence.split()[5]])\n"
   ]
  },
  {
   "cell_type": "code",
   "execution_count": 41,
   "id": "14e2ea76",
   "metadata": {},
   "outputs": [
    {
     "ename": "TypeError",
     "evalue": "'str' object is not callable",
     "output_type": "error",
     "traceback": [
      "\u001b[1;31m---------------------------------------------------------------------------\u001b[0m",
      "\u001b[1;31mTypeError\u001b[0m                                 Traceback (most recent call last)",
      "Input \u001b[1;32mIn [41]\u001b[0m, in \u001b[0;36m<cell line: 4>\u001b[1;34m()\u001b[0m\n\u001b[0;32m      1\u001b[0m \u001b[38;5;66;03m# 36. What will be the output of the following code snippet?\u001b[39;00m\n\u001b[0;32m      3\u001b[0m \u001b[38;5;28mlen\u001b[39m \u001b[38;5;241m=\u001b[39m \u001b[38;5;124m'\u001b[39m\u001b[38;5;124mpython\u001b[39m\u001b[38;5;124m'\u001b[39m\n\u001b[1;32m----> 4\u001b[0m \u001b[38;5;28mprint\u001b[39m(\u001b[38;5;28;43mlen\u001b[39;49m\u001b[43m(\u001b[49m\u001b[38;5;28;43mlen\u001b[39;49m\u001b[43m)\u001b[49m)\n",
      "\u001b[1;31mTypeError\u001b[0m: 'str' object is not callable"
     ]
    }
   ],
   "source": [
    "# 36. What will be the output of the following code snippet?\n",
    "\n",
    "len = 'python'\n",
    "print(len(len))"
   ]
  },
  {
   "cell_type": "code",
   "execution_count": 42,
   "id": "ce26c5f3",
   "metadata": {},
   "outputs": [
    {
     "ename": "SyntaxError",
     "evalue": "invalid syntax (3730134734.py, line 4)",
     "output_type": "error",
     "traceback": [
      "\u001b[1;36m  Input \u001b[1;32mIn [42]\u001b[1;36m\u001b[0m\n\u001b[1;33m    if x%2==0\u001b[0m\n\u001b[1;37m             ^\u001b[0m\n\u001b[1;31mSyntaxError\u001b[0m\u001b[1;31m:\u001b[0m invalid syntax\n"
     ]
    }
   ],
   "source": [
    "# 37. Identify the error in the following code fragment:\n",
    "\n",
    "x=10\n",
    "if x%2==0\n",
    "print(\"even number\")\n",
    "else\n",
    "print(\"odd number\") "
   ]
  },
  {
   "cell_type": "code",
   "execution_count": 43,
   "id": "ac57aee5",
   "metadata": {},
   "outputs": [
    {
     "name": "stdout",
     "output_type": "stream",
     "text": [
      "false\n",
      "true\n"
     ]
    }
   ],
   "source": [
    "# 38. What will be the output of the following code?\n",
    "if 4+9<10:\n",
    "    print(\"true\")\n",
    "else:\n",
    "    print(\"false\")\n",
    "print(\"true\")"
   ]
  },
  {
   "cell_type": "code",
   "execution_count": 44,
   "id": "160887a5",
   "metadata": {},
   "outputs": [
    {
     "name": "stdout",
     "output_type": "stream",
     "text": [
      "fair\n"
     ]
    }
   ],
   "source": [
    "# 39.  Consider the following code snippet: What will be the output if x=67, where x is the marks secured by a student?\n",
    "x=67\n",
    "if x>50:\n",
    "    if x>90:\n",
    "        print(\"excellent\")\n",
    "    else:\n",
    "        if x>80:\n",
    "            print(\"good\")\n",
    "        else:\n",
    "            print(\"fair\")\n",
    "else:\n",
    "    if x>30:\n",
    "        print(\"average\")\n",
    "    else:\n",
    "        print(\"poor\")"
   ]
  },
  {
   "cell_type": "code",
   "execution_count": 45,
   "id": "4490174d",
   "metadata": {},
   "outputs": [],
   "source": [
    "# 40. What will be output of the following code snippet?(no output)\n",
    "\n",
    "a='pqrstuv'\n",
    "i='j'\n",
    "while i in a:\n",
    "    print(i)"
   ]
  },
  {
   "cell_type": "code",
   "execution_count": 46,
   "id": "3c3d303a",
   "metadata": {},
   "outputs": [],
   "source": [
    "# 41. What will be the output of the following code snippet?(no output)\n",
    "\n",
    "i = 16\n",
    "while False:\n",
    "    if i%2 == 0:\n",
    "        break\n",
    "    print(i)\n",
    "    i += 2"
   ]
  },
  {
   "cell_type": "code",
   "execution_count": 47,
   "id": "e53a84d4",
   "metadata": {},
   "outputs": [
    {
     "ename": "TypeError",
     "evalue": "'str' object is not callable",
     "output_type": "error",
     "traceback": [
      "\u001b[1;31m---------------------------------------------------------------------------\u001b[0m",
      "\u001b[1;31mTypeError\u001b[0m                                 Traceback (most recent call last)",
      "Input \u001b[1;32mIn [47]\u001b[0m, in \u001b[0;36m<cell line: 5>\u001b[1;34m()\u001b[0m\n\u001b[0;32m      1\u001b[0m \u001b[38;5;66;03m# 42. What will be the output of the following code?\u001b[39;00m\n\u001b[0;32m      3\u001b[0m s\u001b[38;5;241m=\u001b[39m\u001b[38;5;124m\"\u001b[39m\u001b[38;5;124mUpgrad\u001b[39m\u001b[38;5;124m\"\u001b[39m\n\u001b[1;32m----> 5\u001b[0m \u001b[38;5;28;01mfor\u001b[39;00m i \u001b[38;5;129;01min\u001b[39;00m \u001b[38;5;28mrange\u001b[39m(\u001b[38;5;28;43mlen\u001b[39;49m\u001b[43m(\u001b[49m\u001b[43ms\u001b[49m\u001b[43m)\u001b[49m):\n\u001b[0;32m      6\u001b[0m     \u001b[38;5;28;01mif\u001b[39;00m s[i] \u001b[38;5;129;01min\u001b[39;00m \u001b[38;5;124m'\u001b[39m\u001b[38;5;124ma\u001b[39m\u001b[38;5;124m'\u001b[39m:\n\u001b[0;32m      7\u001b[0m         s[i]\u001b[38;5;241m=\u001b[39m\u001b[38;5;124m'\u001b[39m\u001b[38;5;124m*\u001b[39m\u001b[38;5;124m'\u001b[39m\n",
      "\u001b[1;31mTypeError\u001b[0m: 'str' object is not callable"
     ]
    }
   ],
   "source": [
    "# 42. What will be the output of the following code?\n",
    "\n",
    "s=\"Upgrad\"\n",
    "\n",
    "for i in range(len(s)):\n",
    "    if s[i] in 'a':\n",
    "        s[i]='*'\n",
    "\n",
    "print(s)"
   ]
  },
  {
   "cell_type": "markdown",
   "id": "8f0e3a77",
   "metadata": {},
   "source": [
    "### <font color= blue> Practice Questions II </font>"
   ]
  },
  {
   "cell_type": "markdown",
   "id": "24812f44",
   "metadata": {},
   "source": [
    "# 43.\n",
    "\n",
    "__Write a program to display whether the input is a digit or a letter of the alphabet.__\n"
   ]
  },
  {
   "cell_type": "code",
   "execution_count": 48,
   "id": "da33dac4",
   "metadata": {},
   "outputs": [
    {
     "name": "stdout",
     "output_type": "stream",
     "text": [
      "555\n",
      "Integer\n"
     ]
    }
   ],
   "source": [
    "# METHOD 1\n",
    "test_char=input()\n",
    "if test_char.isdigit():\n",
    "    print('Integer')\n",
    "elif test_char.isalpha():\n",
    "    print('Aphabet')\n",
    "else:\n",
    "    print('Input is neither Alphabet nor Integer')\n"
   ]
  },
  {
   "cell_type": "code",
   "execution_count": 49,
   "id": "387bf1de",
   "metadata": {},
   "outputs": [
    {
     "name": "stdout",
     "output_type": "stream",
     "text": [
      "bidhan\n",
      "alphabet\n"
     ]
    }
   ],
   "source": [
    "#  METHOD 2\n",
    "ch=input()\n",
    "\n",
    "if ((ch>='a' and ch<='z') or (ch>='A' and ch<='Z')):\n",
    "    print('alphabet')\n",
    "elif (ch>='0' and ch<='9'):\n",
    "    print('Integer')\n",
    "else:\n",
    "    print('Input is neither Alphabet nor Integer')"
   ]
  },
  {
   "cell_type": "markdown",
   "id": "72f0eeec",
   "metadata": {},
   "source": [
    "# 44.\n",
    "\n",
    "__Write a program to accept a character and display its next and previous character.__\n",
    "\n",
    "\n",
    "__Hint: Make use of Ascii values here.__\n",
    "\n",
    "\n"
   ]
  },
  {
   "cell_type": "code",
   "execution_count": 50,
   "id": "c5b046cc",
   "metadata": {},
   "outputs": [
    {
     "name": "stdout",
     "output_type": "stream",
     "text": [
      "Enter a character: m\n",
      "l\n",
      "n\n"
     ]
    }
   ],
   "source": [
    "character = input(\"Enter a character: \")\n",
    "\n",
    "#get the Ascii value of the previous character using ord(ch)-1 \n",
    "previous_character = chr(ord(character)-1)\n",
    "\n",
    "#get the Ascii value of the next character using ord(ch)+1  \n",
    "next_character = chr(ord(character)+1)\n",
    "\n",
    "#print the characters\n",
    "\n",
    "print(previous_character)\n",
    "print(next_character)"
   ]
  },
  {
   "cell_type": "markdown",
   "id": "5d2745ad",
   "metadata": {},
   "source": [
    "# 45.\n",
    "\n",
    "Write a program to accept a string from the user, delete all vowels from the string and display the result. \n",
    "\n"
   ]
  },
  {
   "cell_type": "code",
   "execution_count": 51,
   "id": "9f6475ed",
   "metadata": {},
   "outputs": [
    {
     "name": "stdout",
     "output_type": "stream",
     "text": [
      "enter the string: Bidhan Chandra Roy\n",
      "Bdhn Chndr Ry\n"
     ]
    }
   ],
   "source": [
    "# METHOD 1\n",
    "string = input(\"enter the string: \")\n",
    "vowels='aeiouAEIOU'\n",
    "t=string.translate({ord(i): None for i in vowels})\n",
    "print(t)"
   ]
  },
  {
   "cell_type": "code",
   "execution_count": 52,
   "id": "e8588f46",
   "metadata": {
    "scrolled": true
   },
   "outputs": [
    {
     "name": "stdout",
     "output_type": "stream",
     "text": [
      "enter the string:What are you thinking dear?\n",
      "Wht r y thnkng dr?\n"
     ]
    }
   ],
   "source": [
    "# METHOD 2\n",
    "# FOR LOOP TO ITERATE THE INPUT STRING\n",
    "# CHARACTER WHICH ARE NOT VOWELS WILL BE ADDED TO NEW LIST\n",
    "\n",
    "string = input('enter the string:')\n",
    "vowels=['A','E','I','O','U','a','e','i','o','u']\n",
    "output_string = ''\n",
    "for i in string:\n",
    "    if i not in vowels:\n",
    "        output_string = output_string + i\n",
    "print(output_string)"
   ]
  },
  {
   "cell_type": "code",
   "execution_count": 54,
   "id": "1c592c23",
   "metadata": {},
   "outputs": [
    {
     "name": "stdout",
     "output_type": "stream",
     "text": [
      "D nt thnk t mch\n"
     ]
    }
   ],
   "source": [
    "#METHOD 3\n",
    "def vowel_removal(string):\n",
    "    vowels= ['a','e','i','o','u']\n",
    "    results=[character for character in string if character.lower() not in vowels]\n",
    "    results= ''.join(results)\n",
    "    print(results)\n",
    "\n",
    "vowel_removal('Do not think too much') "
   ]
  },
  {
   "cell_type": "markdown",
   "id": "a739fbd3",
   "metadata": {},
   "source": [
    "# 46. \n",
    "\n",
    "Write a program to accept three sides of a triangle as the input and print whether the triangle is valid or not.\n",
    "\n",
    "(A triangle is valid if the sum of any two sides is greater than the third side.)\n"
   ]
  },
  {
   "cell_type": "code",
   "execution_count": 55,
   "id": "52e8b787",
   "metadata": {},
   "outputs": [
    {
     "data": {
      "text/plain": [
       "'valid'"
      ]
     },
     "execution_count": 55,
     "metadata": {},
     "output_type": "execute_result"
    }
   ],
   "source": [
    "# METHOD 1\n",
    "\n",
    "def triangle_validation(l1,l2,l3):\n",
    "    if (l1+l2)>l3 and (l2+l3)>l1 and (l3+l1)>l2:\n",
    "        return 'valid'\n",
    "    else:\n",
    "        return \"Invalid\"\n",
    "    \n",
    "triangle_validation(2,2,1)"
   ]
  },
  {
   "cell_type": "code",
   "execution_count": 58,
   "id": "59872d97",
   "metadata": {},
   "outputs": [
    {
     "name": "stdout",
     "output_type": "stream",
     "text": [
      "2 2 4\n",
      "Invalid\n"
     ]
    }
   ],
   "source": [
    "# METHOD 2\n",
    "\n",
    "a,b,c= input().split()\n",
    "a=int(a)\n",
    "b=int(b)\n",
    "c=int(c)\n",
    "\n",
    "if (a+b)>c and (b+c)>a and (c+a)>b:\n",
    "    print('Valid')\n",
    "else:\n",
    "    print('Invalid')\n"
   ]
  },
  {
   "cell_type": "markdown",
   "id": "507af6da",
   "metadata": {},
   "source": [
    "### <font color= blue> Practice Questions III </font>"
   ]
  },
  {
   "cell_type": "markdown",
   "id": "d4d03de2",
   "metadata": {},
   "source": [
    "# 47.\n",
    "\n",
    "Write a program to display the multiplication table of a given number.\n",
    "\n",
    "\n"
   ]
  },
  {
   "cell_type": "code",
   "execution_count": 59,
   "id": "109ab9a3",
   "metadata": {},
   "outputs": [
    {
     "name": "stdout",
     "output_type": "stream",
     "text": [
      "enter the number:5\n",
      "5 x 1 = 5\n",
      "5 x 2 = 10\n",
      "5 x 3 = 15\n",
      "5 x 4 = 20\n",
      "5 x 5 = 25\n",
      "5 x 6 = 30\n",
      "5 x 7 = 35\n",
      "5 x 8 = 40\n",
      "5 x 9 = 45\n",
      "5 x 10 = 50\n"
     ]
    }
   ],
   "source": [
    "# method 1\n",
    "\n",
    "number= int(input('enter the number:'))\n",
    "count=1\n",
    "\n",
    "while count<11:\n",
    "    print(f'{number} x {count} = {number*count}')\n",
    "    count+=1"
   ]
  },
  {
   "cell_type": "code",
   "execution_count": 60,
   "id": "e4ac6c6c",
   "metadata": {},
   "outputs": [
    {
     "name": "stdout",
     "output_type": "stream",
     "text": [
      "enter the number:3\n",
      "3 x 1 = 3\n",
      "3 x 2 = 6\n",
      "3 x 3 = 9\n",
      "3 x 4 = 12\n",
      "3 x 5 = 15\n",
      "3 x 6 = 18\n",
      "3 x 7 = 21\n",
      "3 x 8 = 24\n",
      "3 x 9 = 27\n",
      "3 x 10 = 30\n"
     ]
    }
   ],
   "source": [
    "# method 2\n",
    "\n",
    "number= int(input('enter the number:'))\n",
    "\n",
    "for i in range(1,11):\n",
    "    print(f'{number} x {i} = {number*i}')"
   ]
  },
  {
   "cell_type": "code",
   "execution_count": 61,
   "id": "fc28459f",
   "metadata": {},
   "outputs": [
    {
     "name": "stdout",
     "output_type": "stream",
     "text": [
      "enter the number:25\n"
     ]
    },
    {
     "data": {
      "text/plain": [
       "['25 x 1 = 25',\n",
       " '25 x 2 = 50',\n",
       " '25 x 3 = 75',\n",
       " '25 x 4 = 100',\n",
       " '25 x 5 = 125',\n",
       " '25 x 6 = 150',\n",
       " '25 x 7 = 175',\n",
       " '25 x 8 = 200',\n",
       " '25 x 9 = 225',\n",
       " '25 x 10 = 250']"
      ]
     },
     "execution_count": 61,
     "metadata": {},
     "output_type": "execute_result"
    }
   ],
   "source": [
    "# method 3\n",
    "\n",
    "number= int(input('enter the number:'))\n",
    "\n",
    "[(f'{number} x {i} = {number*i}') for i in range(1,11)]\n"
   ]
  },
  {
   "cell_type": "markdown",
   "id": "6c6c0d1c",
   "metadata": {},
   "source": [
    "# 48.\n",
    "\n",
    "Write a program to accept a string value from the user and accept a char value from the user and find out the total occurrence of the char value in the string value. Note that the count is not case-sensitive\n",
    "\n"
   ]
  },
  {
   "cell_type": "code",
   "execution_count": 62,
   "id": "952f8c29",
   "metadata": {},
   "outputs": [
    {
     "data": {
      "text/plain": [
       "3"
      ]
     },
     "execution_count": 62,
     "metadata": {},
     "output_type": "execute_result"
    }
   ],
   "source": [
    "# Method 1 \n",
    "def char_count(string,char):\n",
    "    x=string.lower()\n",
    "    y=char.lower()\n",
    "    count=x.count(y)\n",
    "    return count\n",
    "char_count('Bidhan CHANDRA Roy','a')"
   ]
  },
  {
   "cell_type": "code",
   "execution_count": 63,
   "id": "4d30d50c",
   "metadata": {},
   "outputs": [
    {
     "name": "stdout",
     "output_type": "stream",
     "text": [
      "'Bidhan CHANDRA Roy'\n",
      "n\n",
      "2\n"
     ]
    }
   ],
   "source": [
    "# Method 2\n",
    "\n",
    "# Taking a user input string and a character\n",
    "input_string=input()\n",
    "input_char=input()\n",
    "\n",
    "# Converting both the string and the chareacter in lower case to avoid the case sensitivity\n",
    "input_string=input_string.lower()\n",
    "input_char=input_char.lower()\n",
    "\n",
    "# Printing total no of occurance of the character in the given string by using count() method\n",
    "print(input_string.count(input_char))"
   ]
  },
  {
   "cell_type": "code",
   "execution_count": 2,
   "id": "8c94e7ac",
   "metadata": {},
   "outputs": [
    {
     "name": "stdout",
     "output_type": "stream",
     "text": [
      "uff tired of tYPING\n",
      "I\n",
      "2\n"
     ]
    }
   ],
   "source": [
    "# Method 3\n",
    "\n",
    "input_string=input().lower()\n",
    "input_char=input().lower()\n",
    "count=0\n",
    "\n",
    "for i in range(len(input_string)):\n",
    "    if (input_string[i]==input_char):\n",
    "        count=count+1\n",
    "print(count)\n",
    "\n"
   ]
  },
  {
   "cell_type": "code",
   "execution_count": 3,
   "id": "ed814f79",
   "metadata": {},
   "outputs": [
    {
     "name": "stdout",
     "output_type": "stream",
     "text": [
      "Getting bored\n",
      "e\n",
      "2\n"
     ]
    }
   ],
   "source": [
    "# Method 4\n",
    "\n",
    "input_string=input().lower()\n",
    "input_char=input().lower()\n",
    "count=0\n",
    "idx=0\n",
    "\n",
    "while idx<len(input_string):\n",
    "    if input_string[idx]==input_char:\n",
    "        count=count+1\n",
    "    idx+=1\n",
    "print(count)\n",
    "    "
   ]
  },
  {
   "cell_type": "markdown",
   "id": "99df9199",
   "metadata": {},
   "source": [
    "# 49.\n",
    "\n",
    "Write a program to calculate the sum of the digits of a given number \n",
    "\n"
   ]
  },
  {
   "cell_type": "code",
   "execution_count": 4,
   "id": "b4c99b33",
   "metadata": {},
   "outputs": [
    {
     "name": "stdout",
     "output_type": "stream",
     "text": [
      "255654\n",
      "27\n"
     ]
    }
   ],
   "source": [
    "# Method 1\n",
    "\n",
    "n=int(input())\n",
    "n=str(n)\n",
    "sum_digits=0\n",
    "\n",
    "for digit in n:\n",
    "    sum_digits=sum_digits+int(digit)\n",
    "\n",
    "print(sum_digits)"
   ]
  },
  {
   "cell_type": "code",
   "execution_count": 5,
   "id": "a9ef44b9",
   "metadata": {},
   "outputs": [
    {
     "name": "stdout",
     "output_type": "stream",
     "text": [
      "253\n",
      "10\n"
     ]
    }
   ],
   "source": [
    "# Method 2\n",
    "\n",
    "n=int(input())\n",
    "n=str(n)\n",
    "sum_digits=0\n",
    "while n!=0 :\n",
    "    sum_digits= sum_digits + (int(n)%10)\n",
    "    n=int(n)/10\n",
    "print(sum_digits)"
   ]
  },
  {
   "cell_type": "code",
   "execution_count": 6,
   "id": "3a6a2435",
   "metadata": {},
   "outputs": [
    {
     "data": {
      "text/plain": [
       "15"
      ]
     },
     "execution_count": 6,
     "metadata": {},
     "output_type": "execute_result"
    }
   ],
   "source": [
    "# Method 3\n",
    "\n",
    "def sum_of_digit(num):\n",
    "    sum=0\n",
    "    for digit in str(num):\n",
    "        sum=sum+int(digit)\n",
    "    return sum\n",
    "\n",
    "sum_of_digit(555) "
   ]
  },
  {
   "cell_type": "markdown",
   "id": "6ddb9c97",
   "metadata": {},
   "source": [
    "# 50.\n",
    "\n",
    "Write a program to accept a number from the user and count the zeros, odd digits and non-zero even digits from the entered number.\n",
    "\n"
   ]
  },
  {
   "cell_type": "code",
   "execution_count": 7,
   "id": "b7d03ebb",
   "metadata": {},
   "outputs": [
    {
     "name": "stdout",
     "output_type": "stream",
     "text": [
      "102546300014789965441233\n",
      "Number of odd digits: 11\n",
      "Number of non-zero even digits: 9\n",
      "Number of zeros: 4\n"
     ]
    }
   ],
   "source": [
    "# Method 1\n",
    "# taking input from the user\n",
    "n=int(input())\n",
    "#Creating the three variable to count the occurance of zero valued, even number and odd number and stroded in these three variable\n",
    "n_zero=0\n",
    "n_non_zero_even=0\n",
    "n_odd=0\n",
    "\n",
    "#Initialising a loop through the input string \n",
    "#where n_zero will count num of time zero occured inside the string and so for the n_non_zero_even and n_odd.\n",
    "for num in str(n):\n",
    "    if int(num)==0:\n",
    "        n_zero+=1\n",
    "        # Each occurance of zero will increase the count by 1 \n",
    "    elif int(num)%2==0 and int(num)!=0:\n",
    "        n_non_zero_even+=1\n",
    "        # Each occurance of a non-zero which is even will increase the count by 1 \n",
    "    elif int(num)%2!=0:\n",
    "        n_odd+=1\n",
    "        ## Each occurance of a non-zero which is odd will increase the count by 1 \n",
    "\n",
    "# Printing the count of the three type of number\n",
    "print(f'Number of odd digits: {n_odd}')\n",
    "print(f'Number of non-zero even digits: {n_non_zero_even}')\n",
    "print(f'Number of zeros: {n_zero}')"
   ]
  },
  {
   "cell_type": "markdown",
   "id": "6bb8496c",
   "metadata": {},
   "source": [
    "# 51.\n",
    "\n",
    "\n",
    "Write a program that takes a string as the input and does the following:\n",
    "\n",
    "    -Removes the numbers, special characters\n",
    "\n",
    "    -Converts uppercase letters to lowercase letters, and vice versa \n",
    "\n",
    "   "
   ]
  },
  {
   "cell_type": "code",
   "execution_count": 1,
   "id": "4427bb9e",
   "metadata": {},
   "outputs": [
    {
     "name": "stdout",
     "output_type": "stream",
     "text": [
      "bIDHAN chanDRA Roy @345681%%$%$$\n",
      "BidhanCHANdrarOY\n"
     ]
    }
   ],
   "source": [
    "# Method 1\n",
    "\n",
    "# Taking a user input string \n",
    "input_string=input()\n",
    "\n",
    "# By using swapcase() method swapping the upper case letters to lower and vice verca\n",
    "input_string=input_string.swapcase()\n",
    "\n",
    "# Creating an empty variable to take new string to store the swapped letters by removing number,special characters etc.\n",
    "new_str= ''\n",
    "\n",
    "# Initialising the loop through the input string to add only all the letters from the input string to new string\n",
    "for alph in input_string:\n",
    "    if alph.isalpha():\n",
    "        new_str = new_str + alph\n",
    "\n",
    "# Printing the new string after removing all the numbers, characters etc \n",
    "print(new_str)"
   ]
  },
  {
   "cell_type": "markdown",
   "id": "86033264",
   "metadata": {},
   "source": [
    "# <font color=BLUE>B. Data Structure in Python</font>"
   ]
  },
  {
   "cell_type": "markdown",
   "id": "d8c6bd72",
   "metadata": {},
   "source": [
    "### List , Tuple, Set, Dictionary"
   ]
  },
  {
   "cell_type": "code",
   "execution_count": 10,
   "id": "f0837687",
   "metadata": {},
   "outputs": [
    {
     "data": {
      "text/plain": [
       "2"
      ]
     },
     "execution_count": 10,
     "metadata": {},
     "output_type": "execute_result"
    }
   ],
   "source": [
    "# 1.\n",
    "#Suppose list_1 is [2, 33, 222, 14, 25]. What is list_1[-5]?\n",
    "\n",
    "list_1 = [2, 33, 222, 14, 25]\n",
    "list_1[-5]"
   ]
  },
  {
   "cell_type": "code",
   "execution_count": 11,
   "id": "a114a190",
   "metadata": {},
   "outputs": [
    {
     "name": "stdout",
     "output_type": "stream",
     "text": [
      "[]\n"
     ]
    }
   ],
   "source": [
    "# 2. What would be the output of the code below?\n",
    "\n",
    "word = ['1','2','3','4']\n",
    "word[ : ] = [ ] \n",
    "print(word)"
   ]
  },
  {
   "cell_type": "code",
   "execution_count": 12,
   "id": "7ec86f60",
   "metadata": {},
   "outputs": [
    {
     "name": "stdout",
     "output_type": "stream",
     "text": [
      "['five', 'four', 'one', 'six', 'three', 'two']\n",
      "['one', 'two', 'three', 'four', 'five', 'six']\n"
     ]
    }
   ],
   "source": [
    "# 3.\n",
    "\n",
    "L = ['one','two','three', 'four', 'five', 'six']\n",
    "print(sorted(L))\n",
    "print (L)"
   ]
  },
  {
   "cell_type": "markdown",
   "id": "799c2b98",
   "metadata": {},
   "source": [
    "# 4. \n",
    "\n",
    "List_remove_append\n",
    "\n",
    "Description\n",
    "\n",
    "Remove SPSS from input_list=['SAS', 'R', 'PYTHON', 'SPSS'] and add 'SPARK' in its place."
   ]
  },
  {
   "cell_type": "code",
   "execution_count": 13,
   "id": "1c4b9afd",
   "metadata": {},
   "outputs": [
    {
     "name": "stdout",
     "output_type": "stream",
     "text": [
      "['SAS', 'R', 'PYTHON', 'SPARK']\n"
     ]
    }
   ],
   "source": [
    "# Method 1\n",
    "\n",
    "input_list=['SAS', 'R', 'PYTHON', 'SPSS']\n",
    "input_list.remove('SPSS')\n",
    "input_list.append('SPARK')\n",
    "print(input_list)"
   ]
  },
  {
   "cell_type": "markdown",
   "id": "51a31298",
   "metadata": {},
   "source": [
    "# 5.\n",
    "List to String\n",
    "\n",
    "Description\n",
    "\n",
    "Convert a list ['Pythons syntax is easy to learn', 'Pythons syntax is very clear'] to a string using ‘&’. The sample output of this string will be:\n",
    "\n",
    "Pythons syntax is easy to learn & Pythons syntax is very clear\n",
    "\n",
    "Note that there is a space on both sides of '&' (as usual in English sentences)."
   ]
  },
  {
   "cell_type": "code",
   "execution_count": 14,
   "id": "2f6ccf33",
   "metadata": {},
   "outputs": [
    {
     "name": "stdout",
     "output_type": "stream",
     "text": [
      "Pythons syntax is easy to learn & Pythons syntax is very clear\n"
     ]
    }
   ],
   "source": [
    "# Method 1\n",
    "\n",
    "#Input as mentioned in the problem.\n",
    "input_list = ['Pythons syntax is easy to learn', 'Pythons syntax is very clear']\n",
    "\n",
    "#By using insert() method , adding \"&\" in list by mentioning it's position i.e 1 and then following it's value '&'.\n",
    "input_list.insert(1,'&')\n",
    "\n",
    "#By using join() of the builtin function element of the list have been jioned and separateted by space.\n",
    "list1=' '.join(input_list)\n",
    "\n",
    "#Printing the new list 'list1'\n",
    "print(list1)"
   ]
  },
  {
   "cell_type": "code",
   "execution_count": 15,
   "id": "f281c690",
   "metadata": {},
   "outputs": [
    {
     "name": "stdout",
     "output_type": "stream",
     "text": [
      "Pythons syntax is easy to learn & Pythons syntax is very clear\n"
     ]
    }
   ],
   "source": [
    "# Medhod 2\n",
    "\n",
    "#Input as mentioned in the problem.\n",
    "input_list = ['Pythons syntax is easy to learn', 'Pythons syntax is very clear']\n",
    "\n",
    "# Using append() , adding '&' inside the list and it will be added in the end as the last element of the list\n",
    "input_list.append('&')\n",
    "\n",
    "# creating a new string with the help of indexing\n",
    "list1 = input_list[0] +' '+ input_list[2] + ' '+ input_list[1]\n",
    "\n",
    "#Printing the new list 'list1'\n",
    "print(list1)"
   ]
  },
  {
   "cell_type": "code",
   "execution_count": 16,
   "id": "0fca8c48",
   "metadata": {},
   "outputs": [
    {
     "name": "stdout",
     "output_type": "stream",
     "text": [
      "Pythons syntax is easy to learn & Pythons syntax is very clear\n"
     ]
    }
   ],
   "source": [
    "# Method 3\n",
    "\n",
    "#Input as mentioned in the problem.\n",
    "input_list = ['Pythons syntax is easy to learn', 'Pythons syntax is very clear']\n",
    "\n",
    "#By using join() of the builtin function element of the list have been jioned and separateted by 'space&space'.\n",
    "list1=' & '.join(input_list)\n",
    "\n",
    "#Printing the new list 'list1'\n",
    "print(list1)\n"
   ]
  },
  {
   "cell_type": "code",
   "execution_count": 17,
   "id": "b0fc21e9",
   "metadata": {},
   "outputs": [
    {
     "name": "stdout",
     "output_type": "stream",
     "text": [
      "Python\n"
     ]
    }
   ],
   "source": [
    "# 6.\n",
    "\n",
    "#How will I extract Python from the nested list\n",
    "\n",
    "input_list =  [['SAS','R'],['Tableau','SQL'],['Python','Java']]\n",
    "\n",
    "print(input_list[2][0])\n"
   ]
  },
  {
   "cell_type": "markdown",
   "id": "aacce95f",
   "metadata": {},
   "source": [
    "# 7.\n",
    "\n",
    "String Split\n",
    "\n",
    "Description\n",
    "\n",
    "Split the string input_str = 'Kumar_Ravi_003' to the person's second name, first name and unique customer code. In this example, second_name= 'Kumar', first_name= 'Ravi', customer_code = '003'.\n",
    "\n",
    "\n",
    "\n",
    "A sample output of the input 'Kumar_Ravi_003' is:\n",
    "\n",
    "Ravi\n",
    "Kumar\n",
    "003\n",
    " \n",
    "\n",
    "Note that you need to print in the order first name, last name and customer code."
   ]
  },
  {
   "cell_type": "code",
   "execution_count": 18,
   "id": "863bed30",
   "metadata": {},
   "outputs": [
    {
     "name": "stdout",
     "output_type": "stream",
     "text": [
      "Ravi\n",
      "Kumar\n",
      "003\n"
     ]
    }
   ],
   "source": [
    "# Method 1\n",
    "\n",
    "# Input as mentioned in the problem.\n",
    "input_str = 'Kumar_Ravi_003'\n",
    "\n",
    "# using split() method to remove '_' from the string and separate the desired substring and stored in a list.\n",
    "str1 = input_str .split('_')\n",
    "\n",
    "# Printing the desired output by string concatenation \n",
    "print(str1[1]+'\\n'+str1[0]+'\\n'+str1[2])"
   ]
  },
  {
   "cell_type": "code",
   "execution_count": 19,
   "id": "a1ccc6c4",
   "metadata": {},
   "outputs": [
    {
     "name": "stdout",
     "output_type": "stream",
     "text": [
      "Ravi\n",
      "Kumar\n",
      "003\n"
     ]
    }
   ],
   "source": [
    "# Method 2\n",
    "\n",
    "# Input as mentioned in the problem.\n",
    "input_str = 'Kumar_Ravi_003'\n",
    "\n",
    "# Using split() method to remove '_' from the string and separate the desired substring and stored in a list.\n",
    "str1 = input_str .split('_')\n",
    "\n",
    "# Creating variables for each substrings:\n",
    "first_name = str1[1]\n",
    "second_name = str1[0]\n",
    "customer_code = str1[2]\n",
    "\n",
    "# Printing the created variable in the desired sequence\n",
    "print(first_name)\n",
    "print(second_name)\n",
    "print(customer_code)\n"
   ]
  },
  {
   "cell_type": "code",
   "execution_count": 20,
   "id": "8e605026",
   "metadata": {},
   "outputs": [
    {
     "name": "stdout",
     "output_type": "stream",
     "text": [
      "Ravi\n",
      "Kumar\n",
      "003\n"
     ]
    }
   ],
   "source": [
    "# Method 3\n",
    "\n",
    "# Input as mentioned in the problem.\n",
    "input_str = 'Kumar_Ravi_003'\n",
    "\n",
    "# Using split() method to remove '_' from the string and separate the desired substring and stored in a list and againing strong all the elements in different variables.\n",
    "first_name = input_str.split(\"_\")[1]\n",
    "second_name = input_str.split(\"_\")[0]\n",
    "customer_code = input_str.split(\"_\")[2]\n",
    "\n",
    "# Printing the created variable in the desired sequence\n",
    "print(first_name)\n",
    "print(second_name)\n",
    "print(customer_code)"
   ]
  },
  {
   "cell_type": "code",
   "execution_count": 21,
   "id": "e717b0f4",
   "metadata": {},
   "outputs": [
    {
     "data": {
      "text/plain": [
       "'s'"
      ]
     },
     "execution_count": 21,
     "metadata": {},
     "output_type": "execute_result"
    }
   ],
   "source": [
    "# 8.\n",
    "\n",
    "#What would be the output here?\n",
    "t = (\"disco\", 12, 4.5)\n",
    "t[0][2]"
   ]
  },
  {
   "cell_type": "markdown",
   "id": "a9df48cb",
   "metadata": {},
   "source": [
    "# 9.\n",
    "Suppose t = (1, 2, 4, 3). Which of the following statements would result in an error?\n"
   ]
  },
  {
   "cell_type": "code",
   "execution_count": 22,
   "id": "679445ff",
   "metadata": {},
   "outputs": [
    {
     "ename": "IndexError",
     "evalue": "tuple index out of range",
     "output_type": "error",
     "traceback": [
      "\u001b[1;31m---------------------------------------------------------------------------\u001b[0m",
      "\u001b[1;31mIndexError\u001b[0m                                Traceback (most recent call last)",
      "Input \u001b[1;32mIn [22]\u001b[0m, in \u001b[0;36m<cell line: 1>\u001b[1;34m()\u001b[0m\n\u001b[1;32m----> 1\u001b[0m \u001b[38;5;28mprint\u001b[39m(\u001b[43mt\u001b[49m\u001b[43m[\u001b[49m\u001b[38;5;241;43m4\u001b[39;49m\u001b[43m]\u001b[49m)\n",
      "\u001b[1;31mIndexError\u001b[0m: tuple index out of range"
     ]
    }
   ],
   "source": [
    "print(t[4])\n"
   ]
  },
  {
   "cell_type": "code",
   "execution_count": 23,
   "id": "61a91169",
   "metadata": {},
   "outputs": [
    {
     "name": "stdout",
     "output_type": "stream",
     "text": [
      "()\n"
     ]
    }
   ],
   "source": [
    "print(t[1:-4])\n"
   ]
  },
  {
   "cell_type": "code",
   "execution_count": 24,
   "id": "e8ce5622",
   "metadata": {},
   "outputs": [
    {
     "ename": "SyntaxError",
     "evalue": "expression cannot contain assignment, perhaps you meant \"==\"? (1106023495.py, line 1)",
     "output_type": "error",
     "traceback": [
      "\u001b[1;36m  Input \u001b[1;32mIn [24]\u001b[1;36m\u001b[0m\n\u001b[1;33m    print(t[3] = 5)\u001b[0m\n\u001b[1;37m          ^\u001b[0m\n\u001b[1;31mSyntaxError\u001b[0m\u001b[1;31m:\u001b[0m expression cannot contain assignment, perhaps you meant \"==\"?\n"
     ]
    }
   ],
   "source": [
    "print(t[3] = 5)"
   ]
  },
  {
   "cell_type": "code",
   "execution_count": 25,
   "id": "9bd11ee1",
   "metadata": {},
   "outputs": [
    {
     "name": "stdout",
     "output_type": "stream",
     "text": [
      "3\n"
     ]
    }
   ],
   "source": [
    "print(len(t))"
   ]
  },
  {
   "cell_type": "markdown",
   "id": "3a3a9733",
   "metadata": {},
   "source": [
    "# 10.\n",
    "Which of the following declarations can be used to create a Python tuple?\n"
   ]
  },
  {
   "cell_type": "code",
   "execution_count": 26,
   "id": "e9d838c8",
   "metadata": {},
   "outputs": [
    {
     "data": {
      "text/plain": [
       "str"
      ]
     },
     "execution_count": 26,
     "metadata": {},
     "output_type": "execute_result"
    }
   ],
   "source": [
    "x = ('2')\n",
    "type(x)"
   ]
  },
  {
   "cell_type": "code",
   "execution_count": 27,
   "id": "9d8fb05e",
   "metadata": {},
   "outputs": [
    {
     "data": {
      "text/plain": [
       "tuple"
      ]
     },
     "execution_count": 27,
     "metadata": {},
     "output_type": "execute_result"
    }
   ],
   "source": [
    "x = 1,2,\n",
    "type(x)"
   ]
  },
  {
   "cell_type": "code",
   "execution_count": 28,
   "id": "c480b976",
   "metadata": {},
   "outputs": [
    {
     "data": {
      "text/plain": [
       "tuple"
      ]
     },
     "execution_count": 28,
     "metadata": {},
     "output_type": "execute_result"
    }
   ],
   "source": [
    "x = ((1,2,3), 4,5)\n",
    "type(x)"
   ]
  },
  {
   "cell_type": "code",
   "execution_count": 29,
   "id": "3264579c",
   "metadata": {},
   "outputs": [
    {
     "ename": "NameError",
     "evalue": "name 'Hello' is not defined",
     "output_type": "error",
     "traceback": [
      "\u001b[1;31m---------------------------------------------------------------------------\u001b[0m",
      "\u001b[1;31mNameError\u001b[0m                                 Traceback (most recent call last)",
      "Input \u001b[1;32mIn [29]\u001b[0m, in \u001b[0;36m<cell line: 1>\u001b[1;34m()\u001b[0m\n\u001b[1;32m----> 1\u001b[0m x \u001b[38;5;241m=\u001b[39m (\u001b[43mHello\u001b[49m,\u001b[38;5;124m'\u001b[39m\u001b[38;5;124m2\u001b[39m\u001b[38;5;124m'\u001b[39m,\u001b[38;5;124m'\u001b[39m\u001b[38;5;124m3\u001b[39m\u001b[38;5;124m'\u001b[39m)\n\u001b[0;32m      2\u001b[0m \u001b[38;5;28mtype\u001b[39m(x)\n",
      "\u001b[1;31mNameError\u001b[0m: name 'Hello' is not defined"
     ]
    }
   ],
   "source": [
    "x = (Hello,'2','3')\n",
    "type(x)"
   ]
  },
  {
   "cell_type": "markdown",
   "id": "4de4f8c3",
   "metadata": {},
   "source": [
    "# 11.\n",
    "\n",
    "Tuple\n",
    "\n",
    "Description\n",
    "\n",
    "Add the element ‘Python’ to a tuple input_tuple = ('Monty Python', 'British', 1969). Since tuples are immutable, one way to do this is to convert the tuple to a list, add the element, and convert it back to a tuple."
   ]
  },
  {
   "cell_type": "code",
   "execution_count": 30,
   "id": "fbf46bba",
   "metadata": {},
   "outputs": [
    {
     "name": "stdout",
     "output_type": "stream",
     "text": [
      "('Monty Python', 'British', 1969, 'Python')\n"
     ]
    }
   ],
   "source": [
    "# Method 1\n",
    "\n",
    "# Input as mentioned in the problem.\n",
    "input_tuple = ('Monty Python', 'British', 1969)\n",
    "\n",
    "# Converting tuple into list:\n",
    "lst1=list(input_tuple)\n",
    "\n",
    "# Adding 'Python' in the list 'lst1'\n",
    "lst1.append('Python')\n",
    "\n",
    "# Again converting the list into tuple to get the desired result\n",
    "tuple_2=tuple(lst1)\n",
    "\n",
    "# printing the desired output\n",
    "print(tuple_2)"
   ]
  },
  {
   "cell_type": "markdown",
   "id": "9ddadf17",
   "metadata": {},
   "source": [
    "# 12.\n",
    "Sets Practice\n",
    "\n",
    "Description\n",
    "\n",
    "Let’s say you have two lists A and B. Identify the elements which are common in the two lists A and B and return them in a sorted manner. For example \n",
    "\n",
    "\n",
    "\n",
    "Sample Input :\n",
    "\n",
    "A = [5, 1, 3, 4, 4, 5, 6, 7]\n",
    "\n",
    "B = [3, 3, 5, 5, 1 ,7 ,2]\n",
    "\n",
    "\n",
    "\n",
    "Sample Output:\n",
    "\n",
    "[1,3,5,7]\n",
    "\n",
    "\n",
    "\n",
    "If you observe the sample output here you can see that \n",
    "\n",
    "Though value 5 is repeated twice in both lists, in the final output it is present only once.\n",
    "The values are returned in a sorted manner with values increasing."
   ]
  },
  {
   "cell_type": "code",
   "execution_count": 31,
   "id": "68355466",
   "metadata": {},
   "outputs": [
    {
     "name": "stdout",
     "output_type": "stream",
     "text": [
      "[1, 3, 5, 7]\n"
     ]
    }
   ],
   "source": [
    "# Method 1\n",
    "\n",
    "# Input as mentioned in the problem.\n",
    "A = [5, 1, 3, 4, 4, 5, 6, 7]\n",
    "B = [3, 3, 5, 5, 1 ,7 ,2]\n",
    "\n",
    "# converting lists into set to remove all the duplicates\n",
    "setA = set(A)\n",
    "setB = set(B)\n",
    "\n",
    "# To get the common items present in both the lists , intersection(&) is used and then converted to a list\n",
    "common_elements_lists =list(setA & setB)\n",
    "\n",
    "# printing the desired output\n",
    "print(common_elements_lists)"
   ]
  },
  {
   "cell_type": "code",
   "execution_count": 32,
   "id": "32a6d64b",
   "metadata": {},
   "outputs": [
    {
     "name": "stdout",
     "output_type": "stream",
     "text": [
      "4\n"
     ]
    }
   ],
   "source": [
    "# 13.\n",
    "#What gets printed with the following set of instructions?\n",
    "\n",
    "nums = set([1,1,2,3,3,3,4])\n",
    "print(len(nums))"
   ]
  },
  {
   "cell_type": "markdown",
   "id": "d0cddef1",
   "metadata": {},
   "source": [
    "# 14.\n",
    "\n",
    "Dictionary Coding\n",
    "\n",
    "Description\n",
    "\n",
    "Write code to fetch the profession of the employee with Employee id - 104 from an employee input given in the form of a dictionary where key represent employ id and values represent the name, age, and profession (in the same order).\n",
    "\n",
    "Sample input:\n",
    "\n",
    "Employee_data = { 101:['Shiva', 24, 'Content Strategist'] ,102:['Udit',25,'Content Strategist'], 103:['Sonam', 28,'Sr Manager'], 104:['Ansari',29,'Product Lead' ],105:['Huzefa',32,'Project Manager' ]}\n",
    "\n",
    "Sample output:\n",
    "\n",
    "'Product Lead'\n",
    "\n",
    "Note: Assume that employee data would be available in the data provided to you "
   ]
  },
  {
   "cell_type": "code",
   "execution_count": 33,
   "id": "12b928aa",
   "metadata": {},
   "outputs": [
    {
     "name": "stdout",
     "output_type": "stream",
     "text": [
      "{ 101:['Shiva', 24, 'Content Strategist'] ,102:['Udit',25,'Content Strategist'], 103:['Sonam', 28,'Sr Manager'], 104:['Ansari',29,'Product Lead' ],105:['Huzefa',32,'Project Manager' ]}\n",
      "Product Lead\n"
     ]
    }
   ],
   "source": [
    "# Method 1 \n",
    "\n",
    "# To make the code more generic would like too take input from user and for that importing a module called 'ast' and here to take any type(here the input will a dictionary) of data structure as input literal_eval() method is used.\n",
    "import ast\n",
    "input_dct= ast.literal_eval(input())\n",
    "\n",
    "# As the employee id (eg: 104) is a key and the profession is in the 3rd place of dictionary value, we will call the profession by calling the key(employee id) and value of key using list indexing:\n",
    "profession = input_dct[104][2]\n",
    "\n",
    "# printing the profession of 104 :\n",
    "print(profession)"
   ]
  },
  {
   "cell_type": "markdown",
   "id": "533557aa",
   "metadata": {},
   "source": [
    "# 15.\n",
    "\n",
    "Which of the following statements create a dictionary? Select all the options that apply. (More than one option may be correct.)"
   ]
  },
  {
   "cell_type": "code",
   "execution_count": 34,
   "id": "3bb65966",
   "metadata": {},
   "outputs": [
    {
     "data": {
      "text/plain": [
       "dict"
      ]
     },
     "execution_count": 34,
     "metadata": {},
     "output_type": "execute_result"
    }
   ],
   "source": [
    "d = {}\n",
    "type(d)"
   ]
  },
  {
   "cell_type": "code",
   "execution_count": 35,
   "id": "8f826ebc",
   "metadata": {},
   "outputs": [
    {
     "data": {
      "text/plain": [
       "dict"
      ]
     },
     "execution_count": 35,
     "metadata": {},
     "output_type": "execute_result"
    }
   ],
   "source": [
    "d = {'a':1, 'b':2}\n",
    "type(d)"
   ]
  },
  {
   "cell_type": "code",
   "execution_count": 36,
   "id": "91fdb1c8",
   "metadata": {},
   "outputs": [
    {
     "data": {
      "text/plain": [
       "dict"
      ]
     },
     "execution_count": 36,
     "metadata": {},
     "output_type": "execute_result"
    }
   ],
   "source": [
    "d = dict(a=1, b=2)\n",
    "type(d)"
   ]
  },
  {
   "cell_type": "code",
   "execution_count": 37,
   "id": "96dc60e0",
   "metadata": {},
   "outputs": [
    {
     "ename": "SyntaxError",
     "evalue": "invalid syntax (658412872.py, line 1)",
     "output_type": "error",
     "traceback": [
      "\u001b[1;36m  Input \u001b[1;32mIn [37]\u001b[1;36m\u001b[0m\n\u001b[1;33m    d = ('a':1, 'b':2)\u001b[0m\n\u001b[1;37m            ^\u001b[0m\n\u001b[1;31mSyntaxError\u001b[0m\u001b[1;31m:\u001b[0m invalid syntax\n"
     ]
    }
   ],
   "source": [
    "d = ('a':1, 'b':2)\n",
    "type(d)"
   ]
  },
  {
   "cell_type": "code",
   "execution_count": 38,
   "id": "1ec03d6b",
   "metadata": {},
   "outputs": [
    {
     "data": {
      "text/plain": [
       "{'Python': 40}"
      ]
     },
     "execution_count": 38,
     "metadata": {},
     "output_type": "execute_result"
    }
   ],
   "source": [
    "# 16.\n",
    "# Suppose dict_1 = {\"Python'':40, \"R'':45}. What command should be used to delete the entry \"R\"?\n",
    "dict_1 = {\"Python\":40, \"R\":45}\n",
    "del dict_1['R']\n",
    "dict_1"
   ]
  },
  {
   "cell_type": "code",
   "execution_count": 39,
   "id": "09d1b17a",
   "metadata": {},
   "outputs": [
    {
     "name": "stdout",
     "output_type": "stream",
     "text": [
      "['Python', 'R']\n"
     ]
    }
   ],
   "source": [
    "# 17.\n",
    "#What would be the output of the following set of instructions?\n",
    "\n",
    "d = {'Python':40, 'R':45}\n",
    "print(list(d.keys()))"
   ]
  },
  {
   "cell_type": "markdown",
   "id": "9147aa0d",
   "metadata": {},
   "source": [
    "# 18.\n",
    "Dict_Error\n",
    "\n",
    "Description\n",
    "\n",
    "From a Dictionary input_dict={'Name': 'Monty', 'Profession': 'Singer' }, get the value of a key ‘Label’ which is not a part of the dictionary, in such a way that Python doesn't hit an error. If the key does not exist in the dictionary, Python should return 'NA'.\n",
    "\n",
    "\n",
    "Sample Input:\n",
    "\n",
    "{'Name': 'Monty', 'Profession': 'Singer' }\n",
    "\n",
    "\n",
    "Sample Output:\n",
    "\n",
    "NA"
   ]
  },
  {
   "cell_type": "code",
   "execution_count": 41,
   "id": "5a9dcf5f",
   "metadata": {},
   "outputs": [
    {
     "name": "stdout",
     "output_type": "stream",
     "text": [
      "{'Name': 'Monty', 'Profession': 'Singer' }\n",
      "NA\n"
     ]
    }
   ],
   "source": [
    "# Method 1 \n",
    "\n",
    "# To make the code more generic would like too take input from user and for that importing a module called 'ast' and here to take any type(here the input will a dictionary) of data structure as input literal_eval() method is used.\n",
    "import ast\n",
    "input_dct= ast.literal_eval(input())\n",
    "\n",
    "# To search of looking for a value by using key get() method is used. and we can instruct the get() method that if the key is not present in the dictionary what will be our desired output:\n",
    "output = input_dct.get('Label','NA')\n",
    "\n",
    "# printing the output\n",
    "print(output)"
   ]
  },
  {
   "cell_type": "code",
   "execution_count": 42,
   "id": "c77d54c3",
   "metadata": {},
   "outputs": [
    {
     "name": "stdout",
     "output_type": "stream",
     "text": [
      "{'Name': 'Monty', 'Profession': 'Singer' }\n",
      "lABEL\n",
      "NA\n"
     ]
    }
   ],
   "source": [
    "# Method 2\n",
    "\n",
    "# To make the code more generic would like too take input from user and for that importing a module called 'ast' and here to take any type(here the input will be  dictionary) of data structure as input literal_eval() method is used.\n",
    "import ast\n",
    "\n",
    "#taking dictionary as input\n",
    "input_dct= ast.literal_eval(input())\n",
    "\n",
    "# taking string as input to check weather it is present in the input dictionary\n",
    "search_key = input()\n",
    "\n",
    "keys = input_dct.keys()\n",
    "\n",
    "if search_key in keys:\n",
    "    print(input_dct[search_key])\n",
    "else:\n",
    "    print('NA')"
   ]
  },
  {
   "cell_type": "markdown",
   "id": "e069c63e",
   "metadata": {},
   "source": [
    "# 19. \n",
    "\n",
    "List of Values in a Dictionary.\n",
    "\n",
    "Description\n",
    "\n",
    "Create a SORTED list of all values from the dictionary input_dict = {'Jack Dorsey' : 'Twitter' , 'Tim Cook' : 'Apple','Jeff Bezos' : 'Amazon' ,'Mukesh Ambani' : 'RJIO'}\n",
    "\n",
    "Sample Input:\n",
    "\n",
    "{'Jack Dorsey' : 'Twitter' , 'Tim Cook' : 'Apple','Jeff Bezos' : 'Amazon' ,'Mukesh Ambani' : 'RJIO'}\n",
    "\n",
    "Sample Output:\n",
    "\n",
    "['Amazon', 'Apple', 'RJIO', 'Twitter']"
   ]
  },
  {
   "cell_type": "code",
   "execution_count": 43,
   "id": "b42810cc",
   "metadata": {},
   "outputs": [
    {
     "name": "stdout",
     "output_type": "stream",
     "text": [
      "['Amazon', 'Apple', 'RJIO', 'Twitter']\n"
     ]
    }
   ],
   "source": [
    "# Method 1\n",
    "\n",
    "# Input as mentioned in the problem.\n",
    "input_dict = {'Jack Dorsey' : 'Twitter' , 'Tim Cook' : 'Apple','Jeff Bezos' : 'Amazon' ,'Mukesh Ambani' : 'RJIO'}\n",
    "\n",
    "# Getting the list of values of the given dictionary\n",
    "values_list = input_dict.values()\n",
    "\n",
    "# To sort the value list followig the sorted() method and printing the output\n",
    "output = sorted(values_list)\n",
    "\n",
    "print(output)"
   ]
  },
  {
   "cell_type": "code",
   "execution_count": 46,
   "id": "5f8df369",
   "metadata": {},
   "outputs": [
    {
     "name": "stdout",
     "output_type": "stream",
     "text": [
      "132\n"
     ]
    }
   ],
   "source": [
    "# 20.\n",
    "#Question 1: Print a random integer between 100 and 135\n",
    "\n",
    "\n",
    "# Import required libraries:\n",
    "import random\n",
    "\n",
    "# Print a random integer in the given range:\n",
    "print(random.randint(100,135))"
   ]
  },
  {
   "cell_type": "code",
   "execution_count": 49,
   "id": "350defb7",
   "metadata": {},
   "outputs": [
    {
     "data": {
      "text/plain": [
       "[0, 2, 4, 6, 8, 10, 12, 14, 16, 18]"
      ]
     },
     "execution_count": 49,
     "metadata": {},
     "output_type": "execute_result"
    }
   ],
   "source": [
    "# 21.\n",
    "#Question 2: Create a list consisting of first 10 even numbers.\n",
    "\n",
    "# Create a list according to the given condition:\n",
    "list=[0,2,4,6,8,10,12,14,16,18]\n",
    "list"
   ]
  },
  {
   "cell_type": "code",
   "execution_count": 52,
   "id": "00a2728a",
   "metadata": {},
   "outputs": [
    {
     "data": {
      "text/plain": [
       "[1994, 'bidhan', 25, 'roy']"
      ]
     },
     "execution_count": 52,
     "metadata": {},
     "output_type": "execute_result"
    }
   ],
   "source": [
    "# 22.\n",
    "#Question 3: Create a list in the following manner: [birthyear, firstname, birthdate, lastname]\n",
    "\n",
    "# Create a list according to the given condition:\n",
    "list1=[1994,'bidhan',25,'roy']\n",
    "list1"
   ]
  },
  {
   "cell_type": "code",
   "execution_count": 53,
   "id": "0a174ed5",
   "metadata": {},
   "outputs": [
    {
     "data": {
      "text/plain": [
       "[['Alex', 'Cody'], ['mathematics', 'english'], [97, 95], [89, 92]]"
      ]
     },
     "execution_count": 53,
     "metadata": {},
     "output_type": "execute_result"
    }
   ],
   "source": [
    "# 23.\n",
    "## Create a list according to the given condition:\n",
    "list2=[['Alex','Cody'],['mathematics','english'],[97,95],[89,92]]\n",
    "list2"
   ]
  },
  {
   "cell_type": "code",
   "execution_count": 54,
   "id": "2ba60f06",
   "metadata": {},
   "outputs": [
    {
     "data": {
      "text/plain": [
       "True"
      ]
     },
     "execution_count": 54,
     "metadata": {},
     "output_type": "execute_result"
    }
   ],
   "source": [
    "#24.\n",
    "#Question 5: Given below is a list, find out whether is has the letter 'k' in it and print the result as true or false.\n",
    "\n",
    "# Given below is a list:\n",
    "list3=[1,2,'r',7,'k',6,'o','h','d',5,9]\n",
    "\n",
    "# Define the character you are searching for:\n",
    "x='k'\n",
    "\n",
    "# print the result:\n",
    "x in list3"
   ]
  },
  {
   "cell_type": "code",
   "execution_count": 55,
   "id": "5ee97d81",
   "metadata": {},
   "outputs": [
    {
     "data": {
      "text/plain": [
       "'world'"
      ]
     },
     "execution_count": 55,
     "metadata": {},
     "output_type": "execute_result"
    }
   ],
   "source": [
    "#25.\n",
    "# Question 6: In the tuple given below, print the 3rd element.\n",
    "\n",
    "# Given below is the tuple:\n",
    "tuple1=(1,'hello','world','567')\n",
    "\n",
    "# Print the 3rd element:\n",
    "tuple1[2]"
   ]
  },
  {
   "cell_type": "code",
   "execution_count": 56,
   "id": "10d23d1e",
   "metadata": {},
   "outputs": [
    {
     "data": {
      "text/plain": [
       "[1, 3, 25, 54, 67, 100]"
      ]
     },
     "execution_count": 56,
     "metadata": {},
     "output_type": "execute_result"
    }
   ],
   "source": [
    "# 26.\n",
    "# Question 7: Given below is a tuple. Sort the tuple and print the result.\n",
    "\n",
    "# Given below is the tuple:\n",
    "tuple2=(1,25,67,100,3,54)\n",
    "\n",
    "# Sort the tuple:\n",
    "x= sorted(tuple2)\n",
    "# Print the result:\n",
    "x"
   ]
  },
  {
   "cell_type": "code",
   "execution_count": 58,
   "id": "9043434b",
   "metadata": {},
   "outputs": [
    {
     "name": "stdout",
     "output_type": "stream",
     "text": [
      "{1, 2, 3, 4, 5, 6, 7}\n",
      "7\n"
     ]
    }
   ],
   "source": [
    "# 27.\n",
    "# Question 8: Given below is a list, convert into a set and print the output also print the length of the set.\n",
    "\n",
    "# Given below is the list:\n",
    "list4=[1,2,4,6,3,2,5,4,7,4,6,5,3,2,2,1]\n",
    "\n",
    "# Convert the list into set:\n",
    "set1=set(list4)\n",
    "\n",
    "# Print the result:\n",
    "print(set1)\n",
    "\n",
    "# Print the length of the set:\n",
    "print(len(set1))"
   ]
  },
  {
   "cell_type": "code",
   "execution_count": 61,
   "id": "a3dfcf62",
   "metadata": {},
   "outputs": [
    {
     "name": "stdout",
     "output_type": "stream",
     "text": [
      "{1, 2, 3, 4, 5, 6, 7, 8, 9}\n",
      "{2, 3, 5}\n",
      "{1, 6, 7}\n",
      "{1, 4, 6, 7, 8, 9}\n"
     ]
    }
   ],
   "source": [
    "# 28.\n",
    "# Question 9: Given below are two sets, perform the operations given below:\n",
    "\n",
    "#Print their union\n",
    "#Print their intersection\n",
    "#Print their difference\n",
    "#Print their symmetric difference\n",
    "\n",
    "\n",
    "\n",
    "# Given below are two sets:\n",
    "a={1,2,3,5,6,7}\n",
    "b={4,5,8,9,2,3}\n",
    "\n",
    "# Print their union:\n",
    "union=a|b\n",
    "print(union)\n",
    "# Print their intersection:\n",
    "intersection=a&b\n",
    "print(intersection)\n",
    "# Print their difference:\n",
    "diff=a.difference(b)\n",
    "print(diff)\n",
    "# Print their symmetric difference:\n",
    "symm=a^b\n",
    "print(symm)"
   ]
  },
  {
   "cell_type": "code",
   "execution_count": 64,
   "id": "c31caad4",
   "metadata": {},
   "outputs": [
    {
     "data": {
      "text/plain": [
       "{'Sam': 21, 'Cody': 12, 'addy': 3, 'Zach': 45, 'amy': 6}"
      ]
     },
     "execution_count": 64,
     "metadata": {},
     "output_type": "execute_result"
    }
   ],
   "source": [
    "# 29.\n",
    "# Question 10: Create a dictionary that stores the names and roll numbers of 5 students as given below:\n",
    "\n",
    "\"\"\"Sam, 21\n",
    "Cody, 12\n",
    "Addy, 3\n",
    "Zach, 45\n",
    "Amy, 6 \"\"\"\n",
    "\n",
    "# Create a dictionary:\n",
    "\n",
    "dict1={'Sam':21,'Cody':12,'addy':3,'Zach':45,'amy':6}\n",
    "\n",
    "# Print the result:\n",
    "dict1"
   ]
  },
  {
   "cell_type": "code",
   "execution_count": 66,
   "id": "043318c6",
   "metadata": {},
   "outputs": [
    {
     "data": {
      "text/plain": [
       "{'Sam': 21, 'Cody': 12, 'addy': 3, 'Zach': 47, 'amy': 6}"
      ]
     },
     "execution_count": 66,
     "metadata": {},
     "output_type": "execute_result"
    }
   ],
   "source": [
    "# 30.\n",
    "#Question 11: Due to admission of new students the roll number of zach has changed from 45 to 47. Make the required changes and print the new dictionary.\n",
    "\n",
    "# Update the roll number:\n",
    "dict1['Zach']=47\n",
    "\n",
    "# Print the new dictionary:\n",
    "dict1"
   ]
  },
  {
   "cell_type": "code",
   "execution_count": 69,
   "id": "b0843c77",
   "metadata": {},
   "outputs": [
    {
     "data": {
      "text/plain": [
       "['Cody', 'Sam', 'Zach', 'addy', 'amy']"
      ]
     },
     "execution_count": 69,
     "metadata": {},
     "output_type": "execute_result"
    }
   ],
   "source": [
    "# 31.\n",
    "# Question 12: Sort the dictionary according to roll number.\n",
    "\n",
    "# Sort and print the students roll number wise in ascending order:\n",
    "\n",
    "x=sorted(dict1)\n",
    "x"
   ]
  },
  {
   "cell_type": "code",
   "execution_count": 89,
   "id": "f8f94260",
   "metadata": {},
   "outputs": [
    {
     "name": "stdout",
     "output_type": "stream",
     "text": [
      "total_order is  129\n",
      "50th order is  1099\n",
      "True\n",
      "1178\n",
      "[1050, 1051, 1052, 1054]\n"
     ]
    }
   ],
   "source": [
    "# 32.\n",
    "# List of order ID’s which are processed \n",
    "processed_orders = [1152, 1154, 1155, 1156, 1157, 1160, 1161, 1162, 1166, 1169, 1170, 1172, 1176, 1050, 1178, 1051, 1052, 1054, 1058, 1060, 1061, 1062, 1065, 1066, 1067, 1068, 1069, 1076, 1077, 1080, 1081, 1083, 1091, 1085, 1088, 1089, 1131, 1092, 1094, 1095, 1099, 1102, 1103, 1104, 1106, 1107, 1108, 1109, 1111, 1117, 1119, 1121, 1150, 1128, 1129, 1136, 1137, 1139, 1140, 1141, 1144, 1148, 1124]\n",
    "\n",
    "# List of order ID’s which are returned\n",
    "returned_orders = [1153, 1158, 1159, 1163, 1164, 1165, 1167, 1168, 1171, 1173, 1174, 1175, 1177, 1053, 1055, 1056, 1057, 1059, 1063, 1064, 1070, 1071, 1072, 1073, 1074, 1075, 1078, 1079, 1082, 1084, 1086, 1087, 1090, 1093, 1096, 1097, 1098, 1100, 1101, 1105, 1110, 1112, 1113, 1114, 1115, 1116, 1118, 1120, 1122, 1123, 1125, 1126, 1127, 1130, 1132, 1133, 1134, 1135, 1138, 1142, 1143, 1145, 1146, 1147, 1149, 1151]\n",
    "\n",
    "# Consider the information available in the above two lists and answer the question given below\n",
    "#Count the total number of orders [ Orders include both processed and returned orders]\n",
    "total_order = processed_orders + returned_orders\n",
    "print('total_order is ',len(total_order))\n",
    "\n",
    "#In the total orders, identify the 50th order [ Note: Assume the order ID’s are being generated in a consecutive manner]\n",
    "total_order.sort()\n",
    "print('50th order is ',total_order[49])\n",
    "\n",
    "#Is 50th order a returned order or processed order?\n",
    "print(1099 in processed_orders)\n",
    "\n",
    "#What is the last processed order ID ? [ Note: Assume the order ID’s are being generated in a consecutive manner]\n",
    "'''\n",
    "1050\n",
    "1178\n",
    "1124\n",
    "1177'''\n",
    "print(total_order[-1])\n",
    "\n",
    "#Identify the first 4 orders which are processed?\n",
    "\n",
    "processed_orders.sort()\n",
    "print(processed_orders[0:4])\n",
    "\n"
   ]
  },
  {
   "cell_type": "code",
   "execution_count": 115,
   "id": "c1f29bf6",
   "metadata": {},
   "outputs": [
    {
     "name": "stdout",
     "output_type": "stream",
     "text": [
      "45\n",
      "Error\n",
      "74\n",
      "31.364864864864863\n",
      "31.136986301369863\n"
     ]
    }
   ],
   "source": [
    "# 33.\n",
    "# employee data with key as id of the employee and values as age of the employee\n",
    "Employee_data ={101: 43, 102: 25, 103: 43, 104: 31, 105: 26, 106: 28, 107: 29, 108: 43, 109: 25, 110: 22, 111: 22, 112: 25, 113: 30, 115: 45, 116: 23, 117: 29, 118: 28, 119: 30, 120: 28, 121: 42, 122: 39, 123: 29, 124: 42, 125: 43, 126: 42, 127: 40, 128: 27, 129: 23, 130: 30, 131: 37, 132: 20, 133: 36, 134: 27, 135: 27, 136: 22, 137: 28, 138: 23, 139: 45, 140: 39, 141: 29, 142: 33, 143: 39, 145: 34, 146: 26, 147: 30, 148: 38, 149: 29, 150: 24, 151: 28, 152: 34, 153: 42, 154: 29, 155: 23, 156: 31, 158: 25, 160: 45, 161: 42, 162: 27, 163: 24, 164: 20, 166: 24, 167: 28, 168: 20, 169: 33, 170: 34, 171: 37, 172: 45, 173: 35, 174: 23, 175: 44, 176: 27, 177: 30, 178: 26, 179: 27} \n",
    "\n",
    "#Identify the senior most employees age\n",
    "x=sorted(Employee_data.values())\n",
    "print(x[-1])\n",
    "\n",
    "#Identify the age of the employee with employee id 159 [ If the employee isn't present return NA]¶\n",
    "print(Employee_data.get(159,'Error'))\n",
    "\n",
    "#Count the total number of employee in the organization\n",
    "print(len(Employee_data))\n",
    "\n",
    "#Calculate the mean age of the employees\n",
    "mean_age= sum(Employee_data.values())/74\n",
    "print(mean_age)\n",
    "\n",
    "#Perform the following two tasks and then calculate the updated mean age of the employees\n",
    "'''Task1 Update the ages of employee id - 104,140, and 164 as 27\n",
    "Task2 Remove the employ with employee id - 143'''\n",
    "\n",
    "Employee_data[104]=Employee_data[140]=Employee_data[164]=27\n",
    "\n",
    "''' or we can do:\n",
    "d1={104:27,140:27,164:27}\n",
    "Employee_data.update(d1)\n",
    "'''\n",
    "del Employee_data[143]\n",
    "mean_age= sum(Employee_data.values())/len(Employee_data)\n",
    "print(mean_age)\n"
   ]
  },
  {
   "cell_type": "markdown",
   "id": "df259d1f",
   "metadata": {},
   "source": [
    "## <font color= blue>(Week-2) Bootcamp Practice Questions </font>\n",
    "### <font color= blue> Practice Questions MCQ </font>"
   ]
  },
  {
   "cell_type": "code",
   "execution_count": 116,
   "id": "953220f3",
   "metadata": {},
   "outputs": [
    {
     "ename": "TypeError",
     "evalue": "'str' object cannot be interpreted as an integer",
     "output_type": "error",
     "traceback": [
      "\u001b[1;31m---------------------------------------------------------------------------\u001b[0m",
      "\u001b[1;31mTypeError\u001b[0m                                 Traceback (most recent call last)",
      "Input \u001b[1;32mIn [116]\u001b[0m, in \u001b[0;36m<cell line: 5>\u001b[1;34m()\u001b[0m\n\u001b[0;32m      1\u001b[0m \u001b[38;5;66;03m# 34.\u001b[39;00m\n\u001b[0;32m      2\u001b[0m \u001b[38;5;66;03m#What is the output of the following?\u001b[39;00m\n\u001b[0;32m      4\u001b[0m s \u001b[38;5;241m=\u001b[39m \u001b[38;5;124m'\u001b[39m\u001b[38;5;124ma$b@c@d\u001b[39m\u001b[38;5;124m'\u001b[39m\n\u001b[1;32m----> 5\u001b[0m \u001b[38;5;28mprint\u001b[39m(\u001b[43ms\u001b[49m\u001b[38;5;241;43m.\u001b[39;49m\u001b[43msplit\u001b[49m\u001b[43m(\u001b[49m\u001b[38;5;124;43m'\u001b[39;49m\u001b[38;5;124;43m@\u001b[39;49m\u001b[38;5;124;43m'\u001b[39;49m\u001b[43m,\u001b[49m\u001b[38;5;124;43m'\u001b[39;49m\u001b[38;5;124;43m$\u001b[39;49m\u001b[38;5;124;43m'\u001b[39;49m\u001b[43m)\u001b[49m)\n",
      "\u001b[1;31mTypeError\u001b[0m: 'str' object cannot be interpreted as an integer"
     ]
    }
   ],
   "source": [
    "# 34.\n",
    "#What is the output of the following?\n",
    "\n",
    "s = 'a$b@c@d'\n",
    "print(s.split('@','$'))"
   ]
  },
  {
   "cell_type": "code",
   "execution_count": 117,
   "id": "5f3286d2",
   "metadata": {},
   "outputs": [
    {
     "data": {
      "text/plain": [
       "'banana'"
      ]
     },
     "execution_count": 117,
     "metadata": {},
     "output_type": "execute_result"
    }
   ],
   "source": [
    "# 35.\n",
    "#What is the code to print the element ‘banana’?\n",
    "\n",
    "fruits = ['apple', 'mango', ['grapes', 'papaya'], ('banana', 'pomegranate')]\n",
    "fruits[3][0]"
   ]
  },
  {
   "cell_type": "code",
   "execution_count": 118,
   "id": "aeb30cad",
   "metadata": {},
   "outputs": [
    {
     "name": "stdout",
     "output_type": "stream",
     "text": [
      "None\n"
     ]
    }
   ],
   "source": [
    "# 36.\n",
    "# Find the output of the following code.\n",
    "\n",
    "list_1 = ['red' , 'orange', 'blue', 'green', 'black', 'white']\n",
    "print(list_1.sort())"
   ]
  },
  {
   "cell_type": "code",
   "execution_count": 119,
   "id": "f616042e",
   "metadata": {},
   "outputs": [
    {
     "name": "stdout",
     "output_type": "stream",
     "text": [
      "[2, 4, 7, 9]\n",
      "[9, 4, 2, 7]\n",
      "None\n",
      "[1, 3, 6, 8]\n"
     ]
    }
   ],
   "source": [
    "# 36.\n",
    "# What will the output of the following code be?\n",
    "\n",
    "num_1=[9,4,2,7]\n",
    "num_2=[8,3,6,1]\n",
    "print(sorted(num_1))\n",
    "print(num_1)\n",
    "print(num_2.sort())\n",
    "print(num_2)"
   ]
  },
  {
   "cell_type": "code",
   "execution_count": 120,
   "id": "38277c31",
   "metadata": {},
   "outputs": [
    {
     "name": "stdout",
     "output_type": "stream",
     "text": [
      "('paris', 'india', 'china', 'london', 'sri lanka')\n"
     ]
    }
   ],
   "source": [
    "# 37.\n",
    "#Find the output of the following code.\n",
    "\n",
    "l = ['paris','india','china','london']\n",
    "print(tuple(l+['sri lanka']))"
   ]
  },
  {
   "cell_type": "code",
   "execution_count": 121,
   "id": "eee22436",
   "metadata": {},
   "outputs": [
    {
     "name": "stdout",
     "output_type": "stream",
     "text": [
      "<class 'int'>\n"
     ]
    }
   ],
   "source": [
    "# 38.\n",
    "#What is the output of the following code?\n",
    "\n",
    "var=(5)\n",
    "print(type(var))"
   ]
  },
  {
   "cell_type": "code",
   "execution_count": 126,
   "id": "da988d85",
   "metadata": {},
   "outputs": [
    {
     "name": "stdout",
     "output_type": "stream",
     "text": [
      "([1, 3, 7], 'abcd', (2, 4), 6)\n"
     ]
    }
   ],
   "source": [
    "# 39.\n",
    "#What is the output of the code given below?\n",
    "\n",
    "tup=([1,3,5],\"abcd\",(2,4),6)\n",
    "tup[0][2]=7\n",
    "print(tup)"
   ]
  },
  {
   "cell_type": "code",
   "execution_count": 127,
   "id": "e16d8719",
   "metadata": {},
   "outputs": [
    {
     "name": "stdout",
     "output_type": "stream",
     "text": [
      "{1, 2, 4}\n"
     ]
    }
   ],
   "source": [
    "# 40.\n",
    "#What will the output of the following code be?\n",
    "\n",
    "a= {1,2,4,5}\n",
    "b= {5,6,7,8}\n",
    "print(a-b)\n",
    " "
   ]
  },
  {
   "cell_type": "code",
   "execution_count": 128,
   "id": "8c70b3ff",
   "metadata": {},
   "outputs": [
    {
     "ename": "TypeError",
     "evalue": "unsupported operand type(s) for *: 'set' and 'int'",
     "output_type": "error",
     "traceback": [
      "\u001b[1;31m---------------------------------------------------------------------------\u001b[0m",
      "\u001b[1;31mTypeError\u001b[0m                                 Traceback (most recent call last)",
      "Input \u001b[1;32mIn [128]\u001b[0m, in \u001b[0;36m<cell line: 5>\u001b[1;34m()\u001b[0m\n\u001b[0;32m      1\u001b[0m \u001b[38;5;66;03m# 41.\u001b[39;00m\n\u001b[0;32m      2\u001b[0m \u001b[38;5;66;03m#What will the output of the following code be?\u001b[39;00m\n\u001b[0;32m      4\u001b[0m s\u001b[38;5;241m=\u001b[39m {\u001b[38;5;241m3\u001b[39m,\u001b[38;5;241m4\u001b[39m,\u001b[38;5;241m5\u001b[39m}\n\u001b[1;32m----> 5\u001b[0m \u001b[43ms\u001b[49m\u001b[38;5;241;43m*\u001b[39;49m\u001b[38;5;241;43m2\u001b[39;49m\n",
      "\u001b[1;31mTypeError\u001b[0m: unsupported operand type(s) for *: 'set' and 'int'"
     ]
    }
   ],
   "source": [
    "# 41.\n",
    "#What will the output of the following code be?\n",
    "\n",
    "s= {3,4,5}\n",
    "s*2"
   ]
  },
  {
   "cell_type": "code",
   "execution_count": 129,
   "id": "38f84eb6",
   "metadata": {},
   "outputs": [
    {
     "name": "stdout",
     "output_type": "stream",
     "text": [
      "5\n"
     ]
    }
   ],
   "source": [
    "# 42.\n",
    "#What is the output of the following code?\n",
    "\n",
    "numbers= {1,0,6,1,4,0,7}\n",
    "print(len(numbers))"
   ]
  },
  {
   "cell_type": "code",
   "execution_count": 130,
   "id": "1564857b",
   "metadata": {},
   "outputs": [
    {
     "ename": "KeyError",
     "evalue": "1",
     "output_type": "error",
     "traceback": [
      "\u001b[1;31m---------------------------------------------------------------------------\u001b[0m",
      "\u001b[1;31mKeyError\u001b[0m                                  Traceback (most recent call last)",
      "Input \u001b[1;32mIn [130]\u001b[0m, in \u001b[0;36m<cell line: 5>\u001b[1;34m()\u001b[0m\n\u001b[0;32m      1\u001b[0m \u001b[38;5;66;03m# 43.\u001b[39;00m\n\u001b[0;32m      2\u001b[0m \u001b[38;5;66;03m#What will the output of the following Python code be?\u001b[39;00m\n\u001b[0;32m      4\u001b[0m \u001b[38;5;28mdict\u001b[39m\u001b[38;5;241m=\u001b[39m {\u001b[38;5;124m'\u001b[39m\u001b[38;5;124mab\u001b[39m\u001b[38;5;124m'\u001b[39m:\u001b[38;5;241m12\u001b[39m,\u001b[38;5;124m'\u001b[39m\u001b[38;5;124mcd\u001b[39m\u001b[38;5;124m'\u001b[39m:\u001b[38;5;241m34\u001b[39m,\u001b[38;5;124m'\u001b[39m\u001b[38;5;124mef\u001b[39m\u001b[38;5;124m'\u001b[39m:\u001b[38;5;241m56\u001b[39m}\n\u001b[1;32m----> 5\u001b[0m \u001b[38;5;28mprint\u001b[39m(\u001b[38;5;28;43mdict\u001b[39;49m\u001b[43m[\u001b[49m\u001b[38;5;241;43m1\u001b[39;49m\u001b[43m]\u001b[49m)\n",
      "\u001b[1;31mKeyError\u001b[0m: 1"
     ]
    }
   ],
   "source": [
    "# 43.\n",
    "#What will the output of the following Python code be?\n",
    "\n",
    "dict= {'ab':12,'cd':34,'ef':56}\n",
    "print(dict[1])"
   ]
  },
  {
   "cell_type": "code",
   "execution_count": 131,
   "id": "6264641e",
   "metadata": {},
   "outputs": [
    {
     "name": "stdout",
     "output_type": "stream",
     "text": [
      "dict_keys(['John', 'Alex'])\n"
     ]
    }
   ],
   "source": [
    "# 44.\n",
    "#What will the output of the following code be?  \n",
    "\n",
    "marks= {'John':45,'Alex':60}\n",
    "print(marks.keys())"
   ]
  },
  {
   "cell_type": "code",
   "execution_count": 132,
   "id": "c388478e",
   "metadata": {},
   "outputs": [
    {
     "data": {
      "text/plain": [
       "True"
      ]
     },
     "execution_count": 132,
     "metadata": {},
     "output_type": "execute_result"
    }
   ],
   "source": [
    "# 45.\n",
    "#What is the output of the following code?\n",
    "\n",
    "d = {\"Python\":40, \"R\":45}\n",
    "\"Python\" in d"
   ]
  },
  {
   "cell_type": "code",
   "execution_count": 133,
   "id": "0ec3d9b5",
   "metadata": {},
   "outputs": [
    {
     "name": "stdout",
     "output_type": "stream",
     "text": [
      "1\n",
      "2\n",
      "3\n"
     ]
    }
   ],
   "source": [
    "# 46.\n",
    "#What will the output of the following code be?\n",
    "\n",
    "input_dict= {1:\"one\",2:\"two\",3:\"three\"}\n",
    "for i in input_dict:\n",
    "    print(i) "
   ]
  },
  {
   "cell_type": "code",
   "execution_count": 136,
   "id": "d0054eee",
   "metadata": {},
   "outputs": [
    {
     "name": "stdout",
     "output_type": "stream",
     "text": [
      "8\n"
     ]
    }
   ],
   "source": [
    "# 47.\n",
    "#Find the output of the following code snippet.\n",
    "\n",
    "input_str=\"I love programming in python\"\n",
    "count=0\n",
    "l=['a','e','i','o','u']\n",
    "for i in input_str.lower():\n",
    "    if i in l:\n",
    "        count=count+1\n",
    "print(count)"
   ]
  },
  {
   "cell_type": "markdown",
   "id": "67943a0d",
   "metadata": {},
   "source": [
    "### <font color= blue> Practice Questions I </font>"
   ]
  },
  {
   "cell_type": "markdown",
   "id": "0026295e",
   "metadata": {},
   "source": [
    "# 48.\n",
    "List sum\n",
    "\n",
    "Description\n",
    "\n",
    "Suppose you want to know the total score of the Indian cricket team in a given match. To do so, your task is to find the sum of all the scores of the Indian team players. The scores are provided as a list, with each element as an individual score of the players. Also, there is a condition that if the number of elements in the list is more than 11, then it is an invalid input and the output should be -1.\n",
    "\n",
    "--------------------------------------------------------------------------------------------\n",
    "Input - List\n",
    "\n",
    "Output - An integer\n",
    "\n",
    "-------------------------------------------------------------------------------------------\n",
    "Sample Input : [11, 13, 101, 14, 33, 141]\n",
    "\n",
    "Sample Output : 313\n",
    "\n",
    "--------------------------------------------------------------------------------------------\n",
    "Sample Input : [11, 13, 101, 14, 33, 141, 12, 144, 54, 67, 8, 11]\n",
    "\n",
    "Sample Output : -1\n",
    "\n",
    "--------------------------"
   ]
  },
  {
   "cell_type": "code",
   "execution_count": 3,
   "id": "0d111d94",
   "metadata": {},
   "outputs": [
    {
     "name": "stdout",
     "output_type": "stream",
     "text": [
      "[11, 13, 101, 14, 33, 141]\n",
      "313\n"
     ]
    }
   ],
   "source": [
    "# Method 1 \n",
    "\n",
    "# To make the code more generic would like too take input from user and for that importing a module called 'ast' and here to take any type(here the input will a list) of data structure as input literal_eval() method is used.\n",
    "import ast\n",
    "runs = ast.literal_eval(input())\n",
    "\n",
    "# As there is an condition as if the no of elements exceed 11 then sum will (-1). to fulfill the condition, we will use if-else,\n",
    "\n",
    "if len(runs)<=11:\n",
    "    total_score=sum(runs)\n",
    "    print(total_score)\n",
    "else:\n",
    "    total_score=-1\n",
    "    print(total_score)\n",
    "    "
   ]
  },
  {
   "cell_type": "code",
   "execution_count": 5,
   "id": "deb68a59",
   "metadata": {},
   "outputs": [
    {
     "name": "stdout",
     "output_type": "stream",
     "text": [
      "[11, 13, 101, 14, 33, 141, 12, 144, 54, 67, 8, 11]\n",
      "-1\n"
     ]
    }
   ],
   "source": [
    "# Method 2 \n",
    "\n",
    "# To make the code more generic would like too take input from user and for that importing a module called 'ast' and here to take any type(here the input will a list) of data structure as input literal_eval() method is used.\n",
    "import ast\n",
    "runs = ast.literal_eval(input())\n",
    "\n",
    "\n",
    "# here we can create a function to get the same using same ogic.\n",
    "# As there is an condition as if the no of elements exceed 11 then sum will (-1). to fulfill the condition, we will use if-else,\n",
    "\n",
    "def Cal_total_score(runs):\n",
    "    if len(runs)>11:\n",
    "        total_score=-1\n",
    "        return total_score\n",
    "    else:\n",
    "        return (sum(runs))\n",
    "\n",
    "#Printing the result by using created function:\n",
    "print(Cal_total_score(runs))"
   ]
  },
  {
   "cell_type": "code",
   "execution_count": 66,
   "id": "54f00f2e",
   "metadata": {},
   "outputs": [
    {
     "data": {
      "text/plain": [
       "'ast = input()\\nsum = 0\\nb =\"\"\\nfor i in range(0,len(ast)):\\n    if len(ast) < 12:\\n        sum = sum + ast[i]\\n    else:\\n        b = \"Invalid\"\\nif b == \"Invalid\":\\n    print(\"-1\")\\nelse:    \\n    print(sum)'"
      ]
     },
     "execution_count": 66,
     "metadata": {},
     "output_type": "execute_result"
    }
   ],
   "source": [
    "\"\"\"ast = input()\n",
    "sum = 0\n",
    "b =\"\"\n",
    "for i in range(0,len(ast)):\n",
    "    if len(ast) < 12:\n",
    "        sum = sum + ast[i]\n",
    "    else:\n",
    "        b = \"Invalid\"\n",
    "if b == \"Invalid\":\n",
    "    print(\"-1\")\n",
    "else:    \n",
    "    print(sum)\"\"\""
   ]
  },
  {
   "cell_type": "markdown",
   "id": "362d85ec",
   "metadata": {},
   "source": [
    "# 49.\n",
    "\n",
    "Description\n",
    "\n",
    "Given a list of strings, write a program to find the number of strings whose length is greater than or equal to K, where K is a positive integer.\n",
    "\n",
    "Input - List of strings and an integer\n",
    "\n",
    "Output - Integer\n",
    "\n",
    "--------------------------------------------------------------------------------\n",
    "Sample Input :\n",
    "\n",
    "[Mumbai, Hyderabad, Calicut, Chennai]\n",
    "\n",
    "  9\n",
    "\n",
    "Sample Output: 1\n",
    "\n",
    "------------------------------------------------------------------------------\n",
    "Sample Input :\n",
    "\n",
    "[Datascience, Data Analyst, Programmer, Manager]\n",
    "\n",
    "  8\n",
    "  \n",
    "Sample Output : 3\n"
   ]
  },
  {
   "cell_type": "code",
   "execution_count": 12,
   "id": "cba7460c",
   "metadata": {},
   "outputs": [
    {
     "name": "stdout",
     "output_type": "stream",
     "text": [
      "['Datascience', 'Data Analyst', 'Programmer', 'Manager']\n",
      "8\n",
      "3\n"
     ]
    }
   ],
   "source": [
    "# Method 1 \n",
    "\n",
    "# To make the code more generic would like too take input from user and for that importing a module called 'ast' and here to take any type(here the input will a list) of data structure as input literal_eval() method is used.\n",
    "import ast\n",
    "String_list = ast.literal_eval(input())\n",
    "\n",
    "# taking input of K, a positive integer\n",
    "K=int(input())\n",
    "#Initialising a count variable that will track the of element in the list\n",
    "count=0\n",
    "\n",
    "#Looping through the list and check the length of each element. Increase the count of word by 1 if the length is greater than K\n",
    "\n",
    "for word in String_list:\n",
    "    if len(word)>=K:\n",
    "        count=count+1\n",
    "print(count)"
   ]
  },
  {
   "cell_type": "code",
   "execution_count": 2,
   "id": "9c158f74",
   "metadata": {},
   "outputs": [
    {
     "name": "stdout",
     "output_type": "stream",
     "text": [
      "['Datascience', 'Data Analyst', 'Programmer', 'Manager']\n",
      "8\n",
      "3\n"
     ]
    }
   ],
   "source": [
    "import ast\n",
    "input_list=ast.literal_eval(input())\n",
    "k=int(input())\n",
    "list1=[]\n",
    "\n",
    "for ele in input_list:\n",
    "    if len(ele)>=k:\n",
    "        list1.append(ele)\n",
    "print(len(list1))"
   ]
  },
  {
   "cell_type": "markdown",
   "id": "91f9a65a",
   "metadata": {},
   "source": [
    "# 50.\n",
    "Increment list elements\n",
    "\n",
    "Description\n",
    "\n",
    "Given a list of strings, increment the value of the numeric strings by 'k’. \n",
    "\n",
    "Hint: The function isdigit() may be useful here.\n",
    "\n",
    "---------------------------------------------------------------------------------------------\n",
    "Input - A list in the first line and an integer in the second line\n",
    "\n",
    "Output - A list\n",
    "\n",
    "---------------------------------------------------------------------------------------------\n",
    "Sample Input :\n",
    "\n",
    "['Python', '123', 'Data']\n",
    "\n",
    "  4\n",
    "\n",
    "Sample Output : ['Python', '127', 'Data']\n",
    "\n",
    "---------------------------------------------------------------------------------------------\n",
    "Sample Input :\n",
    "\n",
    "['upGrad', '1991', 'Mumbai']\n",
    "\n",
    "  0\n",
    "\n",
    "Sample Output : ['upGrad', '1991', 'Mumbai']\n",
    "\n",
    "---------------------------------------------------------------------------------------------\n",
    "\n",
    "Sample Input :\n",
    "\n",
    "['Data Science', '100', '10']\n",
    "\n",
    "  10\n",
    "\n",
    "Sample Output : ['Data Science', '110', '20']"
   ]
  },
  {
   "cell_type": "code",
   "execution_count": 5,
   "id": "8fb73d5a",
   "metadata": {},
   "outputs": [
    {
     "name": "stdout",
     "output_type": "stream",
     "text": [
      "['kolkata','delhi']\n",
      "5\n",
      "['kolkata', 'delhi']\n"
     ]
    }
   ],
   "source": [
    "# Method 1 \n",
    "\n",
    "# To make the code more generic would like too take input from user and for that importing a module called 'ast' and here to take any type(here the input will a list) of data structure as input literal_eval() method is used.\n",
    "import ast\n",
    "String_list = ast.literal_eval(input())\n",
    "\n",
    "# taking input of K, a positive integer\n",
    "k =int(input())\n",
    "\n",
    "# Created a empty list to store new elemnts of the list from the String_list\n",
    "new_list=[]\n",
    "\n",
    "# Initialing loop through string_list to check weather there is numeric value by isdigit() method , if true it will increase by k and new value will be added to the new list along old string which were not numeric. \n",
    "\n",
    "for i in String_list:\n",
    "    \n",
    "    if i.isdigit():\n",
    "        i=int(i) + k\n",
    "    new_list.append(str(i))\n",
    "                 \n",
    "print(new_list)\n"
   ]
  },
  {
   "cell_type": "code",
   "execution_count": 3,
   "id": "a0565de8",
   "metadata": {},
   "outputs": [
    {
     "name": "stdout",
     "output_type": "stream",
     "text": [
      "['kolkata', 'delhi','500','101']\n",
      "71\n",
      "['kolkata', 'delhi', '571', '172']\n"
     ]
    }
   ],
   "source": [
    "# Method 2\n",
    "# To make the code more generic would like too take input from user and for that importing a module called 'ast' and here to take any type(here the input will a list) of data structure as input literal_eval() method is used.\n",
    "import ast\n",
    "String_list = ast.literal_eval(input())\n",
    "\n",
    "# taking input of K, a positive integer\n",
    "k =int(input())\n",
    "\n",
    "# dinfining a function that take arguments as list and integer ad check if digits are there it will increase by integer\n",
    "def check_digit(lst,k):\n",
    "    for i in range(len(lst)):\n",
    "        if lst[i].isdigit():\n",
    "            #Increamenting on testing on the loop , increament by k in isdigit() is true or else continue the loop\n",
    "            lst[i]=str(int(lst[i]) + k)\n",
    "        else:\n",
    "            continue\n",
    "    return lst\n",
    "\n",
    "# Calling the function\n",
    "new_lst = check_digit(String_list,k)\n",
    "\n",
    "# printing the result\n",
    "print(new_lst)\n",
    "\n"
   ]
  },
  {
   "cell_type": "markdown",
   "id": "cc846384",
   "metadata": {},
   "source": [
    "# 51.\n",
    "\n",
    "Slicing a list\n",
    "\n",
    "Description\n",
    "\n",
    "Given a list of strings and an integer K, write a python code to print all the elements from the K th position till the end of the list.\n",
    "\n",
    "Note: Assume that K (a positive integer) will always be less than or equal to the length of the list\n",
    "\n",
    "Input - A list of strings in the first line and an integer in the second line of the input.\n",
    "\n",
    "Output - A list\n",
    "\n",
    "--------------------------------------------------------------------------------------------------------\n",
    "Sample Input :\n",
    "\n",
    "['Mumbai', 'Delhi', 'Australia', 'Nigeria', 'USA', 'London', 'Canada']\n",
    "\n",
    "2\n",
    "\n",
    "Sample Output : ['Delhi', 'Australia', 'Nigeria', 'USA', 'London', 'Canada']\n",
    "\n",
    "--------------------------------------------------------------------------------------------------------\n",
    "\n",
    "Sample Input :\n",
    "\n",
    "['Chennai', 'Vizag', 'Austria', 'Germany', 'Japan']\n",
    "\n",
    "3\n",
    "\n",
    "Sample Output : ['Austria', 'Germany', 'Japan']"
   ]
  },
  {
   "cell_type": "code",
   "execution_count": 9,
   "id": "bffb21ea",
   "metadata": {},
   "outputs": [
    {
     "name": "stdout",
     "output_type": "stream",
     "text": [
      "['Chennai', 'Vizag', 'Austria', 'Germany', 'Japan']\n",
      "3\n",
      "['Austria', 'Germany', 'Japan']\n"
     ]
    }
   ],
   "source": [
    "# Method 1 \n",
    "\n",
    "# To make the code more generic would like too take input from user and for that importing a module called 'ast' and here to take any type(here the input will a list) of data structure as input literal_eval() method is used.\n",
    "import ast\n",
    "string_list = ast.literal_eval(input())\n",
    "\n",
    "# taking input of K, a positive integer\n",
    "k =int(input())\n",
    "\n",
    "# to print from thr kth position upto end\n",
    "print(string_list[(k-1):])"
   ]
  },
  {
   "cell_type": "markdown",
   "id": "d9ee328b",
   "metadata": {},
   "source": [
    "## <font color= blue> Practice Questions II </font>"
   ]
  },
  {
   "cell_type": "markdown",
   "id": "cc43d9bc",
   "metadata": {},
   "source": [
    "# 52.\n",
    "\n",
    "Substring with maximum uppercase characters\n",
    "\n",
    "Description\n",
    "\n",
    "Given a string, write a Python program to find the largest substring of uppercase characters and print the length of that substring. Check the sample inputs and outputs for a better understanding.\n",
    "\n",
    "---------------------------------------------------------------------------------------------------\n",
    "Input - String\n",
    "\n",
    "Output - String\n",
    "\n",
    "---------------------------------------------------------------------------------------------------\n",
    "Sample Input - I lovE PRogrAMMING\n",
    "\n",
    "Sample Output - 6\n",
    "\n",
    "Explanation - AMMING is the largest substring with all characters in uppercase continuously \n",
    "\n",
    "-----------------------------------------------------------------------------------------------------\n",
    "Sample Input - MuMbaI is in MAHArashTRA\n",
    "\n",
    "Sample Output - 4\n",
    "\n",
    "Explanation - MAHA is the largest substring with all characters in uppercase continuously.\n",
    "\n",
    "---------------------------------------------------------------------------------------------------\n",
    "Sample Input - India WOn the WOrLD CUP\n",
    "\n",
    "Sample Output - 3\n",
    "\n",
    "Explanation - CUP is the largest substring with all characters in uppercase continuously."
   ]
  },
  {
   "cell_type": "code",
   "execution_count": 19,
   "id": "14d5bca4",
   "metadata": {},
   "outputs": [
    {
     "name": "stdout",
     "output_type": "stream",
     "text": [
      "BIdhAn\n",
      "2\n"
     ]
    }
   ],
   "source": [
    "# Method 1 \n",
    "\n",
    "#Taking an input string\n",
    "given_string = input()\n",
    "\n",
    "#When a character in string is in upper case 'count' will count number of continuous upper case character from index \n",
    "count=0\n",
    "\n",
    "#lst will store the each continuous count in a list format\n",
    "lst=[]\n",
    "\n",
    "# looping through the string to check the continuous character in uppercase \n",
    "for i in given_string:\n",
    "    if i.isupper():\n",
    "        count= count+1\n",
    "        # encountering the character in lowercase the count will again be zero and start counting the continuous upper case again\n",
    "        lst.append(count)\n",
    "    else:\n",
    "        count=0\n",
    "print(max(lst))\n",
    "        \n",
    "        "
   ]
  },
  {
   "cell_type": "markdown",
   "id": "cc6aaacc",
   "metadata": {},
   "source": [
    "# 53.\n",
    "Sorting list of tuples\n",
    "\n",
    "Description\n",
    "\n",
    "A class of students attempt an exam in two parts: ‘Aptitude’ and ‘Physics'. The marks of all the students are stored as a list of tuples, and each student’s marks (in Aptitude and Physics) are stored in each tuple. Your task is to write a Python program to sort the list of tuples in decreasing order of the Physics scores of the students.\n",
    "\n",
    "Note - Marks of both the subjects are ranged between 1-100, and no two students have scored the same marks in Physics.\n",
    "\n",
    "---------------------------------------------------------------------------------------------------\n",
    "Input - List of tuples\n",
    "\n",
    "Output - List of tuples\n",
    "\n",
    "---------------------------------------------------------------------------------------------------\n",
    "Sample Input - [(45,77), (88,87), (67,98), (33,31)]\n",
    "\n",
    "In (45,77), which is the first element in the list, 45 and 77 are the scores of a student in aptitude and physics respectively.\n",
    "\n",
    "Sample Output - [ (67,98), (88,87), (45,77),(33,31)]\n",
    "\n",
    "---------------------------------------------------------------------------------------------------\n",
    "Sample Input - [(45,23), (45,88), (45,98), (45,44)]\n",
    "\n",
    "Sample Output - [ (45,98), (45,88), (45,44),(45,23)]"
   ]
  },
  {
   "cell_type": "code",
   "execution_count": 32,
   "id": "000edbbd",
   "metadata": {},
   "outputs": [
    {
     "name": "stdout",
     "output_type": "stream",
     "text": [
      "[(45,77), (88,87), (67,98), (33,31)]\n",
      "[(67, 98), (88, 87), (45, 77), (33, 31)]\n",
      "None\n"
     ]
    }
   ],
   "source": [
    "# Method 1 \n",
    "\n",
    "# To make the code more generic would like too take input from user and for that importing a module called 'ast' and here to take any type(here the input will a list) of data structure as input literal_eval() method is used.\n",
    "import ast\n",
    "string_list = ast.literal_eval(input())\n",
    "\n",
    "# Defining key of the sorted function. it is set to sort by the second item in the tuple\n",
    "def rank(p):\n",
    "    return p[1]\n",
    "\n",
    "#printing the sorted list in decreasing order of key value\n",
    "print(sorted(string_list, key=rank, reverse=True))\n"
   ]
  },
  {
   "cell_type": "code",
   "execution_count": 33,
   "id": "39d01c89",
   "metadata": {},
   "outputs": [
    {
     "name": "stdout",
     "output_type": "stream",
     "text": [
      "[(45,77), (88,87), (67,98), (33,31)]\n",
      "[(67, 98), (88, 87), (45, 77), (33, 31)]\n"
     ]
    }
   ],
   "source": [
    "# Method 2\n",
    "\n",
    "# To make the code more generic would like too take input from user and for that importing a module called 'ast' and here to take any type(here the input will a list) of data structure as input literal_eval() method is used.\n",
    "import ast\n",
    "string_list = ast.literal_eval(input())\n",
    "\n",
    "#defining the fuction to sort in decreasing order by the 2nd item of a list of tuples\n",
    "def sort_tuple_list(list_of_tuples):\n",
    "    return sorted(list_of_tuples, key = rank, reverse = True)\n",
    "\n",
    "# Defining key of the sorted function. it is set to sort by the second item in the tuple\n",
    "def rank(p):\n",
    "    return p[1]\n",
    "\n",
    "#printing the sorted list in decreasing order of key value\n",
    "print(sort_tuple_list(string_list))\n"
   ]
  },
  {
   "cell_type": "markdown",
   "id": "ac316ea3",
   "metadata": {},
   "source": [
    "# 54.\n",
    "Divisibility check\n",
    "\n",
    "Description\n",
    "\n",
    "Given an integer ‘n’, your task is to write a Python code to find whether ‘n’ is divisible by all its digits or not. If they divide the number, then the number ‘n’ is a happy number. Otherwise, it is a sad number.\n",
    "\n",
    "The number ‘n’ may be provided with commas. At first, you have to clean the number (by removing the commas involved) and then check whether the number is happy or sad.\n",
    "\n",
    "---------------------------------------------------------------------------------------------------\n",
    "Input - String\n",
    "\n",
    "Output - String\n",
    "\n",
    "---------------------------------------------------------------------------------------------------\n",
    "Sample Input - 2,128\n",
    "\n",
    "Sample Output - Happy Number\n",
    "\n",
    "---------------------------------------------------------------------------------------------------\n",
    "Sample Input - 256\n",
    "\n",
    "Sample Output - Sad Number\n",
    "\n",
    "---------------------------------------------------------------------------------------------------\n",
    "Sample Input - 1124\n",
    "\n",
    "Sample Output - Happy Number"
   ]
  },
  {
   "cell_type": "code",
   "execution_count": 75,
   "id": "054c18e6",
   "metadata": {},
   "outputs": [
    {
     "name": "stdout",
     "output_type": "stream",
     "text": [
      "256\n",
      "Sad Number\n"
     ]
    }
   ],
   "source": [
    "# Method 1\n",
    "\n",
    "n = input()\n",
    "\n",
    "#If the n is provider with commas , to clean that replace() will going to be used. replacing commas with blank:\n",
    "n = n.replace(',','')\n",
    "\n",
    "#setting the flag as true .for that the section in the loop will run continuously until any kind of event makes it false. then the loop will stop\n",
    "mark = True\n",
    "\n",
    "for i in n:\n",
    "    if int(i)!=0 and int(n)%int(i)==0:\n",
    "        mark=True\n",
    "    else:\n",
    "        mark=False\n",
    "        break\n",
    "        \n",
    "#if the input number haven't faced any kind event that makes the flag false throughout the loop will print \"Happy Number\" and else \"Sad Number\"\n",
    "if mark:\n",
    "    print(\"Happy Number\")\n",
    "else:\n",
    "    print('Sad Number')\n",
    "    \n",
    "    "
   ]
  },
  {
   "cell_type": "markdown",
   "id": "b0c05420",
   "metadata": {},
   "source": [
    "## <font color= blue> Practice Questions III </font>"
   ]
  },
  {
   "cell_type": "markdown",
   "id": "633c0da6",
   "metadata": {},
   "source": [
    "# 55.\n",
    "Updating the dictionary keys\n",
    "\n",
    "Description\n",
    "\n",
    "You are provided with a dictionary containing the names of different football clubs as keys and the name of the main player of the corresponding team as values. When the main player of a team retires, one of their teammates steps up to fill in their role as the main player.\n",
    "\n",
    "You’re also provided with a list which contains the names of the football clubs for which the current main players are retiring and the names of the corresponding new main player. Your task is to update the values in the original dictionary with the names of the new main players.\n",
    "\n",
    "------------------------------------------------------------------------------------------------------\n",
    "Input - The input consists of a dictionary with different football clubs' names and their main player. In the next line, you will be provided with a list of the new players who have taken up the main roles.\n",
    "\n",
    "Output - Dictionary\n",
    "\n",
    "---------------------------------------------------------------------------------------------------\n",
    "Sample Input :\n",
    "\n",
    "{Barcelona:’Messi’ , ‘Real Madrid’: ‘Benzema’, ‘PSG’: ‘Neymar’ }\n",
    "\n",
    "[[‘Barcelona’, ‘Griezmann’], [‘PSG’, ‘Ramos’]]\n",
    "\n",
    "Sample Output: {Barcelona:‘Griezmann’, ‘Real Madrid’: ‘Benzema’, ‘PSG’: ‘Ramos’}\n",
    "\n",
    "---------------------------------------------------------------------------------------------------\n",
    "Sample Input:\n",
    "\n",
    "{Liverpool:’A’, ‘Real Madrid’: ‘B’, ‘Chelsea’: ‘C’ }\n",
    "\n",
    "[[Liverpool, ‘R’]]\n",
    "\n",
    "Sample Output: {Liverpool:’R’, ‘Real Madrid’: ‘B’, ‘Chelsea’: ‘C’ }"
   ]
  },
  {
   "cell_type": "code",
   "execution_count": 14,
   "id": "135a7cb6",
   "metadata": {},
   "outputs": [
    {
     "name": "stdout",
     "output_type": "stream",
     "text": [
      "{'Barcelona':'Messi' , 'Real Madrid': 'Benzema', 'PSG': 'Neymar' }\n",
      "[['Barcelona', 'Griezmann'], ['PSG', 'Ramos']]\n",
      "{'Barcelona': 'Griezmann', 'Real Madrid': 'Benzema', 'PSG': 'Ramos'}\n"
     ]
    }
   ],
   "source": [
    "# Method 1 \n",
    "\n",
    "# taking input from user and for that importing a module called 'ast' and here to take any type(here the input will a dictionary) of data structure as input literal_eval() method is used.\n",
    "import ast\n",
    "#Taking input present club and player as keys and values of the dictionary respectively\n",
    "dict1 = ast.literal_eval(input())\n",
    "\n",
    "#taking input of new star payers list containing team and player respectively \n",
    "list1 = ast.literal_eval(input())\n",
    "\n",
    "# Using Dictionary comprehenion list1 converted to dictionary\n",
    "dict2={x[0]:x[1] for x in list1 }\n",
    "\n",
    "# the value of input dictionary has been updated by using update() method \n",
    "dict1.update(dict2)\n",
    "\n",
    "# printing the the input dictionary after updation :\n",
    "print(dict1)"
   ]
  },
  {
   "cell_type": "code",
   "execution_count": 15,
   "id": "482b240f",
   "metadata": {},
   "outputs": [
    {
     "name": "stdout",
     "output_type": "stream",
     "text": [
      "{'Barcelona':'Messi' , 'Real Madrid': 'Benzema', 'PSG': 'Neymar' }\n",
      "[['Barcelona', 'Griezmann'], ['PSG', 'Ramos']]\n",
      "{'Barcelona': 'Griezmann', 'Real Madrid': 'Benzema', 'PSG': 'Ramos'}\n"
     ]
    }
   ],
   "source": [
    "# Method 2\n",
    "# taking input from user and for that importing a module called 'ast' and here to take any type(here the input will a dictionary) of data structure as input literal_eval() method is used.\n",
    "import ast\n",
    "#Taking input present club and player as keys and values of the dictionary respectively\n",
    "dict1 = ast.literal_eval(input())\n",
    "\n",
    "#taking input of new star payers list containing team and player respectively \n",
    "list1 = ast.literal_eval(input())\n",
    "\n",
    "# Using type conversion using list items,list1 converted to dictionary\n",
    "dict2=dict(list1)\n",
    "# the value of input dictionary has been updated by using update() method \n",
    "dict1.update(dict2)\n",
    "\n",
    "# printing the the input dictionary after updation :\n",
    "print(dict1)"
   ]
  },
  {
   "cell_type": "code",
   "execution_count": 30,
   "id": "782b8ce4",
   "metadata": {},
   "outputs": [
    {
     "name": "stdout",
     "output_type": "stream",
     "text": [
      "{'Barcelona':'Messi' , 'Real Madrid': 'Benzema', 'PSG': 'Neymar' }\n",
      "[['Barcelona', 'Griezmann'], ['PSG', 'Ramos']]\n",
      "{'Barcelona': 'Griezmann', 'Real Madrid': 'Benzema', 'PSG': 'Ramos'}\n"
     ]
    }
   ],
   "source": [
    "# Method 3\n",
    "# taking input from user and for that importing a module called 'ast' and here to take any type(here the input will a dictionary) of data structure as input literal_eval() method is used.\n",
    "import ast\n",
    "#Taking input present club and player as keys and values of the dictionary respectively\n",
    "dict1 = ast.literal_eval(input())\n",
    "\n",
    "#taking input of new star payers list containing team and player respectively \n",
    "list1 = ast.literal_eval(input())\n",
    "\n",
    "# looping through the input dictionary and input list updating the key and value from the list.\n",
    "\n",
    "for x,y in dict1.items():\n",
    "    # dict1.items() return a key,value pair that represents x,y\n",
    "    for item in list1:\n",
    "        if item[0]== x:\n",
    "            dict1[x]=item[1]\n",
    "            # compairing if dictionary key is equal to first item in the nested list , it it is match then the dict value will be the next item of the nested list\n",
    "        else:\n",
    "            pass\n",
    "\n",
    "# printing the updated dictionary\n",
    "print(dict1)\n",
    "            "
   ]
  },
  {
   "cell_type": "code",
   "execution_count": 32,
   "id": "d24130c3",
   "metadata": {},
   "outputs": [
    {
     "name": "stdout",
     "output_type": "stream",
     "text": [
      "{'Barcelona':'Messi' , 'Real Madrid': 'Benzema', 'PSG': 'Neymar' }\n",
      "[['Barcelona', 'Griezmann'], ['PSG', 'Ramos']]\n",
      "{'Barcelona': 'Griezmann', 'Real Madrid': 'Benzema', 'PSG': 'Ramos'}\n"
     ]
    }
   ],
   "source": [
    "# Method 4\n",
    "\n",
    "import ast\n",
    "input_dict = ast.literal_eval(input())\n",
    "input_list = ast.literal_eval(input())\n",
    "\n",
    "def update_dict(d,l):\n",
    "    for i in d.keys():\n",
    "        for j in l:\n",
    "            if j[0] == i:\n",
    "                d[i] = j[1]\n",
    "            else:\n",
    "                pass\n",
    "    return d\n",
    "\n",
    "print(update_dict(input_dict,input_list))"
   ]
  },
  {
   "cell_type": "markdown",
   "id": "92ca89ab",
   "metadata": {},
   "source": [
    "# 56.\n",
    "\n",
    "List average\n",
    "\n",
    "Description\n",
    "\n",
    "Suppose you are working as a Marketing Lead in a company and you want to recruit new employees in your team (which already consists of 10 members) to carry out the company’s major project. You select the employees based on five parameters: A, B, C, D and E. The value of each parameter is represented on a scale of 1 to 10. The present average value of these parameters for your team is given to you in a list (in the same order). You recruit a person only if their scores do not reduce the average score of more than two parameters of your team. If they are recruited, print the output as ‘Selected’. If not, print the output as ‘Rejected’.\n",
    "\n",
    "--------------------------------------------------------------------------------------------------\n",
    "Input - Two lists, where the first list is the average scores of the team in the five parameters, and the second list is the scores of the new employee in all the five parameters. The parameter order is the same for both the lists, which is A, B, C, D and E.\n",
    "\n",
    "Output - String\n",
    "\n",
    "--------------------------------------------------------------------------------------------------\n",
    "Sample Input - [‘8’, ‘4’, ‘6’, ‘9’, ‘7’]\n",
    "\n",
    "  [‘1’, ‘1.1’, ‘1.2’, ‘1.2’, ‘2.3’]\n",
    "\n",
    "Sample Output - Rejected\n",
    "\n",
    "--------------------------------------------------------------------------------------------------\n",
    "Sample Input - [‘10’, ‘5’, ‘6’, ‘9’, ‘7’]\n",
    "\n",
    "  [‘10’, ‘ 9.8’, ‘7.2’, ‘1.66’, ‘4.3’]\n",
    "\n",
    "Sample Output - Selected\n",
    "\n",
    "--------------------------------------------------------------------------------------------------\n",
    "Sample Input - [‘8’, ‘5.66’, ‘6.5’, ‘10’, ‘10’]\n",
    "\n",
    "  [‘7’, ‘ 10’, ‘6’, ‘7’, ‘9’]\n",
    "\n",
    "Sample Output - Rejected"
   ]
  },
  {
   "cell_type": "code",
   "execution_count": 45,
   "id": "ef3af03a",
   "metadata": {},
   "outputs": [
    {
     "name": "stdout",
     "output_type": "stream",
     "text": [
      "['11','10','6','7','9']\n",
      "['8','7','8','7','10']\n",
      "Selected\n"
     ]
    }
   ],
   "source": [
    "# Method 1\n",
    "\n",
    "# taking input from user and for that importing a module called 'ast' and here to take any type(here the input will a dictionary) of data structure as input literal_eval() method is used.\n",
    "import ast\n",
    "#Taking input Represents average scores of team of the recruiter manager in category A,B,C,D,E\n",
    "list1 = ast.literal_eval(input())\n",
    "\n",
    "#taking input of result scored by the employee in category A,B,C,D,E\n",
    "list2 = ast.literal_eval(input())\n",
    "\n",
    "# count variable is created to count the num of time for the condition is true\n",
    "count=0\n",
    "\n",
    "# looping through the \n",
    "for i in range(len(list1)):\n",
    "    if float(list1[i])>=float(list2[i]):\n",
    "        count+=1\n",
    "if count<=2:\n",
    "    print(\"Rejected\")\n",
    "else:\n",
    "    print(\"Selected\")\n"
   ]
  },
  {
   "cell_type": "markdown",
   "id": "f6522f45",
   "metadata": {},
   "source": [
    "# 57.\n",
    "\n",
    "Merge dictionaries\n",
    "\n",
    "Description\n",
    "\n",
    "Write a python code to merge two dictionaries into a single dictionary.\n",
    "\n",
    "--------------------------------------------------------------------------------------------------\n",
    "Input: Two dictionaries, one in each line\n",
    "\n",
    "Output: A Dictionary\n",
    "    \n",
    "--------------------------------------------------------------------------------------------------\n",
    "Sample Input :\n",
    "\n",
    "{'a': 10, 'b': 8}\n",
    "\n",
    "{'d': 6, 'c': 4}\n",
    "\n",
    "Sample Output : {'c': 4, 'a': 10, 'b': 8, 'd': 6}\n",
    "\n",
    "--------------------------------------------------------------------------------------------------\n",
    "Sample Input :\n",
    "\n",
    "{'a': 110, 'b': 88}\n",
    "\n",
    "{'d': 62, 'c': 44}\n",
    "\n",
    "Sample Output : {'a': 110, 'b': 88, 'd': 62, 'c': 44}"
   ]
  },
  {
   "cell_type": "code",
   "execution_count": 48,
   "id": "f3d36aa6",
   "metadata": {
    "scrolled": true
   },
   "outputs": [
    {
     "name": "stdout",
     "output_type": "stream",
     "text": [
      "{'x': 11, 'y': 28}\n",
      "{'p':29,'q': 222}\n",
      "{'x': 11, 'y': 28, 'p': 29, 'q': 222}\n"
     ]
    }
   ],
   "source": [
    "# Method 1\n",
    "# taking input from user and for that importing a module called 'ast' and here to take any type(here the input will a dictionary) of data structure as input literal_eval() method is used.\n",
    "import ast\n",
    "\n",
    "#Taking two user input dictionary\n",
    "dict1 = ast.literal_eval(input())\n",
    "\n",
    "dict2 = ast.literal_eval(input())\n",
    "\n",
    "# using update() method to merge dictionery and printing the merged dictionary\n",
    "dict1.update(dict2)\n",
    "             \n",
    "print(dict1)\n"
   ]
  },
  {
   "cell_type": "code",
   "execution_count": 54,
   "id": "861a7bdb",
   "metadata": {},
   "outputs": [
    {
     "name": "stdout",
     "output_type": "stream",
     "text": [
      "{'x': 11, 'y': 28}\n",
      "{'p':29,'q': 222}\n",
      "{'x': 11, 'y': 28, 'p': 29, 'q': 222}\n"
     ]
    }
   ],
   "source": [
    "# Method 2\n",
    "# taking input from user and for that importing a module called 'ast' and here to take any type(here the input will a dictionary) of data structure as input literal_eval() method is used.\n",
    "import ast\n",
    "\n",
    "#Taking two user input dictionary\n",
    "dict1 = ast.literal_eval(input())\n",
    "\n",
    "dict2 = ast.literal_eval(input())\n",
    "\n",
    "# Creating a user defined function by using updat() method to update input dictionary1.\n",
    "\n",
    "def merge_dict(dict1,dict2):\n",
    "    dict1.update(dict2)\n",
    "    return dict1\n",
    "\n",
    "#Printing result:\n",
    "\n",
    "print(merge_dict(dict1,dict2))"
   ]
  },
  {
   "cell_type": "code",
   "execution_count": 55,
   "id": "9565e818",
   "metadata": {},
   "outputs": [
    {
     "name": "stdout",
     "output_type": "stream",
     "text": [
      "{'x': 11, 'y': 28}\n",
      "{'p':29,'q': 222}\n",
      "{'x': 11, 'y': 28, 'p': 29, 'q': 222}\n"
     ]
    }
   ],
   "source": [
    "# Method 3\n",
    "# taking input from user and for that importing a module called 'ast' and here to take any type(here the input will a dictionary) of data structure as input literal_eval() method is used.\n",
    "import ast\n",
    "\n",
    "#Taking two user input dictionary\n",
    "dict1 = ast.literal_eval(input())\n",
    "\n",
    "dict2 = ast.literal_eval(input())\n",
    "\n",
    "#Merging to dictionary using **method by creating a new dictionary without affecting the input dictionaries\n",
    "dict3={**dict1,**dict2}\n",
    "print(dict3)"
   ]
  },
  {
   "cell_type": "code",
   "execution_count": 49,
   "id": "ec4346f5",
   "metadata": {},
   "outputs": [
    {
     "name": "stdout",
     "output_type": "stream",
     "text": [
      "{'x': 11, 'y': 28}\n",
      "{'p':29,'q': 222}\n",
      "{'x': 11, 'y': 28, 'p': 29, 'q': 222}\n"
     ]
    }
   ],
   "source": [
    "# Method 4\n",
    "# taking input from user and for that importing a module called 'ast' and here to take any type(here the input will a dictionary) of data structure as input literal_eval() method is used.\n",
    "import ast\n",
    "\n",
    "#Taking two user input dictionary\n",
    "dict1 = ast.literal_eval(input())\n",
    "\n",
    "dict2 = ast.literal_eval(input())\n",
    "\n",
    "# Creating a user defining function where **method has been used to create a merged dictionary without affecting any input dict.\n",
    "def merge_dict(dict1,dict2):\n",
    "    dict3={**dict1,**dict2}\n",
    "    return dict3\n",
    "\n",
    "# print the merged dictionary\n",
    "print(merge_dict(dict1,dict2))"
   ]
  },
  {
   "cell_type": "code",
   "execution_count": 56,
   "id": "1c381f45",
   "metadata": {},
   "outputs": [
    {
     "name": "stdout",
     "output_type": "stream",
     "text": [
      "{'x': 11, 'y': 28}\n",
      "{'p':29,'q': 222}\n",
      "{'x': 11, 'y': 28, 'p': 29, 'q': 222}\n"
     ]
    }
   ],
   "source": [
    "# Method 5\n",
    "# taking input from user and for that importing a module called 'ast' and here to take any type(here the input will a dictionary) of data structure as input literal_eval() method is used.\n",
    "import ast\n",
    "\n",
    "#Taking two user input dictionary\n",
    "dict1 = ast.literal_eval(input())\n",
    "\n",
    "dict2 = ast.literal_eval(input())\n",
    "\n",
    "# using '|' operator only applicabale in python 3.9 and above. it creates a new merged dictionary \n",
    "dict3 = dict1 | dict2\n",
    "\n",
    "# printing the dictionary\n",
    "print(dict3)\n",
    "    \n"
   ]
  },
  {
   "cell_type": "code",
   "execution_count": 58,
   "id": "4b311200",
   "metadata": {},
   "outputs": [
    {
     "name": "stdout",
     "output_type": "stream",
     "text": [
      "{'x': 11, 'y': 28}\n",
      "{'p':29,'q': 222}\n",
      "{'x': 11, 'y': 28, 'p': 29, 'q': 222}\n"
     ]
    }
   ],
   "source": [
    "# Method 6\n",
    "# taking input from user and for that importing a module called 'ast' and here to take any type(here the input will a dictionary) of data structure as input literal_eval() method is used.\n",
    "import ast\n",
    "\n",
    "#Taking two user input dictionary\n",
    "dict1 = ast.literal_eval(input())\n",
    "\n",
    "dict2 = ast.literal_eval(input())\n",
    "\n",
    "# Creating a user defining function where '|' operation is used to create a merged dictionary without affecting any input dict.\n",
    "def merge_dict(dict1,dict2):\n",
    "    dict3 = dict1 | dict2\n",
    "    return dict3\n",
    "\n",
    "# print the merged dictionary\n",
    "print(merge_dict(dict1,dict2))"
   ]
  },
  {
   "cell_type": "markdown",
   "id": "6df8eacc",
   "metadata": {},
   "source": [
    "# <font color=BLUE>B. Control Structures and Functions in Python</font>"
   ]
  },
  {
   "cell_type": "markdown",
   "id": "71e1b2bf",
   "metadata": {},
   "source": [
    "### <font color=BLUE>If-else, If-elif-else, for loop, while loop, lambda,map, filter, reduce</font>"
   ]
  },
  {
   "cell_type": "code",
   "execution_count": 61,
   "id": "96180969",
   "metadata": {},
   "outputs": [
    {
     "ename": "IndentationError",
     "evalue": "expected an indented block (3877053997.py, line 7)",
     "output_type": "error",
     "traceback": [
      "\u001b[1;36m  Input \u001b[1;32mIn [61]\u001b[1;36m\u001b[0m\n\u001b[1;33m    print('YES')\u001b[0m\n\u001b[1;37m    ^\u001b[0m\n\u001b[1;31mIndentationError\u001b[0m\u001b[1;31m:\u001b[0m expected an indented block\n"
     ]
    }
   ],
   "source": [
    "# 1.\n",
    "What is the output of the following code?\n",
    "\n",
    "X = 12\n",
    "\n",
    "if (X > 10 & X < 15):\n",
    "print('YES')\n",
    "else:\n",
    "print('No')"
   ]
  },
  {
   "cell_type": "code",
   "execution_count": 63,
   "id": "5496ad6f",
   "metadata": {},
   "outputs": [
    {
     "name": "stdout",
     "output_type": "stream",
     "text": [
      "c\n"
     ]
    }
   ],
   "source": [
    "# 2.\n",
    "#Complete the piece of code to print a maximum of three variables, a, b and c.\n",
    "\n",
    "a=10\n",
    "b=16\n",
    "c=20\n",
    "\n",
    "if(a > b and a > c):\n",
    "    print(\"a\")\n",
    "elif( b > a and b > c):\n",
    "    print(\"b\")\n",
    "else:\n",
    "     print(\"c\")"
   ]
  },
  {
   "cell_type": "code",
   "execution_count": 71,
   "id": "700f51fc",
   "metadata": {},
   "outputs": [
    {
     "name": "stdout",
     "output_type": "stream",
     "text": [
      "C\n",
      "A\n",
      "D\n",
      "B\n"
     ]
    }
   ],
   "source": [
    "# 3.\n",
    "#Which of the following sequences of inputs would give the output 'C' 'A' 'D' 'B' over multiple iterations?\n",
    "\n",
    "#Given the code below, the output obtained in several runs is 'C' 'A' 'D' 'B'.\n",
    "score =70\n",
    "if score >= 90:\n",
    "    print('A')\n",
    "elif score >=80:\n",
    "    print('B')\n",
    "elif score >= 70:\n",
    "    print('C')\n",
    "elif score >= 60:\n",
    "    print('D')\n",
    "else:\n",
    "    print('F')\n",
    "    \n",
    "#_____________\n",
    "\n",
    "score =91\n",
    "if score >= 90:\n",
    "    print('A')\n",
    "elif score >=80:\n",
    "    print('B')\n",
    "elif score >= 70:\n",
    "    print('C')\n",
    "elif score >= 60:\n",
    "    print('D')\n",
    "else:\n",
    "    print('F')\n",
    "\n",
    "#_____________\n",
    "\n",
    "score =67\n",
    "if score >= 90:\n",
    "    print('A')\n",
    "elif score >=80:\n",
    "    print('B')\n",
    "elif score >= 70:\n",
    "    print('C')\n",
    "elif score >= 60:\n",
    "    print('D')\n",
    "else:\n",
    "    print('F')\n",
    "    \n",
    "#_____________\n",
    "\n",
    "score =88\n",
    "if score >= 90:\n",
    "    print('A')\n",
    "elif score >=80:\n",
    "    print('B')\n",
    "elif score >= 70:\n",
    "    print('C')\n",
    "elif score >= 60:\n",
    "    print('D')\n",
    "else:\n",
    "    print('F')"
   ]
  },
  {
   "cell_type": "code",
   "execution_count": 72,
   "id": "b1d2b1c4",
   "metadata": {},
   "outputs": [
    {
     "name": "stdout",
     "output_type": "stream",
     "text": [
      "B\n"
     ]
    }
   ],
   "source": [
    "# 4. What will the following segment of code print? Try doing this verbally.\n",
    "\n",
    "if (10 < 0) and (0 < -10):\n",
    "    print(\"A\")\n",
    "elif (10 > 0) or False:\n",
    "    print(\"B\")\n",
    "else:\n",
    "    print(\"C\")"
   ]
  },
  {
   "cell_type": "code",
   "execution_count": 73,
   "id": "8f4e0b9f",
   "metadata": {},
   "outputs": [
    {
     "name": "stdout",
     "output_type": "stream",
     "text": [
      "B\n"
     ]
    }
   ],
   "source": [
    "# 5. \n",
    "#What will the following segment of code print? Try solving it verbally.\n",
    "\n",
    "if True or True:\n",
    "    if False and True or False:\n",
    "        print('A')\n",
    "    elif False and False or True and True:\n",
    "        print('B')\n",
    "    else:\n",
    "        print('C')\n",
    "else:\n",
    "    print('D')"
   ]
  },
  {
   "cell_type": "markdown",
   "id": "ae119a8a",
   "metadata": {},
   "source": [
    "# 6. \n",
    "\n",
    "if-Else\n",
    "\n",
    "Description\n",
    "\n",
    "Write a code to check if the string in input_str starts with a vowel or not. Print capital YES or NO.\n",
    "\n",
    "For example, if input_str = 'analytics' then, your output should print 'YES'.\n",
    "\n",
    "Sample Input:\n",
    "\n",
    "alpha\n",
    "\n",
    "Sample Output:\n",
    "\n",
    "YES"
   ]
  },
  {
   "cell_type": "code",
   "execution_count": 7,
   "id": "d6e567d2",
   "metadata": {},
   "outputs": [
    {
     "name": "stdout",
     "output_type": "stream",
     "text": [
      "analytics\n",
      "YES\n"
     ]
    }
   ],
   "source": [
    "# Method 1\n",
    "# taking input from the user in lower case to avoid case sensitivity\n",
    "str1 = input().lower()\n",
    "\n",
    "# creating a user defined function to check whether the string starts with vowels\n",
    "def starts_with_vowel(str1):\n",
    "    if str1[0] in 'aeiou':\n",
    "        print('YES')\n",
    "    else:\n",
    "        print(\"NO\")\n",
    "\n",
    "starts_with_vowel(str1)\n"
   ]
  },
  {
   "cell_type": "code",
   "execution_count": 9,
   "id": "620e16cb",
   "metadata": {},
   "outputs": [
    {
     "name": "stdout",
     "output_type": "stream",
     "text": [
      "Bidhan\n",
      "NO\n"
     ]
    }
   ],
   "source": [
    "# Method 2\n",
    "# taking input from the user in lower case to avoid case sensitivity\n",
    "str1 = input().lower()\n",
    "\n",
    "# using if-else to check whether the string starts with vowels \n",
    "\n",
    "if str1[0] in 'aeiou':\n",
    "    print('YES')\n",
    "else:\n",
    "    print(\"NO\")\n",
    "\n",
    "\n"
   ]
  },
  {
   "cell_type": "code",
   "execution_count": 12,
   "id": "8ae8a23f",
   "metadata": {},
   "outputs": [
    {
     "data": {
      "text/plain": [
       "[-2, -6, -15, -4, -8]"
      ]
     },
     "execution_count": 12,
     "metadata": {},
     "output_type": "execute_result"
    }
   ],
   "source": [
    "# 7.\n",
    "#Complete this piece of code for calculating the element-wise difference between two lists and storing them in L3.\n",
    "\n",
    "#[Assume that the lists are of the same length.]\n",
    "\n",
    "L1 = [10, 20, 30, 24, 18]\n",
    "L2 = [8, 14, 15, 20, 10]\n",
    "L3=[]\n",
    "for  i in range(len(L2)):\n",
    "    L3.append(L2[i] -L1[i])\n",
    "L3"
   ]
  },
  {
   "cell_type": "markdown",
   "id": "83c698bb",
   "metadata": {},
   "source": [
    "# 8.\n",
    "\n",
    "Iterations\n",
    "\n",
    "Description\n",
    "\n",
    "You are given a list of string elements and asked to return a list which contains each element of the string in title case or in other words first character of the string would be in upper case and remaining all characters in lower case\n",
    "\n",
    "Sample Input:\n",
    "['VARMA', 'raj', 'Gupta', 'SaNdeeP']\n",
    "\n",
    "Sample Output\n",
    "['Varma', 'Raj', 'Gupta', 'Sandeep']"
   ]
  },
  {
   "cell_type": "code",
   "execution_count": 14,
   "id": "3be0ee40",
   "metadata": {},
   "outputs": [
    {
     "name": "stdout",
     "output_type": "stream",
     "text": [
      "['VARMA', 'raj', 'Gupta', 'SaNdeeP']\n",
      "['Varma', 'Raj', 'Gupta', 'Sandeep']\n"
     ]
    }
   ],
   "source": [
    "# Method 1 using title()\n",
    "#Importing ast module\n",
    "import ast\n",
    "\n",
    "# To take inputs as a list , weusing literal_eval() function\n",
    "input_list = ast.literal_eval(input())\n",
    "\n",
    "# To store the results creating a new list\n",
    "lst1=[]\n",
    "\n",
    "#Initialising the loop through input_list to convert the all the elements to title case using title() and then stored in lst1\n",
    "for i in input_list:\n",
    "    lst1.append(i.title())\n",
    "print(lst1)"
   ]
  },
  {
   "cell_type": "code",
   "execution_count": 16,
   "id": "f24d8458",
   "metadata": {},
   "outputs": [
    {
     "name": "stdout",
     "output_type": "stream",
     "text": [
      "['VARMA', 'raj', 'Gupta', 'SaNdeeP']\n",
      "['Varma', 'Raj', 'Gupta', 'Sandeep']\n"
     ]
    }
   ],
   "source": [
    "# Method 2 using capitalize()\n",
    "#Importing ast module\n",
    "import ast\n",
    "\n",
    "# To take inputs as a list , weusing literal_eval() function\n",
    "input_list = ast.literal_eval(input())\n",
    "\n",
    "# To store the results creating a new list\n",
    "updated_list= []\n",
    "\n",
    "#Initialising the loop through input_list to convert the all the elements to title case using capitalize() and then stored in updated_list\n",
    "for i in input_list:\n",
    "    updated_list.append(i.capitalize())\n",
    "    \n",
    "print(updated_list)\n"
   ]
  },
  {
   "cell_type": "code",
   "execution_count": 19,
   "id": "0d630feb",
   "metadata": {},
   "outputs": [
    {
     "name": "stdout",
     "output_type": "stream",
     "text": [
      "[]\n",
      "[-100, -98, -96, -94, -92, -90, -88, -86, -84, -82, -80, -78, -76, -74, -72, -70, -68, -66, -64, -62, -60, -58, -56, -54, -52, -50, -48, -46, -44, -42, -40, -38, -36, -34, -32, -30, -28, -26, -24, -22, -20, -18, -16, -14, -12, -10, -8, -6, -4, -2]\n",
      "[-100, -98, -96, -94, -92, -90, -88, -86, -84, -82, -80, -78, -76, -74, -72, -70, -68, -66, -64, -62, -60, -58, -56, -54, -52, -50, -48, -46, -44, -42, -40, -38, -36, -34, -32, -30, -28, -26, -24, -22, -20, -18, -16, -14, -12, -10, -8, -6, -4, -2]\n",
      "[-100, -98, -96, -94, -92, -90, -88, -86, -84, -82, -80, -78, -76, -74, -72, -70, -68, -66, -64, -62, -60, -58, -56, -54, -52, -50, -48, -46, -44, -42, -40, -38, -36, -34, -32, -30, -28, -26, -24, -22, -20, -18, -16, -14, -12, -10, -8, -6, -4, -2]\n"
     ]
    }
   ],
   "source": [
    "# 9.\n",
    "#What's with all the Negativity?\n",
    "#Which of the following would create a list of negative even numbers from -100 to 0 (-100 included and 0 not included)? [More than one option may be correct.]\n",
    "\n",
    "print(list(range(0, -101, 2)))\n",
    "print(list(range(-100, -1, 2)))\n",
    "print(sorted(set(range(-2, -101, -2))))\n",
    "l = []\n",
    "for i in range(-100, 0):\n",
    "    if(i % 2 == 0):\n",
    "        l.append(i)\n",
    "print(l)\n"
   ]
  },
  {
   "cell_type": "code",
   "execution_count": 20,
   "id": "24839a81",
   "metadata": {},
   "outputs": [
    {
     "name": "stdout",
     "output_type": "stream",
     "text": [
      "0\n",
      "1\n",
      "2\n"
     ]
    }
   ],
   "source": [
    "# 10.\n",
    "#Using the following document, answer the following questions. What will the output of the following code be?\n",
    " \n",
    "d = {0: 'Fish', 1: 'Bird', 2: 'Mammal'}\n",
    "for i in d:\n",
    "    print(i)"
   ]
  },
  {
   "cell_type": "markdown",
   "id": "ab36cb22",
   "metadata": {},
   "source": [
    "# 11.\n",
    "List Comprehension\n",
    "\n",
    "Description\n",
    "\n",
    "You are given an integer 'n' as the input. Create a list comprehension containing the squares of the integers from 1 till n^2 (including 1 and n), and print the list. \n",
    "\n",
    "For example, if the input is 4, the output should be a list as follows:\n",
    "\n",
    "[1, 4, 9, 16]\n",
    "\n",
    "The input integer 'n' is stored in the variable 'n'. "
   ]
  },
  {
   "cell_type": "code",
   "execution_count": 23,
   "id": "b78693ad",
   "metadata": {},
   "outputs": [
    {
     "name": "stdout",
     "output_type": "stream",
     "text": [
      "5\n",
      "[0, 1, 4, 9, 16, 25]\n"
     ]
    }
   ],
   "source": [
    "#Method 1 By using list comprehension\n",
    "# taking an integer as input\n",
    "n=int(input())\n",
    "\n",
    "result=[x**2 for x in range(0,(n+1))]\n",
    "print(result)"
   ]
  },
  {
   "cell_type": "code",
   "execution_count": 24,
   "id": "a8d94ce4",
   "metadata": {},
   "outputs": [
    {
     "name": "stdout",
     "output_type": "stream",
     "text": [
      "5\n",
      "[0, 1, 4, 9, 16, 25]\n"
     ]
    }
   ],
   "source": [
    "# Method 2 By using loop\n",
    "n=int(input())\n",
    "\n",
    "list2=[]\n",
    "for x in range(n+1):\n",
    "    x=x**2\n",
    "    list2.append(x)\n",
    "print(list2)\n"
   ]
  },
  {
   "cell_type": "markdown",
   "id": "291f27bb",
   "metadata": {},
   "source": [
    "# 12.\n",
    "List Comprehensions\n",
    "\n",
    "Description\n",
    "\n",
    "Extract the words that start with a vowel from a list input_list=[wood, old, apple, big, item, euphoria] using list comprehensions.\n",
    "\n",
    "Sample Input:\n",
    "\n",
    "['wood','old','apple','big','item','euphoria']\n",
    "\n",
    "Sample Output:\n",
    "\n",
    "['old', 'apple', 'item', 'euphoria']"
   ]
  },
  {
   "cell_type": "code",
   "execution_count": 27,
   "id": "091ccb0d",
   "metadata": {},
   "outputs": [
    {
     "name": "stdout",
     "output_type": "stream",
     "text": [
      "['Apple','mango','English']\n",
      "['Apple', 'English']\n"
     ]
    }
   ],
   "source": [
    "# Method 1 by list comprehension\n",
    "import ast\n",
    "input_list = ast.literal_eval(input())\n",
    "\n",
    "output=[word for word in input_list if word[0].lower() in 'aeiou']\n",
    "\n",
    "print(output)"
   ]
  },
  {
   "cell_type": "code",
   "execution_count": 26,
   "id": "b4fb36a6",
   "metadata": {},
   "outputs": [
    {
     "name": "stdout",
     "output_type": "stream",
     "text": [
      "['wood','old','apple','big','item','euphoria']\n",
      "['old', 'apple', 'item', 'euphoria']\n"
     ]
    }
   ],
   "source": [
    "# Method 2 by using loop\n",
    "\n",
    "import ast \n",
    "input_list= ast.literal_eval(input())\n",
    "new_list = []\n",
    "for word in input_list:\n",
    "    if word[0] in 'aeiouAEIOU':\n",
    "        new_list.append(word)\n",
    "        \n",
    "print(new_list)"
   ]
  },
  {
   "cell_type": "code",
   "execution_count": 38,
   "id": "509bedbb",
   "metadata": {},
   "outputs": [
    {
     "name": "stdout",
     "output_type": "stream",
     "text": [
      "1.  {3: 27, 6: 216, 9: 729, 12: 1728, 15: 3375, 18: 5832, 21: 9261, 24: 13824, 27: 19683, 30: 27000, 33: 35937, 36: 46656, 39: 59319, 42: 74088, 45: 91125, 48: 110592, 51: 132651, 54: 157464, 57: 185193, 60: 216000, 63: 250047, 66: 287496, 69: 328509, 72: 373248, 75: 421875, 78: 474552, 81: 531441, 84: 592704, 87: 658503, 90: 729000, 93: 804357, 96: 884736, 99: 970299}\n",
      "anwer(2-5) which will match with 1 is the correct ans\n"
     ]
    }
   ],
   "source": [
    "# 13.\n",
    "#Following is the code to create a dictionary where the keys are multiples of 3 among the first 100 natural numbers and each value is the cube of the key.\n",
    "\n",
    "input_list = list(range(1,100))\n",
    "output_dict = {}\n",
    "\n",
    "for val in input_list:\n",
    "    if val % 3 == 0:\n",
    "        output_dict[val] = val**3\n",
    "print('1. ',output_dict)\n",
    "#Now, what would be corresponding dictionary comprehension for the code involved in dictionary creation? \n",
    "print('anwer(2-5) which will match with 1 is the correct ans')"
   ]
  },
  {
   "cell_type": "code",
   "execution_count": 34,
   "id": "208ff974",
   "metadata": {},
   "outputs": [
    {
     "ename": "SyntaxError",
     "evalue": "invalid syntax (1565504096.py, line 1)",
     "output_type": "error",
     "traceback": [
      "\u001b[1;36m  Input \u001b[1;32mIn [34]\u001b[1;36m\u001b[0m\n\u001b[1;33m    print('2. ',([val:val**3 for val in input_list if val%3=0]))\u001b[0m\n\u001b[1;37m                     ^\u001b[0m\n\u001b[1;31mSyntaxError\u001b[0m\u001b[1;31m:\u001b[0m invalid syntax\n"
     ]
    }
   ],
   "source": [
    "print('2. ',([val:val**3 for val in input_list if val%3=0]))"
   ]
  },
  {
   "cell_type": "code",
   "execution_count": 35,
   "id": "fb031e78",
   "metadata": {},
   "outputs": [
    {
     "ename": "SyntaxError",
     "evalue": "invalid syntax (3949294981.py, line 1)",
     "output_type": "error",
     "traceback": [
      "\u001b[1;36m  Input \u001b[1;32mIn [35]\u001b[1;36m\u001b[0m\n\u001b[1;33m    print('3. ',({for val in input_list if val%3==0 val:val**3 }))\u001b[0m\n\u001b[1;37m                  ^\u001b[0m\n\u001b[1;31mSyntaxError\u001b[0m\u001b[1;31m:\u001b[0m invalid syntax\n"
     ]
    }
   ],
   "source": [
    "print('3. ',({for val in input_list if val%3==0 val:val**3 }))"
   ]
  },
  {
   "cell_type": "code",
   "execution_count": 36,
   "id": "fa53972e",
   "metadata": {},
   "outputs": [
    {
     "ename": "SyntaxError",
     "evalue": "invalid syntax (2399673509.py, line 1)",
     "output_type": "error",
     "traceback": [
      "\u001b[1;36m  Input \u001b[1;32mIn [36]\u001b[1;36m\u001b[0m\n\u001b[1;33m    print('4. ',({if val%3==0 val:val**3 for val in input_list}))\u001b[0m\n\u001b[1;37m                  ^\u001b[0m\n\u001b[1;31mSyntaxError\u001b[0m\u001b[1;31m:\u001b[0m invalid syntax\n"
     ]
    }
   ],
   "source": [
    "print('4. ',({if val%3==0 val:val**3 for val in input_list}))"
   ]
  },
  {
   "cell_type": "code",
   "execution_count": 37,
   "id": "e8748d89",
   "metadata": {},
   "outputs": [
    {
     "name": "stdout",
     "output_type": "stream",
     "text": [
      "5.  {3: 27, 6: 216, 9: 729, 12: 1728, 15: 3375, 18: 5832, 21: 9261, 24: 13824, 27: 19683, 30: 27000, 33: 35937, 36: 46656, 39: 59319, 42: 74088, 45: 91125, 48: 110592, 51: 132651, 54: 157464, 57: 185193, 60: 216000, 63: 250047, 66: 287496, 69: 328509, 72: 373248, 75: 421875, 78: 474552, 81: 531441, 84: 592704, 87: 658503, 90: 729000, 93: 804357, 96: 884736, 99: 970299}\n"
     ]
    }
   ],
   "source": [
    "print('5. ',({val : val**3 for val in input_list if val % 3 == 0}))"
   ]
  },
  {
   "cell_type": "code",
   "execution_count": 40,
   "id": "dfdc013e",
   "metadata": {},
   "outputs": [
    {
     "name": "stdout",
     "output_type": "stream",
     "text": [
      "['ad', 'ae', 'af', 'bd', 'be', 'bf', 'cd', 'ce', 'cf']\n"
     ]
    }
   ],
   "source": [
    "#14.\n",
    "#What will the output of the following code be?\n",
    "\n",
    "print([i+j for i in \"abc\" for j in \"def\"])"
   ]
  },
  {
   "cell_type": "code",
   "execution_count": 41,
   "id": "65e5edfd",
   "metadata": {},
   "outputs": [
    {
     "name": "stdout",
     "output_type": "stream",
     "text": [
      "{'A': 'aaa', 'C': 'ccc', 'B': 'bbb', 'D': 'ddd'}\n"
     ]
    }
   ],
   "source": [
    "# 15.\n",
    "#What will the output of the following code be?\n",
    "\n",
    "d = {x.upper(): x*3 for x in 'acbd'}\n",
    "print(d)"
   ]
  },
  {
   "cell_type": "markdown",
   "id": "ea7c2e13",
   "metadata": {},
   "source": [
    "# 16.\n",
    "Function\n",
    "\n",
    "Description\n",
    "\n",
    "Create a function squared(), which takes x and y as arguments and returns the x**y value. For e.g., if x = 2 and y = 3 , then the output is 8.\n",
    "\n",
    "Sample Input:\n",
    "\n",
    "['6','7']\n",
    "\n",
    "Sample Output:\n",
    "\n",
    "279936"
   ]
  },
  {
   "cell_type": "code",
   "execution_count": 44,
   "id": "728dfc2a",
   "metadata": {},
   "outputs": [
    {
     "name": "stdout",
     "output_type": "stream",
     "text": [
      "4\n",
      "4\n",
      "256\n"
     ]
    }
   ],
   "source": [
    "# Method 1\n",
    "import ast\n",
    "\n",
    "arg1= int(input())\n",
    "arg2= int(input())\n",
    "\n",
    "def squared(arg1,arg2):\n",
    "    result= arg1**arg2\n",
    "    return result\n",
    "\n",
    "print(squared(arg1,arg2))"
   ]
  },
  {
   "cell_type": "code",
   "execution_count": 46,
   "id": "0451bee0",
   "metadata": {},
   "outputs": [
    {
     "name": "stdout",
     "output_type": "stream",
     "text": [
      "\n",
      "ans:\n",
      "a. Keyword missing in the function definition\n",
      "b. Return the statement missing in the code\n",
      "c. Error in function call\n",
      "\n"
     ]
    }
   ],
   "source": [
    "# 17. \n",
    "#Identify the error/errors in the given code to apply the function (x∗ y+x+y) on x,y and finally return the value.\n",
    "\n",
    "'''\n",
    "func(x, y):\n",
    "    z = x * y + x + y\n",
    "\n",
    "func(2)\n",
    "'''\n",
    "\n",
    "print('''\n",
    "ans:\n",
    "a. Keyword missing in the function definition\n",
    "b. Return the statement missing in the code\n",
    "c. Error in function call\n",
    "''')"
   ]
  },
  {
   "cell_type": "code",
   "execution_count": 47,
   "id": "5f97111d",
   "metadata": {},
   "outputs": [
    {
     "data": {
      "text/plain": [
       "23"
      ]
     },
     "execution_count": 47,
     "metadata": {},
     "output_type": "execute_result"
    }
   ],
   "source": [
    "# 18.\n",
    "#What would be the output of the following code?\n",
    "\n",
    "def func(x, y = 1):\n",
    "    z = x * y + x + y\n",
    "    return z\n",
    "\n",
    "func(2, func(3))"
   ]
  },
  {
   "cell_type": "code",
   "execution_count": 48,
   "id": "4da2234a",
   "metadata": {},
   "outputs": [
    {
     "ename": "TypeError",
     "evalue": "func() missing 1 required positional argument: 'y'",
     "output_type": "error",
     "traceback": [
      "\u001b[1;31m---------------------------------------------------------------------------\u001b[0m",
      "\u001b[1;31mTypeError\u001b[0m                                 Traceback (most recent call last)",
      "Input \u001b[1;32mIn [48]\u001b[0m, in \u001b[0;36m<cell line: 8>\u001b[1;34m()\u001b[0m\n\u001b[0;32m      5\u001b[0m     z \u001b[38;5;241m=\u001b[39m x \u001b[38;5;241m*\u001b[39m y \u001b[38;5;241m+\u001b[39m x \u001b[38;5;241m+\u001b[39m y\n\u001b[0;32m      6\u001b[0m     \u001b[38;5;28;01mreturn\u001b[39;00m z\n\u001b[1;32m----> 8\u001b[0m func(\u001b[38;5;241m2\u001b[39m, \u001b[43mfunc\u001b[49m\u001b[43m(\u001b[49m\u001b[38;5;241;43m3\u001b[39;49m\u001b[43m)\u001b[49m)\n",
      "\u001b[1;31mTypeError\u001b[0m: func() missing 1 required positional argument: 'y'"
     ]
    }
   ],
   "source": [
    "# 19.\n",
    "#What would be the output of the following code?\n",
    "\n",
    "def func(x, y):\n",
    "    z = x * y + x + y\n",
    "    return z\n",
    "\n",
    "func(2, func(3))"
   ]
  },
  {
   "cell_type": "code",
   "execution_count": 49,
   "id": "346075da",
   "metadata": {},
   "outputs": [
    {
     "data": {
      "text/plain": [
       "35"
      ]
     },
     "execution_count": 49,
     "metadata": {},
     "output_type": "execute_result"
    }
   ],
   "source": [
    "# 20.\n",
    "#What is the output of the following code?\n",
    "\n",
    "def func(x = 1 ,y = 2):\n",
    "    z = x * y + x + y\n",
    "    return z\n",
    "\n",
    "func(2, func(3))"
   ]
  },
  {
   "cell_type": "code",
   "execution_count": 50,
   "id": "481cafc9",
   "metadata": {},
   "outputs": [
    {
     "data": {
      "text/plain": [
       "[-2, 33, 46, 78, 1]"
      ]
     },
     "execution_count": 50,
     "metadata": {},
     "output_type": "execute_result"
    }
   ],
   "source": [
    "# 21.\n",
    "#Functions can be used inside a list comprehension too. An example to create a list, the elements of which would be the result of applying the function x2−2x−2on each element in the list = [2, 7, 8, 10, 3] is shown below:\n",
    "\n",
    "L1 = [2, 7, 8, 10, 3]\n",
    "\n",
    "def func(y):\n",
    "    return y**2 - 2 * y - 2\n",
    "\n",
    "ans_list = [func(x) for  x in L1]\n",
    "ans_list"
   ]
  },
  {
   "cell_type": "markdown",
   "id": "23e49dcf",
   "metadata": {},
   "source": [
    "# 22.\n",
    "\n",
    "Lambda\n",
    "\n",
    "Description\n",
    "\n",
    "Create a lambda function 'greater', which takes two arguments x and y and return x if x>y otherwise y.\n",
    "\n",
    "If x = 2 and y= 3, then the output should be 3.\n",
    "\n",
    "Sample Input:\n",
    "\n",
    "['9','3']\n",
    "\n",
    "Sample Output:\n",
    "\n",
    "9"
   ]
  },
  {
   "cell_type": "code",
   "execution_count": 59,
   "id": "fce7f842",
   "metadata": {},
   "outputs": [
    {
     "name": "stdout",
     "output_type": "stream",
     "text": [
      "51\n",
      "101\n",
      "101\n"
     ]
    }
   ],
   "source": [
    "# Method 1 by Lambda function\n",
    "import ast\n",
    "\n",
    "arg1 = int(input())\n",
    "arg2 = int(input())\n",
    "\n",
    "greater = lambda arg1,arg2: arg1 if arg1>arg2 else arg2\n",
    "\n",
    "print(greater(arg1,arg2))"
   ]
  },
  {
   "cell_type": "code",
   "execution_count": 60,
   "id": "83a3ee06",
   "metadata": {},
   "outputs": [
    {
     "name": "stdout",
     "output_type": "stream",
     "text": [
      "5\n",
      "6\n",
      "6\n"
     ]
    }
   ],
   "source": [
    "# Method 2 by if-else\n",
    "\n",
    "import ast\n",
    "\n",
    "x = int(input())\n",
    "y = int(input())\n",
    "\n",
    "if x>y:\n",
    "    print(x)\n",
    "else:\n",
    "    print(y)"
   ]
  },
  {
   "cell_type": "code",
   "execution_count": 61,
   "id": "5e879dd9",
   "metadata": {},
   "outputs": [
    {
     "data": {
      "text/plain": [
       "9996"
      ]
     },
     "execution_count": 61,
     "metadata": {},
     "output_type": "execute_result"
    }
   ],
   "source": [
    "# 23.\n",
    "#What is the output of this program?\n",
    "\n",
    "min = (lambda x, y: x if x < y else y)\n",
    "min(101*99, 102*98)"
   ]
  },
  {
   "cell_type": "code",
   "execution_count": 68,
   "id": "b203786f",
   "metadata": {},
   "outputs": [
    {
     "name": "stdout",
     "output_type": "stream",
     "text": [
      "wgite\n",
      "the word wgite doesn't belongs to red team\n"
     ]
    }
   ],
   "source": [
    "# 24.\n",
    "#A word is said to belong to the red team if it has the letter r in it. Write an 'if' statement to check whether the given word belongs to the red team or not.\n",
    "\n",
    "# write code here\n",
    "str1= input()\n",
    "\n",
    "if 'r' in str1:\n",
    "    print(f'the word {str1} belongs to red team')\n",
    "else:\n",
    "    print(f'the word {str1} doesn\\'t belongs to red team')  "
   ]
  },
  {
   "cell_type": "markdown",
   "id": "8fed51ae",
   "metadata": {},
   "source": [
    "# 25.\n",
    "In continuation to previous example, if the word has the letter 'b', it belongs to the blue team. And if the word has both 'r' and 'b' then first letter gets a precedence. And if the word does not have the letter 'r' or 'b', it does not belong to any team. ######Example: (word,output)\n",
    "\n",
    "rabbit = red team\n",
    "\n",
    "brand = blue team\n",
    "\n",
    "dog = no team\n",
    "\n",
    "Write a condition for this decision."
   ]
  },
  {
   "cell_type": "code",
   "execution_count": 83,
   "id": "4ccd7f28",
   "metadata": {},
   "outputs": [
    {
     "name": "stdout",
     "output_type": "stream",
     "text": [
      "Enter a word in small caps blue\n",
      "The word belongs to blue team\n"
     ]
    }
   ],
   "source": [
    "word = input(\"Enter a word in small caps \")\n",
    "is_red = 0\n",
    "is_blue = 0\n",
    "for char in word:\n",
    "    if char == \"r\":\n",
    "        print (\"The word belongs to red team\")\n",
    "        is_red = 1\n",
    "        break\n",
    "    elif char == \"b\": \n",
    "        print (\"The word belongs to blue team\")\n",
    "        is_blue = 1\n",
    "        break\n",
    "        \n",
    "if is_red == 0 and is_blue == 0:\n",
    "    print (\"The word does not belong to any team\")"
   ]
  },
  {
   "cell_type": "code",
   "execution_count": 86,
   "id": "fe182efe",
   "metadata": {},
   "outputs": [
    {
     "name": "stdout",
     "output_type": "stream",
     "text": [
      "Enter the upper limit:100\n",
      "17\n",
      "34\n",
      "51\n",
      "68\n",
      "85\n"
     ]
    }
   ],
   "source": [
    "# 26.\n",
    "#Question\n",
    "#Write a program to print all the numbers which are divisible by 17 between 1 and a given number 'n'.\n",
    "#Enter the upper limit 100\n",
    "\n",
    "n = int(input('Enter the upper limit:'))\n",
    "for i in range(1,n):\n",
    "    if i%17==0:\n",
    "        print(i)"
   ]
  },
  {
   "cell_type": "code",
   "execution_count": 101,
   "id": "6e02ac58",
   "metadata": {},
   "outputs": [
    {
     "name": "stdout",
     "output_type": "stream",
     "text": [
      "[14, 18, 40]\n"
     ]
    }
   ],
   "source": [
    "# 27.\n",
    "#Write a program to add 13 to all the elements of a given numeric list. ######Example -\n",
    "\n",
    "#Input list = [1,5,27]\n",
    "#Output list = [14,18,40]\n",
    "\n",
    "import ast\n",
    "list1= [1,5,27]\n",
    "\n",
    "list2=[]\n",
    "\n",
    "for i in list1:\n",
    "    list2.append(i+13)\n",
    "        \n",
    "print(list2)"
   ]
  },
  {
   "cell_type": "code",
   "execution_count": 103,
   "id": "90f9c99c",
   "metadata": {},
   "outputs": [
    {
     "name": "stdout",
     "output_type": "stream",
     "text": [
      "[14, 18, 40]\n"
     ]
    }
   ],
   "source": [
    "# 28.\n",
    "#In continuation to the example above, execute the same operation on the same sample list using list comprihension.\n",
    "\n",
    "list2 = [x+13 for x in list1]\n",
    "print(list2)"
   ]
  },
  {
   "cell_type": "markdown",
   "id": "80df29e1",
   "metadata": {},
   "source": [
    "# 29.\n",
    "Question\n",
    "This question has two tasks:\n",
    "\n",
    "Task 1 - Find the factors of all the numbers in a given list.\n",
    "Task 2 - Add the numbers and their factors to a dictionary where the key will be the numbers from the list, and the values will be the factors of the respective number.\n",
    "Example -\n",
    "\n",
    "Sample output :\n",
    "#####{6: [1, 2, 3, 6], 98: [1, 2, 7, 14, 49, 98],\n",
    "\n",
    "34: [1, 2, 17, 34],}"
   ]
  },
  {
   "cell_type": "code",
   "execution_count": 113,
   "id": "bd5f5f37",
   "metadata": {},
   "outputs": [
    {
     "name": "stdout",
     "output_type": "stream",
     "text": [
      "{6: [1, 2, 3, 6], 98: [1, 2, 7, 14, 49, 98], 34: [1, 2, 17, 34], 45: [1, 3, 5, 9, 15, 45], 64: [1, 2, 4, 8, 16, 32, 64], 7: [1, 7], 2: [1, 2], 5: [1, 5], 78: [1, 2, 3, 6, 13, 26, 39, 78], 90: [1, 2, 3, 5, 6, 9, 10, 15, 18, 30, 45, 90], 324: [1, 2, 3, 4, 6, 9, 12, 18, 27, 36, 54, 81, 108, 162, 324], 111: [1, 3, 37, 111], 657: [1, 3, 9, 73, 219, 657], 438: [1, 2, 3, 6, 73, 146, 219, 438]}\n"
     ]
    }
   ],
   "source": [
    "list1 = [6, 98, 34, 45, 64, 7, 2, 5, 78, 90, 324, 111, 657, 438]\n",
    "\n",
    "dict1={}\n",
    "for i in list1:\n",
    "    fact =[]\n",
    "    for a in range(1,(i+1)):\n",
    "        if i%a==0:\n",
    "            fact.append(a)\n",
    "    dict1[a] = fact\n",
    "print(dict1)"
   ]
  },
  {
   "cell_type": "markdown",
   "id": "2b09719b",
   "metadata": {},
   "source": [
    "# 30.\n",
    "Count the total number of unique characters in a given sentence. #####Example -\n",
    "\n",
    "Input - 'total'\n",
    "\n",
    "Output - 'o', 'a', 'l'"
   ]
  },
  {
   "cell_type": "code",
   "execution_count": 119,
   "id": "cb11d9f7",
   "metadata": {},
   "outputs": [
    {
     "name": "stdout",
     "output_type": "stream",
     "text": [
      "i am bidhan chandra roy\n",
      "{'y', 'm', 'o', 'c', 'r', ' ', 'b', 'a', 'n', 'i', 'h', 'd'}\n",
      "12\n"
     ]
    }
   ],
   "source": [
    "x=input()\n",
    "unique=set(x)\n",
    "print(unique)\n",
    "print(len(unique))"
   ]
  },
  {
   "cell_type": "markdown",
   "id": "b598a678",
   "metadata": {},
   "source": [
    "# 31.\n",
    "Write a calculator application using functions, which will ask for the users input such as - arithmetic operation, number1, number 2, and return the output post applying the arithmetic operator\n",
    "\n",
    "#####Example -\n",
    "\n",
    "def calc(operation, x,y):\n",
    "    if operation == \"add\":\n",
    "        return x+y"
   ]
  },
  {
   "cell_type": "code",
   "execution_count": 3,
   "id": "2912450b",
   "metadata": {},
   "outputs": [
    {
     "name": "stdout",
     "output_type": "stream",
     "text": [
      "Enter the operation you want to execute\n",
      "The available operations are 'add', 'subs', 'multi', 'div' subs\n",
      "Enter the first number :25\n",
      "Enter the second number :11\n",
      "Answer is  14\n"
     ]
    }
   ],
   "source": [
    "def calc(operation, x,y):\n",
    "    if operation == \"add\":\n",
    "        return x+y\n",
    "    if operation == \"subs\":\n",
    "        return x-y\n",
    "    if operation == \"multi\":\n",
    "        return x*y\n",
    "    if operation == \"div\":\n",
    "        return x/y\n",
    "    else:\n",
    "        print(\"Enter a valid operation\")\n",
    "        return None\n",
    "    \n",
    "print (\"Enter the operation you want to execute\")\n",
    "oper = input(\"The available operations are 'add', 'subs', 'multi', 'div' \" )\n",
    "x = int (input (\"Enter the first number :\"))\n",
    "y = int (input (\"Enter the second number :\"))\n",
    "\n",
    "print(\"Answer is \", calc(oper, x, y))"
   ]
  },
  {
   "cell_type": "code",
   "execution_count": 11,
   "id": "9b6fb346",
   "metadata": {},
   "outputs": [
    {
     "name": "stdout",
     "output_type": "stream",
     "text": [
      "4\n",
      "6\n",
      "3\n",
      "6\n"
     ]
    }
   ],
   "source": [
    "# 32.\n",
    "#Question\n",
    "#Write a code to ask the user to input three numbers and then print the largest one among the three.\n",
    "\n",
    "a=int(input())\n",
    "b=int(input())\n",
    "c=int(input())\n",
    "\n",
    "if a>b and a>c:\n",
    "    print(a)\n",
    "elif b>a and b>c:\n",
    "    print(b)\n",
    "else:\n",
    "    print(c)"
   ]
  },
  {
   "cell_type": "markdown",
   "id": "4ae4d05b",
   "metadata": {},
   "source": [
    "# 33.\n",
    "Check whether a number is perfect or not.\n",
    "\n",
    "A perfect number is a number that is sum of all of its positive divisors (excluding itself). For more info refer to this link - https://www.geeksforgeeks.org/perfect-number/"
   ]
  },
  {
   "cell_type": "code",
   "execution_count": 13,
   "id": "3cc477fc",
   "metadata": {},
   "outputs": [
    {
     "name": "stdout",
     "output_type": "stream",
     "text": [
      "28\n",
      "not a perfect number\n"
     ]
    }
   ],
   "source": [
    "n = int(input())\n",
    "\n",
    "sum=0\n",
    "for i in range(0,n):\n",
    "    if n%2 == 0:\n",
    "        sum=sum+i\n",
    "        \n",
    "if sum==n:\n",
    "    print('perfect number')\n",
    "else:\n",
    "    print('not a perfect number')"
   ]
  },
  {
   "cell_type": "code",
   "execution_count": 21,
   "id": "33e19eb3",
   "metadata": {},
   "outputs": [
    {
     "name": "stdout",
     "output_type": "stream",
     "text": [
      "[15, 20, 17, 18]\n"
     ]
    }
   ],
   "source": [
    "# 34.\n",
    "# Add the elements in the two given lists using map and lambda functions.\n",
    "list1 = [5, 8, 9, 12]\n",
    "list2 = [10, 12, 8, 6]\n",
    "list3=list(map(lambda x,y: x+y,list1,list2))\n",
    "print(list3)"
   ]
  },
  {
   "cell_type": "code",
   "execution_count": 22,
   "id": "2dffac35",
   "metadata": {},
   "outputs": [
    {
     "name": "stdout",
     "output_type": "stream",
     "text": [
      "5\n",
      "120\n"
     ]
    }
   ],
   "source": [
    "# 35.\n",
    "#Write a code to find the factorial of a number using reduce function. #####Example - 5!= 5 * 4 * 3 * 2 * 1=120.\n",
    "n = int(input())\n",
    "n_list= range(1,n+1)\n",
    "from functools import reduce\n",
    "factorial = reduce(lambda x,y:x*y,n_list)\n",
    "print(factorial)"
   ]
  },
  {
   "cell_type": "markdown",
   "id": "7551ce20",
   "metadata": {},
   "source": [
    "# 36.\n",
    "Map Function\n",
    "\n",
    "Description\n",
    "\n",
    "Using the function Map, count the number of words that start with ‘S’ in input_list.\n",
    "\n",
    "Sample Input:\n",
    "\n",
    "['Santa Cruz','Santa fe','Mumbai','Delhi']\n"
   ]
  },
  {
   "cell_type": "code",
   "execution_count": 28,
   "id": "54149c48",
   "metadata": {},
   "outputs": [
    {
     "name": "stdout",
     "output_type": "stream",
     "text": [
      "['Santa Cruz','Santa fe','Mumbai','Delhi']\n",
      "2\n"
     ]
    }
   ],
   "source": [
    "# Method 1 by using map and lambda function\n",
    "\n",
    "import ast\n",
    "\n",
    "input_list = ast.literal_eval(input())\n",
    "\n",
    "check = list(map(lambda x: x[0] in 'S',input_list))\n",
    "\n",
    "output = check.count(True)\n",
    "\n",
    "print(output)"
   ]
  },
  {
   "cell_type": "code",
   "execution_count": 30,
   "id": "774a48e0",
   "metadata": {},
   "outputs": [
    {
     "name": "stdout",
     "output_type": "stream",
     "text": [
      "['Santa Cruz','Santa fe','Mumbai','Delhi']\n",
      "2\n"
     ]
    }
   ],
   "source": [
    "# Method 2\n",
    "\n",
    "import ast\n",
    "\n",
    "input_list = ast.literal_eval(input())\n",
    "\n",
    "count=0\n",
    "\n",
    "for x in input_list:\n",
    "    if x.startswith('S'):\n",
    "        count+=1\n",
    "print(count)\n",
    "    "
   ]
  },
  {
   "cell_type": "code",
   "execution_count": 32,
   "id": "7d5dcfe7",
   "metadata": {},
   "outputs": [
    {
     "name": "stdout",
     "output_type": "stream",
     "text": [
      "['Santa Cruz','Santa fe','Mumbai','Delhi']\n",
      "2\n"
     ]
    }
   ],
   "source": [
    "# Method 3\n",
    "\n",
    "import ast\n",
    "\n",
    "input_list = ast.literal_eval(input())\n",
    "\n",
    "count=0\n",
    "\n",
    "for x in input_list:\n",
    "    if x[0] in 'S':\n",
    "        count+=1\n",
    "print(count)"
   ]
  },
  {
   "cell_type": "markdown",
   "id": "c2a06afc",
   "metadata": {},
   "source": [
    "# 37.\n",
    "\n",
    "Map Function\n",
    "\n",
    "Description\n",
    "\n",
    "Create a list ‘name’ consisting of the combination of the first name and the second name from list 1 and 2 respectively. \n",
    "\n",
    "For e.g. if the input list is:\n",
    "[ ['Ankur', 'Avik', 'Kiran', 'Nitin'], ['Narang', 'Sarkar', 'R', 'Sareen']]\n",
    "\n",
    "the output list should be the list:\n",
    "['Ankur Narang', 'Avik Sarkar', 'Kiran R', 'Nitin Sareen']\n",
    "\n",
    "Note: Add a space between first name and last name."
   ]
  },
  {
   "cell_type": "code",
   "execution_count": 36,
   "id": "6c59b323",
   "metadata": {},
   "outputs": [
    {
     "name": "stdout",
     "output_type": "stream",
     "text": [
      "[ ['Ankur', 'Avik', 'Kiran', 'Nitin'], ['Narang', 'Sarkar', 'R', 'Sareen']]\n",
      "['Ankur Narang', 'Avik Sarkar', 'Kiran R', 'Nitin Sareen']\n"
     ]
    }
   ],
   "source": [
    "import ast\n",
    "\n",
    "input_list = ast.literal_eval(input())\n",
    "\n",
    "first_name=input_list[0]\n",
    "second_name=input_list[1]\n",
    "\n",
    "name=list(map(lambda x,y: x+' '+y,first_name,second_name))\n",
    "print(name)"
   ]
  },
  {
   "cell_type": "markdown",
   "id": "da228daa",
   "metadata": {},
   "source": [
    "# 38.\n",
    "Filter Function\n",
    "\n",
    "Description\n",
    "\n",
    "Extract a list of numbers that are multiples of 5 from a list of integers named input_list.\n",
    "\n",
    "Sample Input:\n",
    "\n",
    "[1, 2, 3, 4, 5, 6, 7, 8, 9, 10, 11, 12, 13, 14, 15, 16, 17, 18, 19, 20, 21, 22, 23, 24, 25, 26, 27, 28, 29, 30, 31, 32, 33, 34, 35, 36, 37, 38, 39, 40, 41, 42, 43, 44, 45, 46, 47, 48, 49, 50]\n",
    "\n",
    "Sample Output:\n",
    "\n",
    "[5, 10, 15, 20, 25, 30, 35, 40, 45, 50]\n",
    "\n",
    "Note: Use the filter() function."
   ]
  },
  {
   "cell_type": "code",
   "execution_count": 39,
   "id": "153e9a53",
   "metadata": {},
   "outputs": [
    {
     "name": "stdout",
     "output_type": "stream",
     "text": [
      "[1, 2, 3, 4, 5, 6, 7, 8, 9, 10, 11, 12, 13, 14, 15, 16, 17, 18, 19, 20, 21, 22, 23, 24, 25, 26, 27, 28, 29, 30, 31, 32, 33, 34, 35, 36, 37, 38, 39, 40, 41, 42, 43, 44, 45, 46, 47, 48, 49, 50]\n"
     ]
    },
    {
     "data": {
      "text/plain": [
       "[5, 10, 15, 20, 25, 30, 35, 40, 45, 50]"
      ]
     },
     "execution_count": 39,
     "metadata": {},
     "output_type": "execute_result"
    }
   ],
   "source": [
    "import ast\n",
    "\n",
    "input_list = ast.literal_eval(input())\n",
    "\n",
    "output = list(filter(lambda x:x%5==0,input_list))\n",
    "output"
   ]
  },
  {
   "cell_type": "markdown",
   "id": "4fe325ae",
   "metadata": {},
   "source": [
    "# 39.\n",
    "\n",
    "Filter Function\n",
    "\n",
    "Description\n",
    "\n",
    "You are given a list of strings such as input_list = ['hdjk', 'salsap', 'sherpa'].\n",
    "\n",
    "Extract a list of names that start with an ‘s’ and end with a ‘p’ (both 's' and 'p' are lowercase) in input_list.\n",
    "\n",
    "Sample Input:\n",
    "\n",
    "['soap','sharp','shy','silent','ship','summer','sheep']\n",
    "\n",
    "Sample Output:\n",
    "\n",
    "['soap', 'sharp', 'ship', 'sheep']\n",
    "\n",
    "Note: Use the filter() function."
   ]
  },
  {
   "cell_type": "code",
   "execution_count": 42,
   "id": "ecb41390",
   "metadata": {},
   "outputs": [
    {
     "name": "stdout",
     "output_type": "stream",
     "text": [
      "['soap','sharp','shy','silent','ship','summer','sheep']\n"
     ]
    },
    {
     "data": {
      "text/plain": [
       "['soap', 'sharp', 'ship', 'sheep']"
      ]
     },
     "execution_count": 42,
     "metadata": {},
     "output_type": "execute_result"
    }
   ],
   "source": [
    "import ast\n",
    "\n",
    "input_list = ast.literal_eval(input())\n",
    "\n",
    "output=list(filter(lambda x: x[0]=='s' and x[-1]=='p',input_list))\n",
    "output"
   ]
  },
  {
   "cell_type": "markdown",
   "id": "d10647c4",
   "metadata": {},
   "source": [
    "# 40.\n",
    "\n",
    "Reduce Function\n",
    "\n",
    "Description\n",
    "\n",
    "Using the Reduce function, concatenate a list of words in input_list, and print the output as a string.\n",
    "\n",
    "If input_list = ['I','Love','Python'], the output should be the string 'I Love Python'.\n",
    "\n",
    "Sample Input:\n",
    "\n",
    "['All','you','have','to','fear','is','fear','itself']\n",
    "\n",
    "Sample Output:\n",
    "\n",
    "All you have to fear is fear itself"
   ]
  },
  {
   "cell_type": "code",
   "execution_count": 44,
   "id": "980ab20f",
   "metadata": {},
   "outputs": [
    {
     "name": "stdout",
     "output_type": "stream",
     "text": [
      "['All','you','have','to','fear','is','fear','itself']\n"
     ]
    },
    {
     "data": {
      "text/plain": [
       "'All you have to fear is fear itself'"
      ]
     },
     "execution_count": 44,
     "metadata": {},
     "output_type": "execute_result"
    }
   ],
   "source": [
    "import ast\n",
    "\n",
    "input_list=ast.literal_eval(input())\n",
    "\n",
    "from functools import reduce\n",
    "\n",
    "output= reduce(lambda x,y: x+\" \"+y,input_list)\n",
    "output"
   ]
  },
  {
   "cell_type": "markdown",
   "id": "be1a40c7",
   "metadata": {},
   "source": [
    "# 41.\n",
    "\n",
    "Reduce Function\n",
    "\n",
    "Description\n",
    "\n",
    "You are given a list of numbers such as input_list = [31, 63, 76, 89]. Find and print the largest number in input_list using the reduce() function.\n",
    "\n",
    "Sample Input:\n",
    "\n",
    "[65,76,87,23,12,90,99]\n",
    "\n",
    "Sample Output:\n",
    "\n",
    "99"
   ]
  },
  {
   "cell_type": "code",
   "execution_count": 46,
   "id": "4749f1c4",
   "metadata": {},
   "outputs": [
    {
     "name": "stdout",
     "output_type": "stream",
     "text": [
      "[65,76,87,23,12,90,99]\n"
     ]
    },
    {
     "data": {
      "text/plain": [
       "99"
      ]
     },
     "execution_count": 46,
     "metadata": {},
     "output_type": "execute_result"
    }
   ],
   "source": [
    "import ast\n",
    "\n",
    "input_list = ast.literal_eval(input())\n",
    "\n",
    "max_num = reduce(lambda x,y: x if x>y else y, input_list )\n",
    "\n",
    "max_num"
   ]
  },
  {
   "cell_type": "markdown",
   "id": "dad403b9",
   "metadata": {},
   "source": [
    "## <font color= blue>(Week-3) Bootcamp Practice Questions </font>\n",
    "### <font color= blue> Practice Questions MCQ </font>"
   ]
  },
  {
   "cell_type": "code",
   "execution_count": 60,
   "id": "23e6e409",
   "metadata": {},
   "outputs": [
    {
     "name": "stdout",
     "output_type": "stream",
     "text": [
      "[('I', 1), ('LOVE', 4), ('PYTHON', 6)]\n"
     ]
    }
   ],
   "source": [
    "# 42.\n",
    "#What will be the output of the following code?\n",
    "\n",
    "input_string = \"I love Python\"\n",
    "k = [(i.upper(), len(i)) for i in input_string.split(' ')]\n",
    "print(k)"
   ]
  },
  {
   "cell_type": "code",
   "execution_count": 61,
   "id": "53106a0f",
   "metadata": {},
   "outputs": [
    {
     "name": "stdout",
     "output_type": "stream",
     "text": [
      "[0, 1, 4, 9, 16]\n"
     ]
    }
   ],
   "source": [
    "# 43.\n",
    "#What will be the output of the following code snippet?\n",
    "\n",
    "var = [i**2 for i in range(5)]\n",
    "print(var)"
   ]
  },
  {
   "cell_type": "code",
   "execution_count": 62,
   "id": "5a0d5a43",
   "metadata": {},
   "outputs": [
    {
     "data": {
      "text/plain": [
       "[5, 6, 7, 10, 6, 7, 8, 11, 7, 8, 9, 12, 11, 12, 13, 16]"
      ]
     },
     "execution_count": 62,
     "metadata": {},
     "output_type": "execute_result"
    }
   ],
   "source": [
    "# 44.\n",
    "#What will be the output of the following code?\n",
    "\n",
    "l1=[1,2,3,7]\n",
    "l2=[4,5,6,9]\n",
    "[x+y for x in l1 for y in l2]"
   ]
  },
  {
   "cell_type": "code",
   "execution_count": 63,
   "id": "b99eec14",
   "metadata": {},
   "outputs": [
    {
     "name": "stdout",
     "output_type": "stream",
     "text": [
      "None\n"
     ]
    }
   ],
   "source": [
    "# 45.\n",
    "# Functions in Python\n",
    "#What will be the output of the following?\n",
    "\n",
    "def function(n):\n",
    "  n=n+1\n",
    " \n",
    "n=2\n",
    "print(function(2))"
   ]
  },
  {
   "cell_type": "code",
   "execution_count": 64,
   "id": "facf1279",
   "metadata": {},
   "outputs": [
    {
     "name": "stdout",
     "output_type": "stream",
     "text": [
      "10\n",
      "10\n"
     ]
    }
   ],
   "source": [
    "# 46.\n",
    "#What will be the output of the below code?\n",
    "\n",
    "x=10\n",
    "def func(x):\n",
    "   x=20\n",
    "print(x)\n",
    " \n",
    "print(x)"
   ]
  },
  {
   "cell_type": "code",
   "execution_count": 65,
   "id": "ba546900",
   "metadata": {},
   "outputs": [
    {
     "name": "stdout",
     "output_type": "stream",
     "text": [
      "pythonpythonpythonpython\n",
      "programprogramprogram\n"
     ]
    }
   ],
   "source": [
    "# 47\n",
    "#What will be the output of the following?\n",
    "\n",
    "def samplefunc(msg,i=3):\n",
    "  print(msg*i)\n",
    " \n",
    "samplefunc('python',4)\n",
    "samplefunc('program')"
   ]
  },
  {
   "cell_type": "code",
   "execution_count": 66,
   "id": "ea3cb16c",
   "metadata": {},
   "outputs": [
    {
     "name": "stdout",
     "output_type": "stream",
     "text": [
      "0\n"
     ]
    }
   ],
   "source": [
    "#48\n",
    "#What will be the output of the following program?\n",
    "\n",
    "f=lambda x:bool(x%2)\n",
    "print(f(100)* f(101))"
   ]
  },
  {
   "cell_type": "code",
   "execution_count": 67,
   "id": "30699927",
   "metadata": {},
   "outputs": [
    {
     "name": "stdout",
     "output_type": "stream",
     "text": [
      "[0, -1, -2, 2, 2]\n"
     ]
    }
   ],
   "source": [
    "# 49.\n",
    "#What will be the answer printed when the following code is executed?\n",
    "\n",
    "l=(1, -2, -3, 4, 5)\n",
    "def f1(x):\n",
    "    return x//2\n",
    "m1=map(f1, l)\n",
    "print(list(m1))"
   ]
  },
  {
   "cell_type": "code",
   "execution_count": 68,
   "id": "355cad61",
   "metadata": {},
   "outputs": [
    {
     "name": "stdout",
     "output_type": "stream",
     "text": [
      "0\n"
     ]
    }
   ],
   "source": [
    "#50.\n",
    "#What will be the output of the code below?\n",
    "\n",
    "from functools import reduce\n",
    "numbers = [-1, 2, -5, 3, 8,-2, 1,-4,-2]\n",
    "sum = reduce(lambda x, y: x + y, numbers)\n",
    "print(sum)"
   ]
  },
  {
   "cell_type": "code",
   "execution_count": 69,
   "id": "06f9be95",
   "metadata": {},
   "outputs": [
    {
     "name": "stdout",
     "output_type": "stream",
     "text": [
      "<map object at 0x00000267D689BC10>\n"
     ]
    }
   ],
   "source": [
    "# 51.\n",
    "#What will be the output of the following code?\n",
    "\n",
    "sample=[-4,2,5,-3]\n",
    "ans=map(lambda x: x*2, sample)\n",
    "print(ans)"
   ]
  },
  {
   "cell_type": "code",
   "execution_count": 70,
   "id": "3afeaa2b",
   "metadata": {},
   "outputs": [
    {
     "ename": "TypeError",
     "evalue": "'int' object is not iterable",
     "output_type": "error",
     "traceback": [
      "\u001b[1;31m---------------------------------------------------------------------------\u001b[0m",
      "\u001b[1;31mTypeError\u001b[0m                                 Traceback (most recent call last)",
      "Input \u001b[1;32mIn [70]\u001b[0m, in \u001b[0;36m<cell line: 5>\u001b[1;34m()\u001b[0m\n\u001b[0;32m      1\u001b[0m \u001b[38;5;66;03m# 52.\u001b[39;00m\n\u001b[0;32m      2\u001b[0m \u001b[38;5;66;03m#What will be the output of the following code snippet?\u001b[39;00m\n\u001b[0;32m      4\u001b[0m \u001b[38;5;28;01mfrom\u001b[39;00m \u001b[38;5;21;01mfunctools\u001b[39;00m \u001b[38;5;28;01mimport\u001b[39;00m reduce\n\u001b[1;32m----> 5\u001b[0m \u001b[38;5;28mprint\u001b[39m(\u001b[38;5;28;43mlist\u001b[39;49m\u001b[43m(\u001b[49m\u001b[43mreduce\u001b[49m\u001b[43m(\u001b[49m\u001b[38;5;28;43;01mlambda\u001b[39;49;00m\u001b[43m \u001b[49m\u001b[43mx\u001b[49m\u001b[43m,\u001b[49m\u001b[43my\u001b[49m\u001b[43m:\u001b[49m\u001b[43mx\u001b[49m\u001b[38;5;241;43m+\u001b[39;49m\u001b[43my\u001b[49m\u001b[43m,\u001b[49m\u001b[38;5;28;43mrange\u001b[39;49m\u001b[43m(\u001b[49m\u001b[38;5;241;43m5\u001b[39;49m\u001b[43m,\u001b[49m\u001b[38;5;241;43m15\u001b[39;49m\u001b[43m)\u001b[49m\u001b[43m)\u001b[49m\u001b[43m)\u001b[49m)\n",
      "\u001b[1;31mTypeError\u001b[0m: 'int' object is not iterable"
     ]
    }
   ],
   "source": [
    "# 52.\n",
    "#What will be the output of the following code snippet?\n",
    "\n",
    "from functools import reduce\n",
    "print(list(reduce(lambda x,y:x+y,range(5,15))))"
   ]
  },
  {
   "cell_type": "code",
   "execution_count": 71,
   "id": "05c2f9e2",
   "metadata": {},
   "outputs": [
    {
     "name": "stdout",
     "output_type": "stream",
     "text": [
      "1\n",
      "1\n"
     ]
    }
   ],
   "source": [
    "#53.\n",
    "#Is the output of the following two code snippets the same? Are they logically the same for any values in ‘lis’?\n",
    "\n",
    "import functools\n",
    "lis=[1, 2, 3, 4, 5]\n",
    "m=functools.reduce(lambda x, y:x if x<y else y, lis)\n",
    "print(m)\n",
    "lis=[1, 2, 3, 4, 5]\n",
    "c=lis[0]\n",
    "for i in range(len(lis)-1):\n",
    "    if lis[i]<c:\n",
    "       c=lis[i]\n",
    "print(c)"
   ]
  },
  {
   "cell_type": "code",
   "execution_count": 72,
   "id": "ffecc765",
   "metadata": {},
   "outputs": [
    {
     "name": "stdout",
     "output_type": "stream",
     "text": [
      "['dx', 'ix', 'ax', 'sx']\n"
     ]
    }
   ],
   "source": [
    "#54\n",
    "#What will be the output of the following code?\n",
    "\n",
    "letters = ('d','i','a','s')\n",
    "ans = list(map(lambda word: f\"{word}x\", letters))\n",
    "print(ans)"
   ]
  },
  {
   "cell_type": "code",
   "execution_count": 73,
   "id": "46aa8e62",
   "metadata": {},
   "outputs": [
    {
     "name": "stdout",
     "output_type": "stream",
     "text": [
      "[12, 20, 28]\n"
     ]
    }
   ],
   "source": [
    "#55.\n",
    "#Read the following code. Select from the given options the length of the list printed. (Do not run it on the notebook. Try solving manually.)\n",
    "\n",
    "def sf(a):\n",
    "    return a%4==0 and a%8!=0\n",
    "m=filter(sf, range(10, 31))\n",
    "print(list(m))"
   ]
  },
  {
   "cell_type": "markdown",
   "id": "9c61ca28",
   "metadata": {},
   "source": [
    "## <font color= blue> Practice Questions I </font>"
   ]
  },
  {
   "cell_type": "markdown",
   "id": "0c0745fb",
   "metadata": {},
   "source": [
    "# 56.\n",
    "\n",
    "Even numbers in a list\n",
    "\n",
    "Description\n",
    "\n",
    "Given a list of integers, write a python code to find all the even numbers present in the list.\n",
    "\n",
    "Note: Try using lambda and filter functions to solve the problem.\n",
    "\n",
    "Input: A list of integers\n",
    "\n",
    "Output: A list of integers\n",
    "\n",
    "----------------------------------------------------------------------\n",
    "Sample input: [5, 7, 22, 97, 54, 62, 77, 23, 73, 61] \n",
    "\n",
    "Sample output: [22, 54, 62]\n",
    "\n",
    "----------------------------------------------------------------------\n",
    "Sample input: [500, 789, 2112, 9097, 5894, 9062, 8977, 1223, 773, 600]\n",
    "\n",
    "Sample output: [500, 2112, 5894, 9062, 600]"
   ]
  },
  {
   "cell_type": "code",
   "execution_count": 82,
   "id": "4af1ea79",
   "metadata": {},
   "outputs": [
    {
     "name": "stdout",
     "output_type": "stream",
     "text": [
      "[500, 789, 2112, 9097, 5894, 9062, 8977, 1223, 773, 600]\n",
      "[500, 2112, 5894, 9062, 600]\n"
     ]
    }
   ],
   "source": [
    "#Method 1 using filter and lambda function\n",
    "\n",
    "import ast\n",
    "\n",
    "input_list = ast.literal_eval(input())\n",
    "\n",
    "#since the result is a subset of the input list, we will use the filter function. \n",
    "#instead of for loop, we will use the lambda function.  \n",
    "\n",
    "even_num = list(filter(lambda x: x%2==0,input_list))\n",
    "\n",
    "print(even_num)"
   ]
  },
  {
   "cell_type": "code",
   "execution_count": 77,
   "id": "494b7cc8",
   "metadata": {},
   "outputs": [
    {
     "name": "stdout",
     "output_type": "stream",
     "text": [
      "[5, 7, 22, 97, 54, 62, 77, 23, 73, 61]\n",
      "[22, 54, 62]\n"
     ]
    }
   ],
   "source": [
    "#Method 2 using loop\n",
    "\n",
    "import ast\n",
    "\n",
    "input_list=ast.literal_eval(input())\n",
    "\n",
    "count=0\n",
    "even_num = []\n",
    "\n",
    "for x in input_list:\n",
    "    if int(x)%2==0:\n",
    "        count+=1\n",
    "        even_num.append(x)\n",
    "print(even_num)     \n"
   ]
  },
  {
   "cell_type": "code",
   "execution_count": 79,
   "id": "61004422",
   "metadata": {},
   "outputs": [
    {
     "name": "stdout",
     "output_type": "stream",
     "text": [
      "[5, 7, 22, 97, 54, 62, 77, 23, 73, 61]\n",
      "[22, 54, 62]\n"
     ]
    }
   ],
   "source": [
    "# Method 3 using list comprehension\n",
    "\n",
    "import ast\n",
    "\n",
    "input_list=ast.literal_eval(input())\n",
    "\n",
    "even_num = [x for x in input_list if (x)%2==0]\n",
    "\n",
    "print(even_num)"
   ]
  },
  {
   "cell_type": "markdown",
   "id": "5904f9ea",
   "metadata": {},
   "source": [
    "# 57.\n",
    "\n",
    "Triple the list elements\n",
    "\n",
    "Description\n",
    "\n",
    "Given a list of integers, write a python code to triple all the values in the list.\n",
    "\n",
    "Note: Try using lambda and map functions to solve the problem.\n",
    "\n",
    "Input: A list of integers\n",
    "\n",
    "Output: A list of integers\n",
    "\n",
    "----------------------------------------------------------------------\n",
    "Sample input: [5, 7, 22, 97, 54, 62, 77, 23, 73, 61]\n",
    "\n",
    "Output: [15, 21, 66, 291, 162, 186, 231, 69, 219, 183]\n",
    "\n",
    "---------------------------------------------------------------------\n",
    "Sample input: [15, 71, 2, 9, 5, 6, 11, 3, 7, 6]\n",
    "\n",
    "Output: [45, 213, 6, 27, 15, 18, 33, 9, 21, 18]"
   ]
  },
  {
   "cell_type": "code",
   "execution_count": 83,
   "id": "fe6efdf4",
   "metadata": {},
   "outputs": [
    {
     "name": "stdout",
     "output_type": "stream",
     "text": [
      "[5, 7, 22, 97, 54, 62, 77, 23, 73, 61]\n",
      "[15, 21, 66, 291, 162, 186, 231, 69, 219, 183]\n"
     ]
    }
   ],
   "source": [
    "# Metheod 1 Using map and lambda function\n",
    "\n",
    "import ast\n",
    "\n",
    "input_list = ast.literal_eval(input())\n",
    "\n",
    "#mapping lambda function to each element of the input_list\n",
    "\n",
    "list_value_3x = list(map(lambda x: x*3, input_list))\n",
    "\n",
    "print(list_value_3x)"
   ]
  },
  {
   "cell_type": "code",
   "execution_count": 84,
   "id": "a34577d3",
   "metadata": {},
   "outputs": [
    {
     "name": "stdout",
     "output_type": "stream",
     "text": [
      "[5, 7, 22, 97, 54, 62, 77, 23, 73, 61]\n",
      "[15, 21, 66, 291, 162, 186, 231, 69, 219, 183]\n"
     ]
    }
   ],
   "source": [
    "# Method 2 using list comprehension\n",
    "\n",
    "import ast\n",
    "\n",
    "input_list = ast.literal_eval(input())\n",
    "\n",
    "list_value_3x = [x*3 for x in input_list]\n",
    "\n",
    "print(list_value_3x)\n"
   ]
  },
  {
   "cell_type": "code",
   "execution_count": 86,
   "id": "0777cef5",
   "metadata": {},
   "outputs": [
    {
     "name": "stdout",
     "output_type": "stream",
     "text": [
      "[5, 7, 22, 97, 54, 62, 77, 23, 73, 61]\n",
      "[15, 21, 66, 291, 162, 186, 231, 69, 219, 183]\n"
     ]
    }
   ],
   "source": [
    "# Method 3 using loop\n",
    "\n",
    "import ast\n",
    "\n",
    "input_list = ast.literal_eval(input())\n",
    "\n",
    "list_value_3x =[]\n",
    "\n",
    "for x in input_list:\n",
    "    x = x*3\n",
    "    list_value_3x.append(x)\n",
    "\n",
    "print(list_value_3x)"
   ]
  },
  {
   "cell_type": "markdown",
   "id": "f207e43f",
   "metadata": {},
   "source": [
    "# 58.\n",
    "\n",
    "Encrypt elements in a list\n",
    "\n",
    "Description\n",
    "\n",
    "A company stores the names of their employees in a list. They want to encrypt the names so that no one can read them and the data stays safe. One of the steps in encrypting is to reverse each name in the list and convert them to uppercase and your task is to write a Python code to execute the same.\n",
    "\n",
    "Note: Use lambda and map functions.\n",
    "\n",
    "Input: A list of names\n",
    "\n",
    "Output: A list of encrypted names\n",
    "\n",
    "----------------------------------------------------------------------\n",
    "Sample input: ['Ronaldo', 'Cristiano', 'Rakesh', 'Ronak']\n",
    "\n",
    "Sample output: ['ODLANOR', 'ONAITSIRC', 'HSEKAR', 'KANOR']\n",
    "\n",
    "----------------------------------------------------------------------\n",
    "Sample input: ['Abhay', 'Aravind', 'Desilva', 'Darpan']\n",
    "\n",
    "Sample output: ['YAHBA', 'DNIVARA', 'AVLISED', 'NAPRAD']"
   ]
  },
  {
   "cell_type": "code",
   "execution_count": 89,
   "id": "2935c473",
   "metadata": {},
   "outputs": [
    {
     "name": "stdout",
     "output_type": "stream",
     "text": [
      "['Ronaldo', 'Cristiano', 'Rakesh', 'Ronak']\n",
      "['ODLANOR', 'ONAITSIRC', 'HSEKAR', 'KANOR']\n"
     ]
    }
   ],
   "source": [
    "# Metheod 1 Using map and lambda function\n",
    "\n",
    "import ast\n",
    "\n",
    "input_list = ast.literal_eval(input())\n",
    "\n",
    "#Here, we intend to change all names by reversing the string and converting  them to upper case\n",
    "encrypt_names =list(map(lambda x:x.upper()[::-1],input_list))\n",
    "\n",
    "print(encrypt_names) "
   ]
  },
  {
   "cell_type": "code",
   "execution_count": 90,
   "id": "01fe2066",
   "metadata": {},
   "outputs": [
    {
     "name": "stdout",
     "output_type": "stream",
     "text": [
      "['Abhay', 'Aravind', 'Desilva', 'Darpan']\n",
      "['YAHBA', 'DNIVARA', 'AVLISED', 'NAPRAD']\n"
     ]
    }
   ],
   "source": [
    "# Method 2 using list comprehension\n",
    "\n",
    "import ast\n",
    "\n",
    "input_list = ast.literal_eval(input())\n",
    "\n",
    "encrypt_names = [x.upper()[::-1] for x in input_list]\n",
    "\n",
    "print(encrypt_names) "
   ]
  },
  {
   "cell_type": "code",
   "execution_count": 91,
   "id": "8dac1c07",
   "metadata": {},
   "outputs": [
    {
     "name": "stdout",
     "output_type": "stream",
     "text": [
      "['Abhay', 'Aravind', 'Desilva', 'Darpan']\n",
      "['YAHBA', 'DNIVARA', 'AVLISED', 'NAPRAD']\n"
     ]
    }
   ],
   "source": [
    "# Method 3 using loop\n",
    "\n",
    "import ast\n",
    "\n",
    "input_list = ast.literal_eval(input())\n",
    "\n",
    "encrypt_names =[]\n",
    "\n",
    "for x in input_list:\n",
    "    x=x.upper()[::-1]\n",
    "    encrypt_names.append(x)\n",
    "    \n",
    "print(encrypt_names)"
   ]
  },
  {
   "cell_type": "markdown",
   "id": "dcdd4ef3",
   "metadata": {},
   "source": [
    "## <font color= blue> Practice Questions II </font>"
   ]
  },
  {
   "cell_type": "markdown",
   "id": "d75dce3a",
   "metadata": {},
   "source": [
    "# 59.\n",
    "\n",
    "Sorting a dictionary\n",
    "\n",
    "Description\n",
    "\n",
    "Given is a list consisting of dictionary elements. Each dictionary contains the name of a student as a first item and his/her corresponding rank as the second item. Your task is to write a Python program to print the list (dictionary elements) in a sorted ascending order according to student ranks. In case the rank of two or more students are the same, then sort them in ascending order (alphabetically) according to their names.\n",
    "\n",
    "Note: Use the sorted() function to solve the question.\n",
    "\n",
    "Input: Dictionary\n",
    "\n",
    "Output: Dictionary\n",
    "\n",
    "----------------------------------------------------------------------\n",
    "Sample input: [{ \"name\" : \"Arpit\", \"rank\" : 20}, { \"name\" : \"Manjeet\", \"rank\" : 20 },{ \"name\" : \"Aravind\" , \"rank\" : 19 }]\n",
    "\n",
    "Sample output: [{ \"name\" : \"Aravind\" , \"rank\" : 19 }, { \"name\" : \"Arpit\", \"rank\" : 20}, { \"name\" : \"Manjeet\", \"rank\" : 20 },\n",
    "\n",
    "]\n",
    "\n",
    "----------------------------------------------------------------------\n",
    "Sample input: [{ \"name\" : \"Mohan\", \"rank\" : 2}, { \"name\" : \"Mandeep\", \"rank\" : 2 },\n",
    "\n",
    "{ \"name\" : \"Merut\" , \"rank\" : 2 }]\n",
    "\n",
    "Sample output: [{'name': 'Mandeep', 'rank': 2}, {'name': 'Merut', 'rank': 2}, {'name': 'Mohan', 'rank': 2}]"
   ]
  },
  {
   "cell_type": "code",
   "execution_count": 99,
   "id": "dc70a137",
   "metadata": {},
   "outputs": [
    {
     "name": "stdout",
     "output_type": "stream",
     "text": [
      "[{ \"name\" : \"Mohan\", \"rank\" : 2}, { \"name\" : \"Mandeep\", \"rank\" : 2 },  { \"name\" : \"Merut\" , \"rank\" : 2 }]\n",
      "[{'name': 'Mandeep', 'rank': 2}, {'name': 'Merut', 'rank': 2}, {'name': 'Mohan', 'rank': 2}]\n"
     ]
    }
   ],
   "source": [
    "# Metheod 1 Using sorted() and lambda function\n",
    "\n",
    "import ast\n",
    "\n",
    "input_list = ast.literal_eval(input())\n",
    "\n",
    "sorted_list = sorted(input_list,key = (lambda D:(D['rank'], D['name'])))\n",
    "\n",
    "print(sorted_list)"
   ]
  },
  {
   "cell_type": "code",
   "execution_count": 98,
   "id": "6b7bc889",
   "metadata": {},
   "outputs": [
    {
     "name": "stdout",
     "output_type": "stream",
     "text": [
      "[{ \"name\" : \"Arpit\", \"rank\" : 20}, { \"name\" : \"Manjeet\", \"rank\" : 20 },{ \"name\" : \"Aravind\" , \"rank\" : 19 }]\n",
      "[{'name': 'Aravind', 'rank': 19}, {'name': 'Arpit', 'rank': 20}, {'name': 'Manjeet', 'rank': 20}]\n"
     ]
    }
   ],
   "source": [
    "# Method 2 using itemgetter()\n",
    "\n",
    "import ast\n",
    "from operator import itemgetter\n",
    "\n",
    "input_list = ast.literal_eval(input())\n",
    "\n",
    "sorted_list = sorted(input_list,key = itemgetter('rank','name'))\n",
    "\n",
    "print(sorted_list)"
   ]
  },
  {
   "cell_type": "markdown",
   "id": "3aabe2cf",
   "metadata": {},
   "source": [
    "# 60.\n",
    "\n",
    "Intersection of lists\n",
    "\n",
    "Description\n",
    "\n",
    "In ‘ABC’ university, company ‘XYZ’ conducted three rounds of interviews to recruit students. Those students who passed all the rounds were selected. The company released the results for each round in a separate list. Your task is to write a Python code to display the list of the students who passed all the three rounds.\n",
    "\n",
    "Note: a. Name of the person can be given in uppercase or lowercase.\n",
    "\n",
    " b. Print the names in lowercase in the output.\n",
    "\n",
    "Input: List\n",
    "\n",
    "List\n",
    "\n",
    "List\n",
    "\n",
    "Output: List\n",
    "    \n",
    "----------------------------------------------------------------------\n",
    "Sample input: ['Arkam', 'Bairstow', 'Cairy', 'Darpan'] \n",
    "\n",
    " ['ARKAM', 'Bairstow', 'Cairy', 'Darpan', 'Dhoni', 'Sachin']\n",
    "\n",
    " ['arkam', 'bairstow', 'Cheteshwar', 'Dinesh']\n",
    "    \n",
    "Sample output: ['arkam', 'bairstow']\n",
    "\n",
    "----------------------------------------------------------------------\n",
    "Sample input: ['Pranay', 'Aditya', 'Deepesh', 'Sandesh']\n",
    "\n",
    "['Pranoy', 'Surya', 'Cairy', 'Vignesh', 'ADITYA', 'SANDesh']\n",
    "\n",
    "['Vardhan', 'Shailesh', 'aditya', 'sandesh']\n",
    "\n",
    "Sample output: ['aditya', 'sandesh']\n",
    "\n",
    "----------------------------------------------------------------------\n",
    "Sample input: ['Siddharth', 'Gaurav', 'Prasad', 'Kuldeep', 'karna']\n",
    "\n",
    "['siddharth', 'Gaurav', 'Prasad', 'Kuldeep', 'karna']\n",
    "\n",
    "['Siddharth', 'gaurav', 'PRASAD', 'KuLDEEp', 'KARNA']\n",
    "\n",
    "Sample output: ['siddharth', 'gaurav', 'prasad', 'kuldeep', 'karna']"
   ]
  },
  {
   "cell_type": "code",
   "execution_count": 109,
   "id": "c5f1cbf4",
   "metadata": {},
   "outputs": [
    {
     "name": "stdout",
     "output_type": "stream",
     "text": [
      "['Pranay', 'Aditya', 'Deepesh', 'Sandesh']\n",
      "['Pranoy', 'Surya', 'Cairy', 'Vignesh', 'ADITYA', 'SANDesh']\n",
      "['Vardhan', 'Shailesh', 'aditya', 'sandesh']\n",
      "['aditya', 'sandesh']\n"
     ]
    }
   ],
   "source": [
    "# Metheod 1 Using map() , filter() and lambda funtion\n",
    "\n",
    "import ast\n",
    "\n",
    "input_list1 = ast.literal_eval(input())\n",
    "input_list2 = ast.literal_eval(input())\n",
    "input_list3 = ast.literal_eval(input())\n",
    "\n",
    "#converting all the list of elements in lower case\n",
    "input_list1 = list(map(lambda m:m.lower(),input_list1))\n",
    "input_list2 = list(map(lambda m:m.lower(),input_list2))\n",
    "input_list3 = list(map(lambda m:m.lower(),input_list3))\n",
    "\n",
    "#Making a list of common elements in input_list1 & input_list2\n",
    "list1_list2 = list(filter(lambda x: x in input_list1,input_list2))\n",
    "\n",
    "#Making a list of common elements in input_list3 & list1_list2\n",
    "list1_list2_list3 =list(filter(lambda x: x in input_list3,list1_list2))\n",
    "\n",
    "#printing the list of common elements in all three list \n",
    "print(list1_list2_list3)\n"
   ]
  },
  {
   "cell_type": "code",
   "execution_count": 111,
   "id": "a342e963",
   "metadata": {},
   "outputs": [
    {
     "name": "stdout",
     "output_type": "stream",
     "text": [
      "['Vardhan', 'Shailesh', 'aditya', 'sandesh']\n",
      "['Pranoy', 'Surya', 'Cairy', 'Vignesh', 'ADITYA', 'SANDesh']\n",
      "['Pranay', 'Aditya', 'Deepesh', 'Sandesh']\n",
      "['aditya', 'sandesh']\n"
     ]
    }
   ],
   "source": [
    "# Metheod 1 Using map() and lambda funtion and loop\n",
    "\n",
    "import ast\n",
    "\n",
    "input_list1 = ast.literal_eval(input())\n",
    "input_list2 = ast.literal_eval(input())\n",
    "input_list3 = ast.literal_eval(input())\n",
    "\n",
    "#converting all the list of elements in lower case\n",
    "input_list1 = list(map(lambda m:m.lower(),input_list1))\n",
    "input_list2 = list(map(lambda m:m.lower(),input_list2))\n",
    "input_list3 = list(map(lambda m:m.lower(),input_list3))\n",
    "\n",
    "#creating a blank list to store all the common elements\n",
    "common_list=[]\n",
    "\n",
    "# initialising loop to check whether the elements are present in all three lists\n",
    "for item in input_list1:\n",
    "    if item in input_list2 and input_list3:\n",
    "        common_list.append(item)\n",
    "        \n",
    "print(common_list)"
   ]
  },
  {
   "cell_type": "markdown",
   "id": "1586b48e",
   "metadata": {},
   "source": [
    "# 61.\n",
    "\n",
    "Sorting a list of dictionary elements\n",
    "\n",
    "Description\n",
    "\n",
    "A teacher decided to divide the class into groups to conduct fun activities. Each group had one or more members in it. The data is provided in the form of a list with dictionary elements. The key and value in each dictionary correspond to the student’s roll number and his/her name.\n",
    "\n",
    "In case the length of two or more dictionaries are the same, then the dictionary that occurs first in the input list will also appear first among the other dictionaries of the same length.\n",
    "\n",
    "Your task is to write a Python program to sort the list in descending order with respect to the group strength.﻿\n",
    "\n",
    "Note: Use lambda and sorted functions to solve the question.\n",
    "\n",
    "Input: List\n",
    "\n",
    "Output: List\n",
    "\n",
    "----------------------------------------------------------------------\n",
    "Sample input: [{4: 'Viking', 9: 'Happy', 10: 'Tony', 2: 'Rogers'}, {12: 'Vikram', 19: 'Vipan'}, {3: 'Kohli'}, {1: 'Ronaldo', 29: 'Harish', 7: 'Ganesh'}]\n",
    "\n",
    "Sample output: [{4: 'Viking', 9: 'Happy', 10: 'Tony', 2: 'Rogers'}, {1: 'Ronaldo', 29: 'Harish', 7: 'Ganesh'}, {12: 'Vikram', 19: 'Vipan'}, {3: 'Kohli'}]\n",
    "\n",
    "----------------------------------------------------------------------\n",
    "Sample input: [{14: 'Darpan', 19: 'Harry', 10: 'Julia'}, {12: 'Ethan', 19: 'Rogers'}, {3: 'Kohli', 1: 'Neymar', 29: 'Sachin', 7: 'Ramesh'}]\n",
    "\n",
    "Sample output: [{3: 'Kohli', 1: 'Neymar', 29: 'Sachin', 7: 'Ramesh'}, {14: 'Darpan', 19: 'Harry', 10: 'Julia'}, {12: 'Ethan', 19: 'Rogers'}]"
   ]
  },
  {
   "cell_type": "code",
   "execution_count": 118,
   "id": "3f76348e",
   "metadata": {},
   "outputs": [
    {
     "name": "stdout",
     "output_type": "stream",
     "text": [
      "[{14: 'Darpan', 19: 'Harry', 10: 'Julia'}, {12: 'Ethan', 19: 'Rogers'}, {3: 'Kohli', 1: 'Neymar', 29: 'Sachin', 7: 'Ramesh'}]\n",
      "[{3: 'Kohli', 1: 'Neymar', 29: 'Sachin', 7: 'Ramesh'}, {14: 'Darpan', 19: 'Harry', 10: 'Julia'}, {12: 'Ethan', 19: 'Rogers'}]\n"
     ]
    }
   ],
   "source": [
    "# Metheod 1 Using sorted() and lambda funtion \n",
    "\n",
    "import ast\n",
    "\n",
    "input_list = ast.literal_eval(input())\n",
    "\n",
    "#performing sort using sorted(), lambda for filtering. \n",
    "\n",
    "sorted_list = sorted(input_list, key=(lambda D:len(D)), reverse=True)\n",
    "\n",
    "print(sorted_list)"
   ]
  },
  {
   "cell_type": "code",
   "execution_count": null,
   "id": "4223ca71",
   "metadata": {},
   "outputs": [],
   "source": []
  },
  {
   "cell_type": "code",
   "execution_count": null,
   "id": "5ea1811a",
   "metadata": {},
   "outputs": [],
   "source": []
  }
 ],
 "metadata": {
  "kernelspec": {
   "display_name": "Python 3 (ipykernel)",
   "language": "python",
   "name": "python3"
  },
  "language_info": {
   "codemirror_mode": {
    "name": "ipython",
    "version": 3
   },
   "file_extension": ".py",
   "mimetype": "text/x-python",
   "name": "python",
   "nbconvert_exporter": "python",
   "pygments_lexer": "ipython3",
   "version": "3.9.12"
  }
 },
 "nbformat": 4,
 "nbformat_minor": 5
}
